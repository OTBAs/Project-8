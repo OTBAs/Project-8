{
 "cells": [
  {
   "cell_type": "markdown",
   "metadata": {},
   "source": [
    "# Project 8: Backtesting\n",
    "\n",
    "In this project, you will build a fairly realistic backtester that uses the Barra data. The backtester will perform portfolio optimization that includes transaction costs, and you'll implement it with computational efficiency in mind, to allow for a reasonably fast backtest. You'll also use performance attribution to identify the major drivers of your portfolio's profit-and-loss (PnL). You will have the option to modify and customize the backtest as well.\n",
    "\n",
    "\n",
    "## Instructions\n",
    "\n",
    "Each problem consists of a function to implement and instructions on how to implement the function.  The parts of the function that need to be implemented are marked with a `# TODO` comment. Your code will be checked for the correct solution when you submit it to Udacity.\n",
    "\n",
    "\n",
    "## Packages\n",
    "\n",
    "When you implement the functions, you'll only need to you use the packages you've used in the classroom, like [Pandas](https://pandas.pydata.org/) and [Numpy](http://www.numpy.org/). These packages will be imported for you. We recommend you don't add any import statements, otherwise the grader might not be able to run your code.\n",
    "\n",
    "### Install Packages"
   ]
  },
  {
   "cell_type": "code",
   "execution_count": 1,
   "metadata": {},
   "outputs": [
    {
     "name": "stdout",
     "output_type": "stream",
     "text": [
      "Requirement already satisfied: matplotlib==2.1.0 in /opt/conda/lib/python3.6/site-packages (from -r requirements.txt (line 1)) (2.1.0)\n",
      "Requirement already satisfied: numpy==1.16.1 in /opt/conda/lib/python3.6/site-packages (from -r requirements.txt (line 2)) (1.16.1)\n",
      "Requirement already satisfied: pandas==0.24.1 in /opt/conda/lib/python3.6/site-packages (from -r requirements.txt (line 3)) (0.24.1)\n",
      "Requirement already satisfied: patsy==0.5.1 in /opt/conda/lib/python3.6/site-packages (from -r requirements.txt (line 4)) (0.5.1)\n",
      "Requirement already satisfied: scipy==0.19.1 in /opt/conda/lib/python3.6/site-packages (from -r requirements.txt (line 5)) (0.19.1)\n",
      "Requirement already satisfied: statsmodels==0.9.0 in /opt/conda/lib/python3.6/site-packages (from -r requirements.txt (line 6)) (0.9.0)\n",
      "Requirement already satisfied: tqdm==4.19.5 in /opt/conda/lib/python3.6/site-packages (from -r requirements.txt (line 7)) (4.19.5)\n",
      "Requirement already satisfied: six>=1.10 in /opt/conda/lib/python3.6/site-packages (from matplotlib==2.1.0->-r requirements.txt (line 1)) (1.11.0)\n",
      "Requirement already satisfied: python-dateutil>=2.0 in /opt/conda/lib/python3.6/site-packages (from matplotlib==2.1.0->-r requirements.txt (line 1)) (2.6.1)\n",
      "Requirement already satisfied: pytz in /opt/conda/lib/python3.6/site-packages (from matplotlib==2.1.0->-r requirements.txt (line 1)) (2017.3)\n",
      "Requirement already satisfied: cycler>=0.10 in /opt/conda/lib/python3.6/site-packages/cycler-0.10.0-py3.6.egg (from matplotlib==2.1.0->-r requirements.txt (line 1)) (0.10.0)\n",
      "Requirement already satisfied: pyparsing!=2.0.4,!=2.1.2,!=2.1.6,>=2.0.1 in /opt/conda/lib/python3.6/site-packages (from matplotlib==2.1.0->-r requirements.txt (line 1)) (2.2.0)\n"
     ]
    }
   ],
   "source": [
    "import sys\n",
    "!{sys.executable} -m pip install -r requirements.txt"
   ]
  },
  {
   "cell_type": "markdown",
   "metadata": {},
   "source": [
    "### Load Packages"
   ]
  },
  {
   "cell_type": "code",
   "execution_count": 2,
   "metadata": {},
   "outputs": [],
   "source": [
    "import scipy\n",
    "import patsy\n",
    "import pickle\n",
    "\n",
    "import numpy as np\n",
    "import pandas as pd\n",
    "\n",
    "import scipy.sparse\n",
    "import matplotlib.pyplot as plt\n",
    "\n",
    "from statistics import median\n",
    "from scipy.stats import gaussian_kde\n",
    "from statsmodels.formula.api import ols\n",
    "from tqdm import tqdm"
   ]
  },
  {
   "cell_type": "markdown",
   "metadata": {},
   "source": [
    "## Load Data\n",
    "\n",
    "We’ll be using the Barra dataset to get factors that can be used to predict risk. Loading and parsing the raw Barra data can be a very slow process that can significantly slow down your backtesting. For this reason, it's important to pre-process the data beforehand. For your convenience, the Barra data has already been pre-processed for you and saved into pickle files. You will load the Barra data from these pickle files.\n",
    "\n",
    "In the code below, we start by loading `2004` factor data from the `pandas-frames.2004.pickle` file. We also load the `2003` and `2004` covariance data from the `covaraince.2003.pickle`  and `covaraince.2004.pickle` files. You are encouraged  to customize the data range for your backtest. For example, we recommend starting with two or three years of factor data. Remember that the covariance data should include all the years that you choose for the factor data,   and also one year earlier. For example, in the code below we are using  `2004` factor data, therefore, we must include `2004` in our covariance data, but also the previous year, `2003`. If you don't remember why must include this previous year, feel free to review the lessons."
   ]
  },
  {
   "cell_type": "code",
   "execution_count": 3,
   "metadata": {},
   "outputs": [],
   "source": [
    "barra_dir = '../../data/project_8_barra/'\n",
    "\n",
    "data = {}\n",
    "for year in [2004]:\n",
    "    fil = barra_dir + \"pandas-frames.\" + str(year) + \".pickle\"\n",
    "    data.update(pickle.load( open( fil, \"rb\" ) ))\n",
    "    \n",
    "covariance = {}\n",
    "for year in [2004]:\n",
    "    fil = barra_dir + \"covariance.\" + str(year) + \".pickle\"\n",
    "    covariance.update(pickle.load( open(fil, \"rb\" ) ))\n",
    "    \n",
    "daily_return = {}\n",
    "for year in [2004, 2005]:\n",
    "    fil = barra_dir + \"price.\" + str(year) + \".pickle\"\n",
    "    daily_return.update(pickle.load( open(fil, \"rb\" ) ))"
   ]
  },
  {
   "cell_type": "markdown",
   "metadata": {},
   "source": [
    "## Shift Daily Returns Data (TODO)\n",
    "\n",
    "In the cell below, we want to incorporate a realistic time delay that exists in live trading, we’ll use a two day delay for the `daily_return` data. That means the `daily_return` should be two days after the data in `data` and `cov_data`. Combine `daily_return` and `data` together in a dict called `frames`.\n",
    "\n",
    "Since reporting of PnL is usually for the date of the returns, make sure to use the two day delay dates (dates that match the `daily_return`) when building `frames`. This means calling `frames['20040108']` will get you the prices from \"20040108\" and the data from `data` at \"20040106\".\n",
    "\n",
    "Note: We're not shifting `covariance`, since we'll use the \"DataDate\" field in `frames` to lookup the covariance data. The \"DataDate\" field contains the date when the `data` in `frames` was recorded. For example, `frames['20040108']` will give you a value of \"20040106\" for the field \"DataDate\"."
   ]
  },
  {
   "cell_type": "code",
   "execution_count": 4,
   "metadata": {},
   "outputs": [],
   "source": [
    "frames ={}\n",
    "dlyreturn_n_days_delay = 2\n",
    "\n",
    "def na2z(x):\n",
    "    return(np.nan_to_num(x))\n",
    "\n",
    "def names_numeric_columns(df): \n",
    "    return(df.select_dtypes(include=[np.number]).columns.tolist())\n",
    "\n",
    "def clean_nas(df):\n",
    "    for x in names_numeric_columns(df): \n",
    "        df[x] = na2z(df[x])\n",
    "    return(df)\n",
    "\n",
    "# TODO: Implement\n",
    "date_shifts = zip(\n",
    "        sorted(data.keys()),\n",
    "        sorted(daily_return.keys())[dlyreturn_n_days_delay:len(data) + dlyreturn_n_days_delay])\n",
    "\n",
    "for data_date, price_date in date_shifts:\n",
    "    frames[price_date] = data[data_date].merge(daily_return[data_date], how='left' , on='Barrid')\n",
    "    frames[price_date] = clean_nas(frames[price_date])\n",
    "\n"
   ]
  },
  {
   "cell_type": "code",
   "execution_count": 5,
   "metadata": {},
   "outputs": [
    {
     "name": "stdout",
     "output_type": "stream",
     "text": [
      "        Barrid  USFASTD_1DREVRSL  USFASTD_AERODEF  USFASTD_AIRLINES  \\\n",
      "0      USA0001            -0.481            0.000               0.0   \n",
      "1      USA0011            -0.595            0.000               0.0   \n",
      "2      USA0031            -0.109            0.000               0.0   \n",
      "3      USA0062             0.163            0.431               0.0   \n",
      "4      USA00E2             0.064            0.000               0.0   \n",
      "5      USA00F1            -0.182            0.000               0.0   \n",
      "6      USA00G2             0.049            0.000               0.0   \n",
      "7      USA00H1            -0.049            0.000               0.0   \n",
      "8      USA00I1             0.098            0.000               0.0   \n",
      "9      USA00J1             0.120            0.000               0.0   \n",
      "10     USA00K1             0.135            0.000               0.0   \n",
      "11     USA00P1             0.513            0.000               0.0   \n",
      "12     USA00R1             0.219            0.000               0.0   \n",
      "13     USA00S1            -0.108            0.000               0.0   \n",
      "14     USA00V1            -0.299            0.000               0.0   \n",
      "15     USA0131            -0.084            1.000               0.0   \n",
      "16     USA0161             1.719            1.000               0.0   \n",
      "17     USA01I1            -0.151            0.000               0.0   \n",
      "18     USA01J2            -0.041            0.000               0.0   \n",
      "19     USA01L1             0.048            0.000               0.0   \n",
      "20     USA01P1             0.789            0.000               0.0   \n",
      "21     USA01Q1             0.088            0.000               0.0   \n",
      "22     USA0202             0.995            0.000               0.0   \n",
      "23     USA0231             0.448            0.000               0.0   \n",
      "24     USA0281            -0.328            0.000               0.0   \n",
      "25     USA0291             0.789            0.000               0.0   \n",
      "26     USA02A1            -0.138            0.000               0.0   \n",
      "27     USA02B1             0.850            0.000               0.0   \n",
      "28     USA02H1             0.229            0.000               0.0   \n",
      "29     USA02P1            -0.107            0.000               0.0   \n",
      "...        ...               ...              ...               ...   \n",
      "12408  USAZY41            -1.124            0.000               0.0   \n",
      "12409  USAZY51             0.100            0.000               0.0   \n",
      "12410  USAZY61             0.324            0.000               0.0   \n",
      "12411  USAZY71             0.044            0.000               0.0   \n",
      "12412  USAZYI1            -2.861            0.000               0.0   \n",
      "12413  USAZYJ1            -2.658            0.000               0.0   \n",
      "12414  USAZYK1            -0.300            0.000               0.0   \n",
      "12415  USAZYM1            -0.121            0.000               0.0   \n",
      "12416  USAZYR1             2.256            0.000               0.0   \n",
      "12417  USAZYS1             0.048            0.000               0.0   \n",
      "12418  USAZYT1             1.235            0.000               0.0   \n",
      "12419  USAZYV1            -0.120            0.000               0.0   \n",
      "12420  USAZYX1            -0.367            0.000               0.0   \n",
      "12421  USAZZ41             2.326            0.000               0.0   \n",
      "12422  USAZZ51            -0.019            0.000               0.0   \n",
      "12423  USAZZ61             2.794            0.000               0.0   \n",
      "12424  USAZZ71             0.107            0.000               0.0   \n",
      "12425  USAZZ81             0.012            0.000               0.0   \n",
      "12426  USAZZ91            -0.143            0.000               0.0   \n",
      "12427  USAZZA1            -0.011            0.000               0.0   \n",
      "12428  USAZZB1            -0.250            0.000               0.0   \n",
      "12429  USAZZD1             0.016            0.000               0.0   \n",
      "12430  USAZZF1            -0.928            0.000               0.0   \n",
      "12431  USAZZI1            -1.369            0.000               0.0   \n",
      "12432  USAZZJ1            -2.911            0.000               0.0   \n",
      "12433  USAZZL1            -2.730            0.000               0.0   \n",
      "12434  USAZZP1            -0.006            0.000               0.0   \n",
      "12435  USAZZR1            -0.176            0.000               0.0   \n",
      "12436  USAZZX1            -2.836            0.000               0.0   \n",
      "12437  USAZZY1             0.617            0.000               0.0   \n",
      "\n",
      "       USFASTD_ALUMSTEL  USFASTD_APPAREL  USFASTD_AUTO  USFASTD_BANKS  \\\n",
      "0                   0.0              0.0           0.0            0.0   \n",
      "1                   0.0              0.0           0.0            0.0   \n",
      "2                   0.0              0.0           0.0            0.0   \n",
      "3                   0.0              0.0           0.0            0.0   \n",
      "4                   0.0              0.0           0.0            0.0   \n",
      "5                   0.0              0.0           0.0            0.0   \n",
      "6                   0.0              0.0           0.0            0.0   \n",
      "7                   0.0              0.0           0.0            0.0   \n",
      "8                   0.0              0.0           0.0            0.0   \n",
      "9                   0.0              0.0           0.0            0.0   \n",
      "10                  0.0              0.0           0.0            0.0   \n",
      "11                  0.0              0.0           0.0            0.0   \n",
      "12                  0.0              0.0           0.0            0.0   \n",
      "13                  0.0              0.0           0.0            0.0   \n",
      "14                  0.0              0.0           0.0            0.0   \n",
      "15                  0.0              0.0           0.0            0.0   \n",
      "16                  0.0              0.0           0.0            0.0   \n",
      "17                  0.0              0.0           0.0            0.0   \n",
      "18                  0.0              0.0           0.0            0.0   \n",
      "19                  0.0              0.0           0.0            0.0   \n",
      "20                  0.0              0.0           0.0            0.0   \n",
      "21                  0.0              0.0           0.0            0.0   \n",
      "22                  0.0              0.0           0.0            0.0   \n",
      "23                  0.0              0.0           0.0            0.0   \n",
      "24                  0.0              0.0           0.0            0.0   \n",
      "25                  0.0              0.0           0.0            0.0   \n",
      "26                  0.0              0.0           0.0            0.0   \n",
      "27                  0.0              0.0           0.0            0.0   \n",
      "28                  0.0              0.0           0.0            1.0   \n",
      "29                  0.0              0.0           0.0            0.0   \n",
      "...                 ...              ...           ...            ...   \n",
      "12408               0.0              0.0           0.0            0.0   \n",
      "12409               0.0              0.0           0.0            0.0   \n",
      "12410               0.0              0.0           0.0            0.0   \n",
      "12411               0.0              0.0           0.0            0.0   \n",
      "12412               0.0              0.0           0.0            0.0   \n",
      "12413               0.0              0.0           0.0            0.0   \n",
      "12414               0.0              0.0           0.0            0.0   \n",
      "12415               0.0              0.0           0.0            0.0   \n",
      "12416               0.0              0.0           0.0            0.0   \n",
      "12417               0.0              0.0           0.0            0.0   \n",
      "12418               0.0              0.0           0.0            0.0   \n",
      "12419               0.0              0.0           0.0            0.0   \n",
      "12420               0.0              0.0           0.0            0.0   \n",
      "12421               0.0              0.0           0.0            0.0   \n",
      "12422               0.0              0.0           0.0            0.0   \n",
      "12423               0.0              0.0           0.0            0.0   \n",
      "12424               0.0              0.0           0.0            0.0   \n",
      "12425               0.0              0.0           0.0            0.0   \n",
      "12426               0.0              0.0           0.0            0.0   \n",
      "12427               0.0              0.0           0.0            0.0   \n",
      "12428               0.0              0.0           0.0            0.0   \n",
      "12429               0.0              0.0           0.0            0.0   \n",
      "12430               0.0              0.0           0.0            0.0   \n",
      "12431               0.0              0.0           0.0            0.0   \n",
      "12432               0.0              0.0           0.0            0.0   \n",
      "12433               0.0              0.0           0.0            0.0   \n",
      "12434               0.0              0.0           0.0            0.0   \n",
      "12435               0.0              0.0           0.0            0.0   \n",
      "12436               0.0              0.0           0.0            0.0   \n",
      "12437               0.0              0.0           0.0            0.0   \n",
      "\n",
      "       USFASTD_BETA  USFASTD_BEVTOB  ...  DailyVolume    ADTCA_30  \\\n",
      "0            -2.158           0.000  ...          0.0        0.00   \n",
      "1            -2.158           0.000  ...          0.0        0.00   \n",
      "2            -2.049           0.000  ...          0.0        0.00   \n",
      "3            -1.997           0.000  ...          0.0        0.00   \n",
      "4            -1.955           0.000  ...          0.0        0.00   \n",
      "5            -2.031           0.000  ...          0.0        0.00   \n",
      "6            -2.195           0.000  ...          0.0        0.00   \n",
      "7            -1.870           0.000  ...          0.0        0.00   \n",
      "8            -2.171           0.000  ...          0.0        0.00   \n",
      "9            -2.180           0.863  ...          0.0        0.00   \n",
      "10           -2.314           0.000  ...          0.0        0.00   \n",
      "11           -1.085           0.000  ...          0.0        0.00   \n",
      "12           -1.591           0.000  ...          0.0        0.00   \n",
      "13           -1.215           0.000  ...      48965.0        0.00   \n",
      "14           -2.158           0.000  ...          0.0        0.00   \n",
      "15           -2.420           0.000  ...          0.0        0.00   \n",
      "16           -1.186           0.000  ...        925.0        0.00   \n",
      "17           -1.932           0.000  ...          0.0        0.00   \n",
      "18           -2.038           0.000  ...          0.0        0.00   \n",
      "19           -1.973           0.000  ...          0.0        0.00   \n",
      "20           -1.775           0.000  ...          0.0        0.00   \n",
      "21           -2.607           1.000  ...          0.0        0.00   \n",
      "22           -0.180           0.000  ...          0.0        0.00   \n",
      "23           -1.893           0.000  ...          0.0        0.00   \n",
      "24           -2.145           0.000  ...          0.0        0.00   \n",
      "25           -1.158           0.000  ...          0.0        0.00   \n",
      "26           -2.123           0.000  ...          0.0        0.00   \n",
      "27           -1.286           0.000  ...        250.0        0.00   \n",
      "28           -1.408           0.000  ...          0.0        0.00   \n",
      "29           -2.158           0.000  ...        710.0        0.00   \n",
      "...             ...             ...  ...          ...         ...   \n",
      "12408        -2.158           0.000  ...          0.0        0.00   \n",
      "12409        -1.401           0.000  ...        300.0     2206.76   \n",
      "12410        -0.585           0.000  ...          0.0        0.00   \n",
      "12411        -0.213           0.000  ...          0.0        0.00   \n",
      "12412        -0.554           0.000  ...       4200.0     3204.85   \n",
      "12413        -0.433           0.000  ...       5000.0     1064.00   \n",
      "12414         0.023           0.000  ...       2000.0      768.75   \n",
      "12415         0.169           0.000  ...          0.0        0.00   \n",
      "12416        -0.969           0.000  ...     269023.0    82575.74   \n",
      "12417         0.184           0.000  ...          0.0        0.00   \n",
      "12418        -0.973           0.000  ...     108110.0    63912.64   \n",
      "12419        -0.741           0.000  ...     668080.0    11193.58   \n",
      "12420        -1.372           0.000  ...          0.0        0.00   \n",
      "12421        -1.517           0.000  ...      78300.0    13650.56   \n",
      "12422        -0.366           0.000  ...          0.0        0.00   \n",
      "12423        -0.776           0.000  ...     248942.0     2303.00   \n",
      "12424        -0.792           0.000  ...          0.0        0.00   \n",
      "12425        -1.535           1.000  ...      38300.0  1219614.80   \n",
      "12426         0.106           0.000  ...          0.0        0.00   \n",
      "12427        -0.513           0.000  ...          0.0        0.00   \n",
      "12428        -1.576           0.000  ...          0.0        0.00   \n",
      "12429         0.137           0.000  ...     182800.0     3508.70   \n",
      "12430        -0.406           0.000  ...       2312.0     4053.57   \n",
      "12431        -0.530           1.000  ...     160000.0     1583.17   \n",
      "12432        -1.930           0.000  ...          0.0        0.00   \n",
      "12433        -0.257           0.000  ...       4100.0    22857.00   \n",
      "12434        -1.103           1.000  ...          0.0        0.00   \n",
      "12435        -1.147           0.000  ...          0.0        0.00   \n",
      "12436         0.108           0.000  ...     150000.0     3999.19   \n",
      "12437        -0.322           0.000  ...     130500.0  2994381.25   \n",
      "\n",
      "       IssuerMarketCap     Yield   TotalRisk    SpecRisk  HistBeta  PredBeta  \\\n",
      "0         5.592728e+10  0.188679   15.692850   10.050981 -0.000188  0.159701   \n",
      "1         6.029930e+09  0.000000   19.050196   12.874902  0.000017  0.133397   \n",
      "2         7.251836e+10  2.103004   24.037181   19.772275  0.050603  0.210419   \n",
      "3         2.918165e+10  2.243494   25.280406   22.709825  0.074781  0.372498   \n",
      "4         5.784320e+10  2.167256   27.885397   23.513232  0.094615  0.410219   \n",
      "5         1.765167e+11  0.392275   17.127961   13.063995  0.059067  0.324120   \n",
      "6         1.690388e+10  4.679803   24.705787   16.097522 -0.017500  0.049448   \n",
      "7         8.072544e+10  0.000000   25.569536   20.211346  0.134408  0.239335   \n",
      "8         1.772633e+10  0.087623   22.863087   15.655018 -0.006364  0.309990   \n",
      "9         4.290913e+10  1.670463   23.843005   20.984128 -0.010467  0.214778   \n",
      "10        3.984891e+10  0.000000   38.270375   29.465925 -0.073015  0.528409   \n",
      "11        2.470550e+10  1.413784   23.051129   18.134238  0.500130  0.876679   \n",
      "12        6.387364e+09  2.641914   19.272543   13.767304  0.264041  0.671520   \n",
      "13        1.566320e+10  1.244629   24.060845   21.197423  0.439618  0.558155   \n",
      "14        1.064007e+10  1.458435   14.044685    9.400633  0.000017  0.072279   \n",
      "15        3.355083e+10  1.613669   27.407579   23.625455 -0.122352  0.135685   \n",
      "16        3.355083e+10  1.613669   30.841525   26.682184  0.453305  0.733802   \n",
      "17        2.692083e+10  0.196207   16.731087   13.360723  0.105390  0.201365   \n",
      "18        2.877702e+10  1.782703   25.075968   21.631713  0.055938  0.360914   \n",
      "19        9.305772e+10  3.380021   25.832103   22.076461  0.086197  0.295254   \n",
      "20        1.745453e+11  0.000000   30.346694   26.732169  0.178596  0.410335   \n",
      "21        1.233806e+11  1.733990   24.548133   21.511264 -0.209560  0.051544   \n",
      "22        1.483860e+10  0.000000   32.392680   26.754657  0.922221  1.022408   \n",
      "23        8.985800e+10  0.000000   27.427720   23.727123  0.123475  0.534769   \n",
      "24        4.550285e+10  3.050774   20.121834   15.849359  0.006000  0.357584   \n",
      "25        3.350296e+10  0.000000   26.910152   22.304933  0.466254  0.798856   \n",
      "26        7.546942e+09  1.947799   12.239065    8.419129  0.016084  0.263013   \n",
      "27        7.546942e+09  1.947799   36.252249   32.842572  0.406627  0.836960   \n",
      "28        7.245215e+10  2.398082   23.558349   20.016778  0.349623  0.580189   \n",
      "29        3.142913e+11  2.582311   25.101935   21.792121 -0.000275  0.331689   \n",
      "...                ...       ...         ...         ...       ...       ...   \n",
      "12408     5.056250e+06  0.000000   21.773385   13.942212  0.000017  0.009961   \n",
      "12409     7.504900e+06  0.000000   84.716213   82.209771  0.352918  0.535317   \n",
      "12410     3.012930e+06  0.000000   75.288295   71.617910  0.733079  1.029531   \n",
      "12411     3.678000e+05  0.000000  100.519176   96.850709  0.906844  1.160227   \n",
      "12412     5.530700e+06  0.000000   83.315141   79.408259  0.747814  1.039277   \n",
      "12413     2.886720e+07  0.000000   86.024190   82.351943  0.804143  1.025974   \n",
      "12414     6.832300e+04  0.000000   82.424018   78.082457  1.016602  1.311169   \n",
      "12415     2.270100e+06  0.000000   90.158250   86.453311  1.084761  1.211245   \n",
      "12416     9.672750e+06  0.000000  123.471851  121.068935  0.554058  0.834783   \n",
      "12417     5.030700e+01  0.000000   47.575068   37.911238  1.091992  1.348722   \n",
      "12418     2.467500e+07  0.000000   81.292034   78.268248  0.552312  0.880039   \n",
      "12419     2.830863e+06  0.000000  130.984566  128.619200  0.660639  0.985372   \n",
      "12420     4.257440e+07  0.000000   28.110060   23.217955  0.366274  0.267425   \n",
      "12421     5.369580e+06  0.000000   77.953101   75.127647  0.298875  0.682113   \n",
      "12422     7.414000e+04  0.000000   42.238944   33.865194  0.835183  1.113248   \n",
      "12423     1.668300e+06  0.000000  127.650133  125.083728  0.644102  1.028016   \n",
      "12424     2.564778e+07  0.000000   72.461539   68.004832  0.636807  0.973511   \n",
      "12425     2.915373e+10  4.714286   23.659950   20.606106  0.290274  0.408531   \n",
      "12426     1.352860e+06  0.000000   50.562245   41.396341  1.055322  1.200536   \n",
      "12427     7.609700e+05  0.000000   95.940769   92.323333  0.766729  1.124092   \n",
      "12428     1.251480e+06  0.000000   34.849732   27.225137  0.271442  0.659726   \n",
      "12429     3.454800e+05  0.000000   93.808173   90.390345  1.069830  1.248195   \n",
      "12430     1.890048e+06  0.000000   99.536206   96.078928  0.816951  1.140841   \n",
      "12431     1.078700e+06  0.000000  103.177824  100.485043  0.759116  0.939081   \n",
      "12432     8.483492e+06  0.000000   70.049173   65.961557  0.106288  0.264540   \n",
      "12433     3.798120e+07  0.000000   64.111840   59.283396  0.886015  1.076259   \n",
      "12434     2.614480e+06  0.000000   87.827559   84.809806  0.491721  0.829472   \n",
      "12435     8.280000e+04  0.000000   44.703014   38.579501  0.471180  0.850844   \n",
      "12436     1.828674e+06  0.000000  139.097153  136.259948  1.056344  1.245966   \n",
      "12437     8.741631e+08  0.620877   37.862726   26.751016  0.855809  0.968892   \n",
      "\n",
      "       DataDate  DlyReturn  \n",
      "0      20040106   0.000000  \n",
      "1      20040106   0.000000  \n",
      "2      20040106   0.000000  \n",
      "3      20040106   0.000000  \n",
      "4      20040106   0.000000  \n",
      "5      20040106   0.000000  \n",
      "6      20040106   0.000000  \n",
      "7      20040106   0.000000  \n",
      "8      20040106   0.000000  \n",
      "9      20040106   0.000000  \n",
      "10     20040106   0.000000  \n",
      "11     20040106   0.000000  \n",
      "12     20040106   0.000000  \n",
      "13     20040106   0.000259  \n",
      "14     20040106   0.000000  \n",
      "15     20040106   0.000000  \n",
      "16     20040106  -0.026300  \n",
      "17     20040106   0.000000  \n",
      "18     20040106   0.000000  \n",
      "19     20040106   0.000000  \n",
      "20     20040106   0.000000  \n",
      "21     20040106   0.000000  \n",
      "22     20040106   0.000000  \n",
      "23     20040106   0.000000  \n",
      "24     20040106   0.000000  \n",
      "25     20040106   0.000000  \n",
      "26     20040106   0.000000  \n",
      "27     20040106  -0.008790  \n",
      "28     20040106   0.000000  \n",
      "29     20040106   0.000000  \n",
      "...         ...        ...  \n",
      "12408  20040106   0.000000  \n",
      "12409  20040106   0.000000  \n",
      "12410  20040106   0.000000  \n",
      "12411  20040106   0.000000  \n",
      "12412  20040106   0.166667  \n",
      "12413  20040106   0.142857  \n",
      "12414  20040106   0.000000  \n",
      "12415  20040106   0.000000  \n",
      "12416  20040106  -0.035714  \n",
      "12417  20040106   0.000000  \n",
      "12418  20040106  -0.019608  \n",
      "12419  20040106   0.000000  \n",
      "12420  20040106   0.000000  \n",
      "12421  20040106  -0.100000  \n",
      "12422  20040106   0.000000  \n",
      "12423  20040106  -0.250000  \n",
      "12424  20040106   0.000000  \n",
      "12425  20040106   0.004320  \n",
      "12426  20040106   0.000000  \n",
      "12427  20040106   0.000000  \n",
      "12428  20040106   0.000000  \n",
      "12429  20040106   0.000000  \n",
      "12430  20040106   0.022222  \n",
      "12431  20040106   0.022222  \n",
      "12432  20040106   0.069643  \n",
      "12433  20040106   0.068966  \n",
      "12434  20040106   0.000000  \n",
      "12435  20040106   0.000000  \n",
      "12436  20040106   0.058824  \n",
      "12437  20040106   0.010721  \n",
      "\n",
      "[12438 rows x 93 columns]\n"
     ]
    },
    {
     "data": {
      "text/plain": [
       "1331.8577479999985"
      ]
     },
     "execution_count": 5,
     "metadata": {},
     "output_type": "execute_result"
    }
   ],
   "source": [
    "print(frames['20040108'])\n",
    "sum(frames['20040106']['DlyReturn'])"
   ]
  },
  {
   "cell_type": "markdown",
   "metadata": {},
   "source": [
    "## Add Daily Returns date column (Optional)\n",
    "Name the column `DlyReturnDate`.\n",
    "**Hint**: create a list containing copies of the date, then create a pandas series."
   ]
  },
  {
   "cell_type": "code",
   "execution_count": 6,
   "metadata": {},
   "outputs": [],
   "source": [
    "# Optional\n"
   ]
  },
  {
   "cell_type": "markdown",
   "metadata": {},
   "source": [
    "## Winsorize\n",
    "\n",
    "As we have done in other projects, we'll want to avoid extremely positive or negative values in our data. Will therefore create a function, `wins`, that will clip our values to a minimum and maximum range. This process is called **Winsorizing**. Remember that this helps us handle noise, which may otherwise cause unusually large positions."
   ]
  },
  {
   "cell_type": "code",
   "execution_count": 7,
   "metadata": {},
   "outputs": [],
   "source": [
    "def wins(x,a,b):\n",
    "    return np.where(x <= a,a, np.where(x >= b, b, x))"
   ]
  },
  {
   "cell_type": "markdown",
   "metadata": {},
   "source": [
    "## Density Plot\n",
    "\n",
    "Let's check our `wins` function by taking a look at the distribution of returns for a single day `20040102`. We will clip our data from `-0.1` to `0.1` and plot it using our `density_plot` function."
   ]
  },
  {
   "cell_type": "code",
   "execution_count": 8,
   "metadata": {},
   "outputs": [
    {
     "name": "stdout",
     "output_type": "stream",
     "text": [
      "0\n"
     ]
    }
   ],
   "source": [
    "test = frames['20040108']\n",
    "print(sum(test['DlyReturn'].isna()))"
   ]
  },
  {
   "cell_type": "code",
   "execution_count": 9,
   "metadata": {},
   "outputs": [
    {
     "data": {
      "image/png": "[encoded data removed]",
      "text/plain": [
       "<matplotlib.figure.Figure at 0x7f0c17494cf8>"
      ]
     },
     "metadata": {
      "needs_background": "light"
     },
     "output_type": "display_data"
    }
   ],
   "source": [
    "def density_plot(data): \n",
    "    density = gaussian_kde(data)\n",
    "    xs = np.linspace(np.min(data),np.max(data),200)\n",
    "    density.covariance_factor = lambda : .25\n",
    "    density._compute_covariance()\n",
    "    plt.plot(xs,density(xs))\n",
    "    plt.xlabel('Daily Returns')\n",
    "    plt.ylabel('Density')\n",
    "    plt.show()\n",
    "    \n",
    "test = frames['20040108']\n",
    "test['DlyReturn'] = wins(test['DlyReturn'],-0.1,0.1)\n",
    "density_plot(test['DlyReturn'])"
   ]
  },
  {
   "cell_type": "markdown",
   "metadata": {},
   "source": [
    "## Factor Exposures and Factor Returns\n",
    "\n",
    "Recall that:\n",
    "\n",
    "$r_{i,t} = \\sum_{j=1}^{k} (\\beta_{i,j,t-2} \\times f_{j,t})$  \n",
    "where $i=1...N$ (N assets),   \n",
    "and $j=1...k$ (k factors).\n",
    "\n",
    "where $r_{i,t}$ is the return, $\\beta_{i,j,t-2}$ is the factor exposure, and $f_{j,t}$ is the factor return. Since we get the factor exposures from the Barra data, and we know the returns, it is possible to estimate the factor returns. In this notebook, we will use the Ordinary Least Squares (OLS) method to estimate the factor exposures, $f_{j,t}$, by using $\\beta_{i,j,t-2}$ as the independent variable, and $r_{i,t}$ as the dependent variable."
   ]
  },
  {
   "cell_type": "code",
   "execution_count": 10,
   "metadata": {},
   "outputs": [],
   "source": [
    "def get_formula(factors, Y):\n",
    "    L = [\"0\"]\n",
    "    L.extend(factors)\n",
    "    return Y + \" ~ \" + \" + \".join(L)\n",
    "\n",
    "def factors_from_names(n):\n",
    "    return list(filter(lambda x: \"USFASTD_\" in x, n))\n",
    "\n",
    "def estimate_factor_returns(df): \n",
    "    ## build universe based on filters \n",
    "    estu = df.loc[df.IssuerMarketCap > 1e9].copy(deep=True)\n",
    "  \n",
    "    ## winsorize returns for fitting \n",
    "    estu['DlyReturn'] = wins(estu['DlyReturn'], -0.25, 0.25)\n",
    "  \n",
    "    all_factors = factors_from_names(list(df))\n",
    "    form = get_formula(all_factors, \"DlyReturn\")\n",
    "    model = ols(form, data=estu)\n",
    "    results = model.fit()\n",
    "    return results"
   ]
  },
  {
   "cell_type": "code",
   "execution_count": 11,
   "metadata": {},
   "outputs": [],
   "source": [
    "facret = {}\n",
    "\n",
    "for date in frames:\n",
    "    facret[date] = estimate_factor_returns(frames[date]).params"
   ]
  },
  {
   "cell_type": "code",
   "execution_count": 12,
   "metadata": {},
   "outputs": [],
   "source": [
    "my_dates = sorted(list(map(lambda date: pd.to_datetime(date, format='%Y%m%d'), frames.keys())))"
   ]
  },
  {
   "cell_type": "markdown",
   "metadata": {},
   "source": [
    "## Choose Alpha Factors\n",
    "\n",
    "We will now choose our alpha factors. Barra's factors include some alpha factors that we have seen before, such as:\n",
    "\n",
    "* **USFASTD_1DREVRSL** : Reversal\n",
    "\n",
    "* **USFASTD_EARNYILD** : Earnings Yield\n",
    "\n",
    "* **USFASTD_VALUE** : Value\n",
    "\n",
    "* **USFASTD_SENTMT** : Sentiment\n",
    "\n",
    "We will choose these alpha factors for now, but you are encouraged to come back to this later and try other factors as well."
   ]
  },
  {
   "cell_type": "code",
   "execution_count": 13,
   "metadata": {},
   "outputs": [
    {
     "name": "stderr",
     "output_type": "stream",
     "text": [
      "/opt/conda/lib/python3.6/site-packages/pandas/plotting/_converter.py:129: FutureWarning: Using an implicitly registered datetime converter for a matplotlib plotting method. The converter was registered by pandas on import. Future versions of pandas will require you to explicitly register matplotlib converters.\n",
      "\n",
      "To register the converters:\n",
      "\t>>> from pandas.plotting import register_matplotlib_converters\n",
      "\t>>> register_matplotlib_converters()\n",
      "  warnings.warn(msg, FutureWarning)\n"
     ]
    },
    {
     "data": {
      "image/png": "[encoded data removed]",
      "text/plain": [
       "<matplotlib.figure.Figure at 0x7f0c1344f630>"
      ]
     },
     "metadata": {
      "needs_background": "light"
     },
     "output_type": "display_data"
    }
   ],
   "source": [
    "alpha_factors = [\"USFASTD_1DREVRSL\", \"USFASTD_EARNYILD\", \"USFASTD_VALUE\", \"USFASTD_SENTMT\"]\n",
    "\n",
    "facret_df = pd.DataFrame(index = my_dates)\n",
    "\n",
    "for dt in my_dates: \n",
    "    for alp in alpha_factors: \n",
    "        facret_df.at[dt, alp] = facret[dt.strftime('%Y%m%d')][alp]\n",
    "\n",
    "for column in facret_df.columns:\n",
    "        plt.plot(facret_df[column].cumsum(), label=column)\n",
    "plt.legend(loc='upper left')\n",
    "plt.xlabel('Date')\n",
    "plt.ylabel('Cumulative Factor Returns')\n",
    "plt.show()"
   ]
  },
  {
   "cell_type": "markdown",
   "metadata": {},
   "source": [
    "## Merge Previous Portfolio Holdings \n",
    "\n",
    "In order to optimize our portfolio we will use the previous day's holdings to estimate the trade size and transaction costs. In order to keep track of the holdings from the previous day we will include a column to hold the portfolio holdings of the previous day. These holdings of all our assets will be initialized to zero when the backtest first starts."
   ]
  },
  {
   "cell_type": "code",
   "execution_count": 14,
   "metadata": {},
   "outputs": [],
   "source": [
    "def clean_nas(df): \n",
    "    numeric_columns = df.select_dtypes(include=[np.number]).columns.tolist()\n",
    "    \n",
    "    for numeric_column in numeric_columns: \n",
    "        df[numeric_column] = np.nan_to_num(df[numeric_column])\n",
    "    \n",
    "    return df"
   ]
  },
  {
   "cell_type": "code",
   "execution_count": 15,
   "metadata": {},
   "outputs": [],
   "source": [
    "previous_holdings = pd.DataFrame(data = {\"Barrid\" : [\"USA02P1\"], \"h.opt.previous\" : np.array(0)})\n",
    "df = frames[my_dates[0].strftime('%Y%m%d')]\n",
    "\n",
    "df = df.merge(previous_holdings, how = 'left', on = 'Barrid')\n",
    "df = clean_nas(df)\n",
    "df.loc[df['SpecRisk'] == 0]['SpecRisk'] = median(df['SpecRisk'])"
   ]
  },
  {
   "cell_type": "markdown",
   "metadata": {},
   "source": [
    "## Build Universe Based on Filters (TODO)\n",
    "\n",
    "In the cell below, implement the function `get_universe` that creates a stock universe by selecting only those companies that have a market capitalization of at least 1 billion dollars **OR** that are in the previous day's holdings, even if on the current day, the company no longer meets the 1 billion dollar criteria.\n",
    "\n",
    "When creating the universe, make sure you use the `.copy()` attribute to create a copy of the data. Also, it is very important to make sure that we are not looking at returns when forming the portfolio! to make this impossible, make sure to drop the column containing the daily return."
   ]
  },
  {
   "cell_type": "code",
   "execution_count": 16,
   "metadata": {},
   "outputs": [
    {
     "name": "stdout",
     "output_type": "stream",
     "text": [
      "        Barrid  USFASTD_1DREVRSL  USFASTD_AERODEF  USFASTD_AIRLINES  \\\n",
      "0      USA0001            -0.032            0.000               0.0   \n",
      "1      USA0011            -0.059            0.000               0.0   \n",
      "2      USA0031             0.457            0.000               0.0   \n",
      "3      USA0062            -0.128            0.431               0.0   \n",
      "4      USA00E2             0.374            0.000               0.0   \n",
      "5      USA00F1            -0.254            0.000               0.0   \n",
      "6      USA00G2            -0.317            0.000               0.0   \n",
      "7      USA00H1             0.157            0.000               0.0   \n",
      "8      USA00I1            -0.550            0.000               0.0   \n",
      "9      USA00J1            -0.169            0.000               0.0   \n",
      "10     USA00K1            -1.019            0.000               0.0   \n",
      "11     USA00P1             0.334            0.000               0.0   \n",
      "12     USA00R1             0.490            0.000               0.0   \n",
      "13     USA00S1            -0.169            0.000               0.0   \n",
      "14     USA00V1            -0.642            0.000               0.0   \n",
      "15     USA0131            -0.609            1.000               0.0   \n",
      "16     USA0161            -0.098            1.000               0.0   \n",
      "17     USA01I1            -0.230            0.000               0.0   \n",
      "18     USA01J2            -0.175            0.000               0.0   \n",
      "19     USA01L1            -0.116            0.000               0.0   \n",
      "20     USA01P1             0.701            0.000               0.0   \n",
      "21     USA01Q1            -0.249            0.000               0.0   \n",
      "22     USA0202             0.735            0.000               0.0   \n",
      "23     USA0231            -0.007            0.000               0.0   \n",
      "24     USA0281            -0.133            0.000               0.0   \n",
      "25     USA0291             0.639            0.000               0.0   \n",
      "26     USA02A1            -0.339            0.000               0.0   \n",
      "27     USA02B1            -2.745            0.000               0.0   \n",
      "28     USA02H1            -0.560            0.000               0.0   \n",
      "29     USA02P1             0.166            0.000               0.0   \n",
      "...        ...               ...              ...               ...   \n",
      "12089  USAZGN1            -1.560            0.000               0.0   \n",
      "12112  USAZHT1             0.057            0.000               0.0   \n",
      "12135  USAZJ11            -0.652            0.000               0.0   \n",
      "12144  USAZJH1            -0.325            0.000               0.0   \n",
      "12158  USAZK61             1.205            0.000               0.0   \n",
      "12166  USAZKM1             0.091            0.435               0.0   \n",
      "12173  USAZKZ1             0.829            0.000               0.0   \n",
      "12194  USAZM61            -0.353            0.000               0.0   \n",
      "12204  USAZMU1            -1.267            0.000               0.0   \n",
      "12235  USAZOE1            -0.248            0.000               0.0   \n",
      "12256  USAZPE1            -2.273            0.000               0.0   \n",
      "12257  USAZPF1             0.567            0.000               0.0   \n",
      "12276  USAZQD1            -0.562            0.000               0.0   \n",
      "12282  USAZQK1             0.833            0.000               0.0   \n",
      "12283  USAZQN1             0.111            0.000               0.0   \n",
      "12298  USAZRB1            -0.279            0.000               0.0   \n",
      "12300  USAZRD1            -0.183            0.000               0.0   \n",
      "12302  USAZRG1             0.964            0.000               0.0   \n",
      "12303  USAZRK1            -0.962            0.000               0.0   \n",
      "12307  USAZRU1            -1.014            0.000               0.0   \n",
      "12310  USAZRY1            -0.797            0.000               0.0   \n",
      "12313  USAZS21            -0.123            0.000               0.0   \n",
      "12317  USAZS81             0.404            0.000               0.0   \n",
      "12335  USAZTI1            -1.714            0.000               0.0   \n",
      "12354  USAZUA1             0.585            0.000               0.0   \n",
      "12357  USAZUH1             0.321            0.000               0.0   \n",
      "12365  USAZV51             0.017            0.000               0.0   \n",
      "12387  USAZWU1             0.108            0.000               0.0   \n",
      "12398  USAZXI1             0.594            0.000               0.0   \n",
      "12429  USAZZ81            -0.164            0.000               0.0   \n",
      "\n",
      "       USFASTD_ALUMSTEL  USFASTD_APPAREL  USFASTD_AUTO  USFASTD_BANKS  \\\n",
      "0                   0.0              0.0           0.0          0.000   \n",
      "1                   0.0              0.0           0.0          0.000   \n",
      "2                   0.0              0.0           0.0          0.000   \n",
      "3                   0.0              0.0           0.0          0.000   \n",
      "4                   0.0              0.0           0.0          0.000   \n",
      "5                   0.0              0.0           0.0          0.000   \n",
      "6                   0.0              0.0           0.0          0.000   \n",
      "7                   0.0              0.0           0.0          0.000   \n",
      "8                   0.0              0.0           0.0          0.000   \n",
      "9                   0.0              0.0           0.0          0.000   \n",
      "10                  0.0              0.0           0.0          0.000   \n",
      "11                  0.0              0.0           0.0          0.000   \n",
      "12                  0.0              0.0           0.0          0.000   \n",
      "13                  0.0              0.0           0.0          0.000   \n",
      "14                  0.0              0.0           0.0          0.000   \n",
      "15                  0.0              0.0           0.0          0.000   \n",
      "16                  0.0              0.0           0.0          0.000   \n",
      "17                  0.0              0.0           0.0          0.000   \n",
      "18                  0.0              0.0           0.0          0.000   \n",
      "19                  0.0              0.0           0.0          0.000   \n",
      "20                  0.0              0.0           0.0          0.000   \n",
      "21                  0.0              0.0           0.0          0.000   \n",
      "22                  0.0              0.0           0.0          0.000   \n",
      "23                  0.0              0.0           0.0          0.000   \n",
      "24                  0.0              0.0           0.0          0.000   \n",
      "25                  0.0              0.0           0.0          0.000   \n",
      "26                  0.0              0.0           0.0          0.000   \n",
      "27                  0.0              0.0           0.0          0.000   \n",
      "28                  0.0              0.0           0.0          1.000   \n",
      "29                  0.0              0.0           0.0          0.000   \n",
      "...                 ...              ...           ...            ...   \n",
      "12089               0.0              0.0           0.0          0.966   \n",
      "12112               0.0              0.0           0.0          0.000   \n",
      "12135               0.0              0.0           0.0          0.000   \n",
      "12144               0.0              0.0           0.0          0.000   \n",
      "12158               0.0              0.0           0.0          0.000   \n",
      "12166               0.0              0.0           0.0          0.000   \n",
      "12173               0.0              0.0           0.0          0.000   \n",
      "12194               0.0              0.0           0.0          0.000   \n",
      "12204               0.0              0.0           0.0          0.000   \n",
      "12235               0.0              0.0           0.0          0.000   \n",
      "12256               0.0              0.0           0.0          0.000   \n",
      "12257               0.0              0.0           0.0          0.000   \n",
      "12276               0.0              0.0           0.0          0.000   \n",
      "12282               0.0              0.0           0.0          0.000   \n",
      "12283               0.0              0.0           0.0          0.000   \n",
      "12298               0.0              0.0           0.0          0.000   \n",
      "12300               0.0              0.0           0.0          0.000   \n",
      "12302               0.0              0.0           0.0          0.000   \n",
      "12303               0.0              0.0           0.0          0.000   \n",
      "12307               0.0              0.0           0.0          0.000   \n",
      "12310               0.0              0.0           0.0          0.000   \n",
      "12313               0.0              0.0           0.0          0.000   \n",
      "12317               0.0              0.0           0.0          0.000   \n",
      "12335               0.0              0.0           0.0          0.000   \n",
      "12354               0.0              0.0           0.0          0.000   \n",
      "12357               0.0              0.0           0.0          0.000   \n",
      "12365               0.0              0.0           0.0          0.000   \n",
      "12387               0.0              0.0           0.0          0.000   \n",
      "12398               0.0              0.0           0.0          0.000   \n",
      "12429               0.0              0.0           0.0          0.000   \n",
      "\n",
      "       USFASTD_BETA  USFASTD_BEVTOB  ...     ADTCA_30  IssuerMarketCap  \\\n",
      "0            -2.177           0.000  ...         0.00     5.392988e+10   \n",
      "1            -2.176           0.000  ...         0.00     5.874999e+09   \n",
      "2            -2.061           0.000  ...         0.00     7.304963e+10   \n",
      "3            -2.003           0.000  ...         0.00     2.866562e+10   \n",
      "4            -1.967           0.000  ...         0.00     5.720420e+10   \n",
      "5            -2.025           0.000  ...         0.00     1.742470e+11   \n",
      "6            -2.214           0.000  ...         0.00     1.644681e+10   \n",
      "7            -1.882           0.000  ...         0.00     8.054473e+10   \n",
      "8            -2.190           0.000  ...         0.00     1.681907e+10   \n",
      "9            -2.198           0.863  ...         0.00     4.335559e+10   \n",
      "10           -2.334           0.000  ...         0.00     3.677209e+10   \n",
      "11           -1.098           0.000  ...         0.00     2.377153e+10   \n",
      "12           -1.615           0.000  ...         0.00     6.177471e+09   \n",
      "13           -1.141           0.000  ...         0.00     1.576241e+10   \n",
      "14           -2.176           0.000  ...         0.00     1.041914e+10   \n",
      "15           -2.440           0.000  ...         0.00     3.359884e+10   \n",
      "16           -1.183           0.000  ...         0.00     3.359884e+10   \n",
      "17           -1.943           0.000  ...         0.00     2.664403e+10   \n",
      "18           -2.045           0.000  ...         0.00     2.851823e+10   \n",
      "19           -1.981           0.000  ...         0.00     9.179657e+10   \n",
      "20           -1.777           0.000  ...         0.00     1.691907e+11   \n",
      "21           -2.634           1.000  ...         0.00     1.237492e+11   \n",
      "22           -0.176           0.000  ...         0.00     1.328618e+10   \n",
      "23           -1.905           0.000  ...         0.00     8.798649e+10   \n",
      "24           -2.160           0.000  ...         0.00     4.534344e+10   \n",
      "25           -1.147           0.000  ...         0.00     3.184106e+10   \n",
      "26           -2.140           0.000  ...         0.00     7.248961e+09   \n",
      "27           -1.188           0.000  ...         0.00     7.248961e+09   \n",
      "28           -1.387           0.000  ...         0.00     7.215026e+10   \n",
      "29           -2.085           0.000  ...         0.00     3.117866e+11   \n",
      "...             ...             ...  ...          ...              ...   \n",
      "12089        -0.187           0.000  ...   4882329.73     1.072521e+09   \n",
      "12112         3.010           0.000  ...  25275910.86     3.160606e+09   \n",
      "12135        -1.249           0.000  ...   2739081.55     1.144486e+09   \n",
      "12144        -1.181           0.794  ...   9324872.60     3.861130e+09   \n",
      "12158         0.325           0.000  ...  12773606.90     3.130313e+09   \n",
      "12166        -0.257           0.000  ...  28587732.25     4.925593e+09   \n",
      "12173        -0.875           0.000  ...   6180605.60     1.066323e+09   \n",
      "12194        -1.026           0.000  ...  15472717.70     5.853132e+09   \n",
      "12204        -1.723           0.000  ...    915547.97     1.110543e+09   \n",
      "12235        -0.765           0.000  ...  23718310.15     9.026600e+09   \n",
      "12256         0.942           0.000  ...  48377499.36     2.959957e+09   \n",
      "12257         1.407           0.000  ...  47380987.20     4.838072e+09   \n",
      "12276        -0.187           0.000  ...  25898525.25     5.982290e+09   \n",
      "12282         0.511           0.000  ...  13247634.19     1.424779e+09   \n",
      "12283        -0.358           0.000  ...  20054408.85     3.734103e+09   \n",
      "12298        -0.689           0.000  ...  23699729.40     6.840300e+09   \n",
      "12300        -2.176           0.000  ...    352270.91     1.131629e+10   \n",
      "12302         2.036           0.000  ...   9858768.19     1.099484e+09   \n",
      "12303         1.429           0.000  ...  17461210.85     3.477316e+09   \n",
      "12307        -0.813           0.000  ...  11918928.15     4.184880e+09   \n",
      "12310        -1.076           0.000  ...    955745.45     3.958733e+09   \n",
      "12313        -1.061           0.000  ...   2810949.95     2.347204e+09   \n",
      "12317         1.657           0.000  ...  19490217.56     1.655830e+09   \n",
      "12335        -0.142           0.000  ...     40545.70     2.670143e+09   \n",
      "12354        -1.549           0.000  ...   5456306.05     5.148089e+09   \n",
      "12357        -1.195           0.000  ...   8974611.10     2.174866e+09   \n",
      "12365        -0.286           0.000  ...  54805887.30     1.065549e+10   \n",
      "12387         1.479           0.000  ...  13801649.40     2.519952e+09   \n",
      "12398         0.454           0.000  ...  12215845.45     2.403877e+09   \n",
      "12429        -1.538           1.000  ...   1307457.05     2.911190e+10   \n",
      "\n",
      "          Yield  TotalRisk   SpecRisk  HistBeta  PredBeta  DataDate  \\\n",
      "0      0.188679  13.959397   9.014505 -0.000189  0.156387  20040102   \n",
      "1      0.000000  17.033359  11.726327  0.000013  0.147900  20040102   \n",
      "2      2.103004  21.738218  18.047415  0.053033  0.216422  20040102   \n",
      "3      2.243494  23.129496  20.830128  0.079755  0.355564  20040102   \n",
      "4      2.167256  25.391653  21.458171  0.096238  0.412602  20040102   \n",
      "5      0.392275  15.695637  11.912117  0.069464  0.346033  20040102   \n",
      "6      4.679803  21.654431  14.431033 -0.017417  0.026702  20040102   \n",
      "7      0.000000  22.765658  18.313856  0.135674  0.267576  20040102   \n",
      "8      0.087623  20.410134  14.133102 -0.006358  0.278503  20040102   \n",
      "9      1.670463  21.686440  19.249760 -0.010228  0.194933  20040102   \n",
      "10     0.000000  33.867332  26.375334 -0.072812  0.475343  20040102   \n",
      "11     1.413784  21.424437  16.195982  0.496970  0.853930  20040102   \n",
      "12     2.641914  18.112924  12.495233  0.258616  0.673043  20040102   \n",
      "13     1.244629  21.922494  19.035684  0.477142  0.558508  20040102   \n",
      "14     1.458435  12.385339   8.420332  0.000013  0.083475  20040102   \n",
      "15     1.613669  24.839671  21.502548 -0.121604  0.145560  20040102   \n",
      "16     1.613669  28.025448  23.914479  0.457450  0.713817  20040102   \n",
      "17     0.196207  15.087449  12.143365  0.107272  0.220367  20040102   \n",
      "18     1.782703  23.016956  20.028493  0.060553  0.355385  20040102   \n",
      "19     3.380021  23.209763  19.935156  0.089837  0.278654  20040102   \n",
      "20     0.000000  27.138099  23.901111  0.183841  0.410674  20040102   \n",
      "21     1.733990  22.222874  19.652249 -0.210865  0.042602  20040102   \n",
      "22     0.000000  29.844475  23.970616  0.921471  1.005869  20040102   \n",
      "23     0.000000  24.742676  21.356169  0.125102  0.519813  20040102   \n",
      "24     3.050774  18.248930  14.319948  0.007271  0.359541  20040102   \n",
      "25     0.000000  24.017693  19.557779  0.474128  0.720445  20040102   \n",
      "26     1.947799  11.185751   7.613359  0.016464  0.268383  20040102   \n",
      "27     1.947799  32.801110  28.797618  0.455392  0.823334  20040102   \n",
      "28     2.398082  21.698318  18.244674  0.363409  0.574217  20040102   \n",
      "29     2.582311  22.480566  19.563198  0.042230  0.340393  20040102   \n",
      "...         ...        ...        ...       ...       ...       ...   \n",
      "12089  1.609658  21.783851  15.798271  0.916546  0.949068  20040102   \n",
      "12112  0.000000  49.492103  31.422737  2.842251  2.312463  20040102   \n",
      "12135  6.635071  15.296278  11.490650  0.427301  0.502732  20040102   \n",
      "12144  0.969142  18.201189  14.918864  0.458332  0.566454  20040102   \n",
      "12158  1.158038  27.037878  19.618228  1.152493  1.246464  20040102   \n",
      "12166  0.000000  19.266420  13.856953  0.884129  0.858799  20040102   \n",
      "12173  0.000000  18.379686  13.939597  0.599482  0.694221  20040102   \n",
      "12194  4.836957  13.659462   9.079246  0.530017  0.552170  20040102   \n",
      "12204  0.796215  35.027972  29.938695  0.208681  0.370896  20040102   \n",
      "12235  0.297275  16.335456  11.882850  0.650036  0.681422  20040102   \n",
      "12256  0.000000  36.142007  27.237898  1.436725  1.412571  20040102   \n",
      "12257  0.000000  43.269806  32.798840  1.650776  1.818193  20040102   \n",
      "12276  0.321802  19.852772  14.435776  0.916664  0.895810  20040102   \n",
      "12282  0.000000  29.919677  22.658355  1.237936  1.268537  20040102   \n",
      "12283  0.000000  31.831665  27.050359  0.837699  0.894894  20040102   \n",
      "12298  3.326680  16.752344  11.342998  0.685010  0.699345  20040102   \n",
      "12300  2.315563  12.846131   8.295271  0.000013  0.135944  20040102   \n",
      "12302  0.000000  41.888803  27.763874  1.940437  1.896225  20040102   \n",
      "12303  0.000000  40.446463  30.152393  1.661142  1.705148  20040102   \n",
      "12307  0.936403  18.195606  14.320388  0.628059  0.702290  20040102   \n",
      "12310  0.594943  21.260536  18.068736  0.506909  0.572747  20040102   \n",
      "12313  1.141553  21.950931  17.310510  0.513696  0.616492  20040102   \n",
      "12317  0.000000  41.784233  31.932920  1.765807  1.769838  20040102   \n",
      "12335  0.000000  37.528088  31.282103  0.937153  0.916919  20040102   \n",
      "12354  6.486762  21.941545  18.999146  0.288851  0.477279  20040102   \n",
      "12357  0.000000  19.139833  16.094151  0.452048  0.549935  20040102   \n",
      "12365  2.475822  20.630581  14.250759  0.870721  0.946899  20040102   \n",
      "12387  0.000000  38.759682  30.385409  1.683928  1.584244  20040102   \n",
      "12398  0.000000  42.478709  33.717181  1.211796  1.274806  20040102   \n",
      "12429  4.714286  21.679651  18.778080  0.294241  0.401738  20040102   \n",
      "\n",
      "       DlyReturn  h.opt.previous  \n",
      "0       0.000000             0.0  \n",
      "1       0.000000             0.0  \n",
      "2       0.000000             0.0  \n",
      "3       0.000000             0.0  \n",
      "4       0.000000             0.0  \n",
      "5       0.000000             0.0  \n",
      "6       0.000000             0.0  \n",
      "7       0.000000             0.0  \n",
      "8       0.000000             0.0  \n",
      "9       0.000000             0.0  \n",
      "10      0.000000             0.0  \n",
      "11      0.000000             0.0  \n",
      "12      0.000000             0.0  \n",
      "13     -0.009555             0.0  \n",
      "14      0.000000             0.0  \n",
      "15      0.000000             0.0  \n",
      "16      0.000000             0.0  \n",
      "17      0.000000             0.0  \n",
      "18      0.000000             0.0  \n",
      "19      0.000000             0.0  \n",
      "20      0.000000             0.0  \n",
      "21      0.000000             0.0  \n",
      "22      0.000000             0.0  \n",
      "23      0.000000             0.0  \n",
      "24      0.000000             0.0  \n",
      "25      0.000000             0.0  \n",
      "26      0.000000             0.0  \n",
      "27      0.083078             0.0  \n",
      "28      0.000000             0.0  \n",
      "29      0.000000             0.0  \n",
      "...          ...             ...  \n",
      "12089   0.016097             0.0  \n",
      "12112  -0.001647             0.0  \n",
      "12135   0.010664             0.0  \n",
      "12144   0.003525             0.0  \n",
      "12158  -0.018392             0.0  \n",
      "12166  -0.005062             0.0  \n",
      "12173  -0.006354             0.0  \n",
      "12194   0.003533             0.0  \n",
      "12204   0.026925             0.0  \n",
      "12235  -0.000826             0.0  \n",
      "12256   0.030894             0.0  \n",
      "12257  -0.003114             0.0  \n",
      "12276   0.006436             0.0  \n",
      "12282  -0.005909             0.0  \n",
      "12283   0.015072             0.0  \n",
      "12298   0.004657             0.0  \n",
      "12300   0.000000             0.0  \n",
      "12302   0.003210             0.0  \n",
      "12303   0.028534             0.0  \n",
      "12307   0.016387             0.0  \n",
      "12310   0.017397             0.0  \n",
      "12313   0.004824             0.0  \n",
      "12317  -0.002049             0.0  \n",
      "12335   0.033917             0.0  \n",
      "12354  -0.009776             0.0  \n",
      "12357  -0.000962             0.0  \n",
      "12365   0.001805             0.0  \n",
      "12387   0.010882             0.0  \n",
      "12398  -0.002720             0.0  \n",
      "12429   0.002891             0.0  \n",
      "\n",
      "[2265 rows x 94 columns]\n"
     ]
    }
   ],
   "source": [
    "def get_universe(df):\n",
    "    \"\"\"\n",
    "    Create a stock universe based on filters\n",
    "\n",
    "    Parameters\n",
    "    ----------\n",
    "    df : DataFrame\n",
    "        All stocks\n",
    "        \n",
    "    Returns\n",
    "    -------\n",
    "    universe : DataFrame\n",
    "        Selected stocks based on filters\n",
    "    \"\"\"\n",
    "    \n",
    "    # TODO: Implement\n",
    "    query = (df['IssuerMarketCap'] >= 1e9).astype(int)\n",
    "    universe = df[query == 1 ].copy()\n",
    "    return universe\n",
    "\n",
    "universe = get_universe(df)\n",
    "print(universe)"
   ]
  },
  {
   "cell_type": "code",
   "execution_count": 17,
   "metadata": {},
   "outputs": [],
   "source": [
    "date = str(int(universe['DataDate'][1])) "
   ]
  },
  {
   "cell_type": "markdown",
   "metadata": {},
   "source": [
    "## Factors\n",
    "\n",
    "We will now extract both the risk factors and alpha factors. We begin by first getting all the factors using the `factors_from_names` function defined previously."
   ]
  },
  {
   "cell_type": "code",
   "execution_count": 18,
   "metadata": {},
   "outputs": [],
   "source": [
    "all_factors = factors_from_names(list(universe))"
   ]
  },
  {
   "cell_type": "markdown",
   "metadata": {},
   "source": [
    "We will now create the function `setdiff` to just select the factors that we have not defined as alpha factors"
   ]
  },
  {
   "cell_type": "code",
   "execution_count": 19,
   "metadata": {},
   "outputs": [],
   "source": [
    "def setdiff(temp1, temp2): \n",
    "    s = set(temp2)\n",
    "    temp3 = [x for x in temp1 if x not in s]\n",
    "    return temp3"
   ]
  },
  {
   "cell_type": "code",
   "execution_count": 20,
   "metadata": {},
   "outputs": [],
   "source": [
    "risk_factors = setdiff(all_factors, alpha_factors)"
   ]
  },
  {
   "cell_type": "markdown",
   "metadata": {},
   "source": [
    "We will also save the column that contains the previous holdings in a separate variable because we are going to use it later when we perform our portfolio optimization."
   ]
  },
  {
   "cell_type": "code",
   "execution_count": 21,
   "metadata": {},
   "outputs": [],
   "source": [
    "h0 = universe['h.opt.previous']"
   ]
  },
  {
   "cell_type": "markdown",
   "metadata": {},
   "source": [
    "## Matrix of Risk Factor Exposures\n",
    "\n",
    "Our dataframe contains several columns that we'll use as risk factors exposures.  Extract these and put them into a matrix.\n",
    "\n",
    "The data, such as industry category, are already one-hot encoded, but if this were not the case, then using `patsy.dmatrices` would help, as this function extracts categories and performs the one-hot encoding.  We'll practice using this package, as you may find it useful with future data sets.  You could also store the factors in a dataframe if you prefer.\n",
    "\n",
    "#### How to use patsy.dmatrices\n",
    "\n",
    "`patsy.dmatrices` takes in a formula and the dataframe.  The formula tells the function which columns to take.  The formula will look something like this:  \n",
    "`SpecRisk ~ 0 + USFASTD_AERODEF + USFASTD_AIRLINES + ...`  \n",
    "where the variable to the left of the ~ is the \"dependent variable\" and the others to the right are the independent variables (as if we were preparing data to be fit to a model).\n",
    "\n",
    "This just means that the `pasty.dmatrices` function will return two matrix variables, one that contains the single column for the dependent variable `outcome`, and the independent variable columns are stored in a matrix `predictors`.\n",
    "\n",
    "The `predictors` matrix will contain the matrix of risk factors, which is what we want.  We don't actually need the `outcome` matrix; it's just created because that's the way patsy.dmatrices works."
   ]
  },
  {
   "cell_type": "code",
   "execution_count": 22,
   "metadata": {},
   "outputs": [],
   "source": [
    "formula = get_formula(risk_factors, \"SpecRisk\")"
   ]
  },
  {
   "cell_type": "code",
   "execution_count": 23,
   "metadata": {},
   "outputs": [],
   "source": [
    "def model_matrix(formula, data): \n",
    "    outcome, predictors = patsy.dmatrices(formula, data)\n",
    "    return predictors"
   ]
  },
  {
   "cell_type": "code",
   "execution_count": 24,
   "metadata": {},
   "outputs": [],
   "source": [
    "B = model_matrix(formula, universe)\n",
    "BT = B.transpose()"
   ]
  },
  {
   "cell_type": "markdown",
   "metadata": {},
   "source": [
    "## Calculate Specific Variance\n",
    "\n",
    "Notice that the specific risk data is in percent:"
   ]
  },
  {
   "cell_type": "code",
   "execution_count": 25,
   "metadata": {},
   "outputs": [
    {
     "data": {
      "text/plain": [
       "0     9.014505\n",
       "1    11.726327\n",
       "Name: SpecRisk, dtype: float64"
      ]
     },
     "execution_count": 25,
     "metadata": {},
     "output_type": "execute_result"
    }
   ],
   "source": [
    "universe['SpecRisk'][0:2]"
   ]
  },
  {
   "cell_type": "markdown",
   "metadata": {},
   "source": [
    "Therefore, in order to get the specific variance for each stock in the universe we first need to multiply these values by `0.01`  and then square them:"
   ]
  },
  {
   "cell_type": "code",
   "execution_count": 26,
   "metadata": {},
   "outputs": [],
   "source": [
    "specVar = (0.01 * universe['SpecRisk']) ** 2"
   ]
  },
  {
   "cell_type": "markdown",
   "metadata": {},
   "source": [
    "## Factor covariance matrix (TODO)\n",
    "\n",
    "Note that we already have factor covariances from Barra data, which is stored in the variable `covariance`.  `covariance` is a dictionary, where the key is each day's date, and the value is a dataframe containing the factor covariances."
   ]
  },
  {
   "cell_type": "code",
   "execution_count": 27,
   "metadata": {},
   "outputs": [
    {
     "data": {
      "text/html": [
       "<div>\n",
       "<style scoped>\n",
       "    .dataframe tbody tr th:only-of-type {\n",
       "        vertical-align: middle;\n",
       "    }\n",
       "\n",
       "    .dataframe tbody tr th {\n",
       "        vertical-align: top;\n",
       "    }\n",
       "\n",
       "    .dataframe thead th {\n",
       "        text-align: right;\n",
       "    }\n",
       "</style>\n",
       "<table border=\"1\" class=\"dataframe\">\n",
       "  <thead>\n",
       "    <tr style=\"text-align: right;\">\n",
       "      <th></th>\n",
       "      <th>Factor1</th>\n",
       "      <th>Factor2</th>\n",
       "      <th>VarCovar</th>\n",
       "      <th>DataDate</th>\n",
       "    </tr>\n",
       "  </thead>\n",
       "  <tbody>\n",
       "    <tr>\n",
       "      <th>0</th>\n",
       "      <td>USFASTD_1DREVRSL</td>\n",
       "      <td>USFASTD_1DREVRSL</td>\n",
       "      <td>1.958869</td>\n",
       "      <td>20040102</td>\n",
       "    </tr>\n",
       "    <tr>\n",
       "      <th>1</th>\n",
       "      <td>USFASTD_1DREVRSL</td>\n",
       "      <td>USFASTD_BETA</td>\n",
       "      <td>1.602458</td>\n",
       "      <td>20040102</td>\n",
       "    </tr>\n",
       "    <tr>\n",
       "      <th>2</th>\n",
       "      <td>USFASTD_1DREVRSL</td>\n",
       "      <td>USFASTD_DIVYILD</td>\n",
       "      <td>-0.012642</td>\n",
       "      <td>20040102</td>\n",
       "    </tr>\n",
       "    <tr>\n",
       "      <th>3</th>\n",
       "      <td>USFASTD_1DREVRSL</td>\n",
       "      <td>USFASTD_DWNRISK</td>\n",
       "      <td>-0.064387</td>\n",
       "      <td>20040102</td>\n",
       "    </tr>\n",
       "    <tr>\n",
       "      <th>4</th>\n",
       "      <td>USFASTD_1DREVRSL</td>\n",
       "      <td>USFASTD_EARNQLTY</td>\n",
       "      <td>0.046573</td>\n",
       "      <td>20040102</td>\n",
       "    </tr>\n",
       "  </tbody>\n",
       "</table>\n",
       "</div>"
      ],
      "text/plain": [
       "            Factor1           Factor2  VarCovar  DataDate\n",
       "0  USFASTD_1DREVRSL  USFASTD_1DREVRSL  1.958869  20040102\n",
       "1  USFASTD_1DREVRSL      USFASTD_BETA  1.602458  20040102\n",
       "2  USFASTD_1DREVRSL   USFASTD_DIVYILD -0.012642  20040102\n",
       "3  USFASTD_1DREVRSL   USFASTD_DWNRISK -0.064387  20040102\n",
       "4  USFASTD_1DREVRSL  USFASTD_EARNQLTY  0.046573  20040102"
      ]
     },
     "execution_count": 27,
     "metadata": {},
     "output_type": "execute_result"
    }
   ],
   "source": [
    "covariance['20040102'].head()"
   ]
  },
  {
   "cell_type": "markdown",
   "metadata": {},
   "source": [
    "In the code below, implement the function `diagonal_factor_cov` to create the factor covariance matrix. Note that the covariances are given in percentage units squared.  Therefore you must re-scale them appropriately so that they're in decimals squared. Use the given `colnames` function to get the column names from `B`. \n",
    "\n",
    "When creating factor covariance matrix, you can store the factor variances and covariances, or just store the factor variances.  Try both, and see if you notice any differences."
   ]
  },
  {
   "cell_type": "code",
   "execution_count": 28,
   "metadata": {},
   "outputs": [],
   "source": [
    "def colnames(B):\n",
    "    if type(B) == patsy.design_info.DesignMatrix: \n",
    "        return B.design_info.column_names\n",
    "    if type(B) == pandas.core.frame.DataFrame: \n",
    "        return B.columns.tolist()\n",
    "    return None"
   ]
  },
  {
   "cell_type": "code",
   "execution_count": 29,
   "metadata": {},
   "outputs": [
    {
     "name": "stdout",
     "output_type": "stream",
     "text": [
      "[[0.00845121 0.         0.         ... 0.         0.         0.        ]\n",
      " [0.         0.04305446 0.         ... 0.         0.         0.        ]\n",
      " [0.         0.         0.02307853 ... 0.         0.         0.        ]\n",
      " ...\n",
      " [0.         0.         0.         ... 0.00521378 0.         0.        ]\n",
      " [0.         0.         0.         ... 0.         0.00726435 0.        ]\n",
      " [0.         0.         0.         ... 0.         0.         0.02185539]]\n"
     ]
    }
   ],
   "source": [
    "def get_var(cv, factor): \n",
    "    # TODO\n",
    "    return(cv.loc[(cv.Factor1==factor) & (cv.Factor2==factor),\"VarCovar\"].iloc[0])\n",
    "\n",
    "def NROW(x):\n",
    "    return(np.shape(x)[0])\n",
    "\n",
    "def NCOL(x):\n",
    "    return(np.shape(x)[1])\n",
    "\n",
    "def diagonal_factor_cov(date, B):\n",
    "    \"\"\"\n",
    "    Create the factor covariance matrix\n",
    "\n",
    "    Parameters\n",
    "    ----------\n",
    "    date : string\n",
    "           date. For example 20040102\n",
    "        \n",
    "    B : patsy.design_info.DesignMatrix OR pandas.core.frame.DataFrame\n",
    "        Matrix of Risk Factors\n",
    "        \n",
    "    Returns\n",
    "    -------\n",
    "    Fm : Numpy ndarray\n",
    "        factor covariance matrix\n",
    "    \"\"\"\n",
    "    \n",
    "    # TODO: Implement\n",
    "    cv = covariance[date]\n",
    "    k = NCOL(B)\n",
    "    Fm = np.zeros([k,k])\n",
    "    for j in range(0,k): \n",
    "        fac = colnames(B)[j]\n",
    "        Fm[j,j] = (0.01**2) * get_var(cv, fac)\n",
    "    return(Fm)\n",
    "\n",
    "\n",
    "Fvar = diagonal_factor_cov(date, B)\n",
    "print(Fvar)"
   ]
  },
  {
   "cell_type": "markdown",
   "metadata": {},
   "source": [
    "## Transaction Costs\n",
    "\n",
    "To get the transaction cost, or slippage, we have to multiply the price change due to market impact by the amount of dollars traded:\n",
    "\n",
    "$$\n",
    "\\mbox{tcost_{i,t}} = \\% \\Delta \\mbox{price}_{i,t} \\times \\mbox{trade}_{i,t}\n",
    "$$\n",
    "\n",
    "In summation notation it looks like this:  \n",
    "$$\n",
    "\\mbox{tcost}_{i,t} = \\sum_i^{N} \\lambda_{i,t} (h_{i,t} - h_{i,t-1})^2\n",
    "$$  \n",
    "where\n",
    "$$\n",
    "\\lambda_{i,t} = \\frac{1}{10\\times \\mbox{ADV}_{i,t}}\n",
    "$$\n",
    "\n",
    "Note that since we're dividing by ADV, we'll want to handle cases when ADV is missing or zero.  In those instances, we can set ADV to a small positive number, such as 10,000, which, in practice assumes that the stock is illiquid. In the code below if there is no volume information we assume the asset is illiquid."
   ]
  },
  {
   "cell_type": "code",
   "execution_count": 30,
   "metadata": {},
   "outputs": [
    {
     "name": "stdout",
     "output_type": "stream",
     "text": [
      "0        1.000000e-05\n",
      "1        1.000000e-05\n",
      "2        1.000000e-05\n",
      "3        1.000000e-05\n",
      "4        1.000000e-05\n",
      "5        1.000000e-05\n",
      "6        1.000000e-05\n",
      "7        1.000000e-05\n",
      "8        1.000000e-05\n",
      "9        1.000000e-05\n",
      "10       1.000000e-05\n",
      "11       1.000000e-05\n",
      "12       1.000000e-05\n",
      "13       1.000000e-05\n",
      "14       1.000000e-05\n",
      "15       1.000000e-05\n",
      "16       1.000000e-05\n",
      "17       1.000000e-05\n",
      "18       1.000000e-05\n",
      "19       1.000000e-05\n",
      "20       1.000000e-05\n",
      "21       1.000000e-05\n",
      "22       1.000000e-05\n",
      "23       1.000000e-05\n",
      "24       1.000000e-05\n",
      "25       1.000000e-05\n",
      "26       1.000000e-05\n",
      "27       1.000000e-05\n",
      "28       1.000000e-05\n",
      "29       1.000000e-05\n",
      "             ...     \n",
      "12089    2.048203e-08\n",
      "12112    3.956336e-09\n",
      "12135    3.650859e-08\n",
      "12144    1.072401e-08\n",
      "12158    7.828642e-09\n",
      "12166    3.498004e-09\n",
      "12173    1.617964e-08\n",
      "12194    6.462989e-09\n",
      "12204    1.092242e-07\n",
      "12235    4.216152e-09\n",
      "12256    2.067077e-09\n",
      "12257    2.110551e-09\n",
      "12276    3.861224e-09\n",
      "12282    7.548518e-09\n",
      "12283    4.986435e-09\n",
      "12298    4.219457e-09\n",
      "12300    2.838724e-07\n",
      "12302    1.014326e-08\n",
      "12303    5.726980e-09\n",
      "12307    8.390016e-09\n",
      "12310    1.046304e-07\n",
      "12313    3.557516e-08\n",
      "12317    5.130779e-09\n",
      "12335    2.466353e-06\n",
      "12354    1.832742e-08\n",
      "12357    1.114254e-08\n",
      "12365    1.824621e-09\n",
      "12387    7.245511e-09\n",
      "12398    8.186089e-09\n",
      "12429    7.648435e-08\n",
      "Name: ADTCA_30, Length: 2265, dtype: float64\n"
     ]
    }
   ],
   "source": [
    "def get_lambda(universe, composite_volume_column = 'ADTCA_30'):\n",
    "    universe.loc[np.isnan(universe[composite_volume_column]), composite_volume_column] = 1.0e4\n",
    "    universe.loc[universe[composite_volume_column] == 0, composite_volume_column] = 1.0e4 \n",
    "\n",
    "    adv = universe[composite_volume_column]\n",
    "    return 0.1 / adv\n",
    "\n",
    "Lambda = get_lambda(universe)\n",
    "print(Lambda)"
   ]
  },
  {
   "cell_type": "markdown",
   "metadata": {},
   "source": [
    "## Alpha Combination (TODO)\n",
    "\n",
    "In the code below create a matrix of alpha factors and return it from the function `get_B_alpha`. Create this matrix in the same way you created the matrix of risk factors, i.e. using the `get_formula` and `model_matrix` functions we have defined above. Feel free to go back and look at the previous code."
   ]
  },
  {
   "cell_type": "code",
   "execution_count": 31,
   "metadata": {},
   "outputs": [
    {
     "name": "stdout",
     "output_type": "stream",
     "text": [
      "[[-0.032 -0.298  0.644 -0.922]\n",
      " [-0.059 -1.072 -0.646 -0.991]\n",
      " [ 0.457 -0.06  -0.668 -0.092]\n",
      " ...\n",
      " [ 0.108  0.019  0.42  -0.528]\n",
      " [ 0.594 -2.726  1.828  1.983]\n",
      " [-0.164  0.837 -0.152 -0.128]]\n"
     ]
    }
   ],
   "source": [
    "def get_B_alpha(alpha_factors, universe):\n",
    "    # TODO: Implement\n",
    "    formula = get_formula(alpha_factors, \"SpecRisk\")\n",
    "    B = model_matrix(formula, universe)\n",
    "    return B\n",
    "\n",
    "B_alpha = get_B_alpha(alpha_factors, universe)\n",
    "print(B_alpha)"
   ]
  },
  {
   "cell_type": "markdown",
   "metadata": {},
   "source": [
    "Now that you have the matrix containing the alpha factors we will combine them by adding its rows. By doing this we will collapse the `B_alpha` matrix into a single alpha vector. We'll multiply by `1e-4` so that the expression of expected portfolio return, $\\alpha^T \\mathbf{h}$, is in dollar units. "
   ]
  },
  {
   "cell_type": "code",
   "execution_count": 32,
   "metadata": {},
   "outputs": [
    {
     "name": "stdout",
     "output_type": "stream",
     "text": [
      "[-6.080e-05 -2.768e-04 -3.630e-05 ...  1.900e-06  1.679e-04  3.930e-05]\n"
     ]
    }
   ],
   "source": [
    "def get_alpha_vec(B_alpha):\n",
    "    \"\"\"\n",
    "    Create an alpha vecrtor\n",
    "\n",
    "    Parameters\n",
    "    ----------        \n",
    "    B_alpha : patsy.design_info.DesignMatrix \n",
    "        Matrix of Alpha Factors\n",
    "        \n",
    "    Returns\n",
    "    -------\n",
    "    alpha_vec : patsy.design_info.DesignMatrix \n",
    "        alpha vecrtor\n",
    "    \"\"\"\n",
    "    \n",
    "    # TODO: Implement\n",
    "    \n",
    "    alpha_vec = np.sum(B_alpha,axis=1) * 1e-4\n",
    "    return alpha_vec\n",
    "\n",
    "alpha_vec = get_alpha_vec(B_alpha)\n",
    "print(alpha_vec)"
   ]
  },
  {
   "cell_type": "markdown",
   "metadata": {},
   "source": [
    "#### Optional Challenge\n",
    "\n",
    "You can also try to a more sophisticated method of alpha combination, by choosing the holding for each alpha based on the same metric of its performance, such as the factor returns, or sharpe ratio.  To make this more realistic, you can calculate a rolling average of the sharpe ratio, which is updated for each day.  Remember to only use data that occurs prior to the date of each optimization, and not data that occurs in the future.  Also, since factor returns and sharpe ratios may be negative, consider using a `max` function to give the holdings a lower bound of zero."
   ]
  },
  {
   "cell_type": "markdown",
   "metadata": {},
   "source": [
    "## Objective function (TODO)\n",
    "\n",
    "The objective function is given by:\n",
    "\n",
    "$$\n",
    "f(\\mathbf{h}) = \\frac{1}{2}\\kappa \\mathbf{h}_t^T\\mathbf{Q}^T\\mathbf{Q}\\mathbf{h}_t + \\frac{1}{2} \\kappa \\mathbf{h}_t^T \\mathbf{S} \\mathbf{h}_t - \\mathbf{\\alpha}^T \\mathbf{h}_t + (\\mathbf{h}_{t} - \\mathbf{h}_{t-1})^T \\mathbf{\\Lambda} (\\mathbf{h}_{t} - \\mathbf{h}_{t-1})\n",
    "$$\n",
    "\n",
    "Where the terms correspond to: factor risk + idiosyncratic risk - expected portfolio return + transaction costs, respectively. We should also note that $\\textbf{Q}^T\\textbf{Q}$ is defined to be the same as $\\textbf{BFB}^T$.  Review the lessons if you need a refresher of how we get $\\textbf{Q}$.\n",
    "\n",
    "Our objective is to minimize this objective function. To do this, we will use Scipy's optimization function:\n",
    "\n",
    "`scipy.optimize.fmin_l_bfgs_b(func, initial_guess, func_gradient)`\n",
    "\n",
    "where:\n",
    "\n",
    "* **func** : is the function we want to minimize\n",
    "\n",
    "* **initial_guess** : is out initial guess\n",
    "\n",
    "* **func_gradient** : is the gradient of the function we want to minimize\n",
    "\n",
    "So, in order to use the `scipy.optimize.fmin_l_bfgs_b` function we first need to define its parameters.\n",
    "\n",
    "In the code below implement the function `obj_func(h)` that corresponds to the objective function above that we want to minimize. We will set the risk aversion to be `1.0e-6`."
   ]
  },
  {
   "cell_type": "code",
   "execution_count": 33,
   "metadata": {},
   "outputs": [],
   "source": [
    "risk_aversion = 1.0e-6\n",
    "\n",
    "def get_obj_func(h0, risk_aversion, Q, specVar, alpha_vec, Lambda):\n",
    "    \n",
    "    def obj_func(h):\n",
    "        f = 0.0\n",
    "        f += 0.5 * risk_aversion * np.sum( np.matmul(Q, h) ** 2 )\n",
    "        f += 0.5 * risk_aversion * np.dot(h ** 2, specVar) #since Specific Variance is diagonal, don't have to do matmul\n",
    "        f -= np.dot(h, alpha_vec)\n",
    "        f += np.dot( (h - h0) ** 2, Lambda) \n",
    "        return(f)\n",
    "    \n",
    "    return obj_func"
   ]
  },
  {
   "cell_type": "markdown",
   "metadata": {},
   "source": [
    "## Gradient (TODO)\n",
    "\n",
    "Now that we can generate the objective function using `get_obj_func`, we can now create a similar function with its gradient. The reason we're interested in calculating the gradient is so that we can tell the optimizer in which direction, and how much, it should shift the portfolio holdings in order to improve the objective function (minimize variance, minimize transaction cost, and maximize expected portfolio return).\n",
    "\n",
    "Before we implement the function we first need to know what the gradient looks like. The gradient, or derivative of the objective function, with respect to the portfolio holdings h, is given by:  \n",
    "\n",
    "$$\n",
    "f'(\\mathbf{h}) = \\frac{1}{2}\\kappa (2\\mathbf{Q}^T\\mathbf{Qh}) + \\frac{1}{2}\\kappa (2\\mathbf{Sh}) - \\mathbf{\\alpha} + 2(\\mathbf{h}_{t} - \\mathbf{h}_{t-1}) \\mathbf{\\Lambda}\n",
    "$$\n",
    "\n",
    "In the code below, implement the function `grad(h)` that corresponds to the function of the gradient given above."
   ]
  },
  {
   "cell_type": "code",
   "execution_count": 34,
   "metadata": {},
   "outputs": [],
   "source": [
    "def get_grad_func(h0, risk_aversion, Q, QT, specVar, alpha_vec, Lambda):\n",
    "    def grad_func(h):\n",
    "        # TODO: Implement\n",
    "        g = risk_aversion * (np.matmul(QT, np.matmul(Q,h)) + (specVar * h) ) - alpha_vec + 2 * (h-h0) * Lambda\n",
    "        return(np.asarray(g))\n",
    "    \n",
    "    return grad_func"
   ]
  },
  {
   "cell_type": "markdown",
   "metadata": {},
   "source": [
    "## Optimize (TODO)\n",
    "\n",
    "Now that we can generate the objective function using `get_obj_func`, and its corresponding gradient using `get_grad_func` we are ready to minimize the objective function using Scipy's optimization function. For this, we will use out initial holdings as our `initial_guess` parameter.\n",
    "\n",
    "In the cell below, implement the function `get_h_star` that optimizes the objective function. Use the objective function (`obj_func`) and gradient function (`grad_func`) provided within `get_h_star` to optimize the objective function using the `scipy.optimize.fmin_l_bfgs_b` function."
   ]
  },
  {
   "cell_type": "code",
   "execution_count": 35,
   "metadata": {},
   "outputs": [
    {
     "name": "stdout",
     "output_type": "stream",
     "text": [
      "[ -4.10305883 -22.20067593   1.51978435 ... 765.84215439 513.53986377\n",
      " 528.77798902]\n"
     ]
    }
   ],
   "source": [
    "risk_aversion = 1.0e-6\n",
    "\n",
    "Q = np.matmul(scipy.linalg.sqrtm(Fvar), BT)\n",
    "QT = Q.transpose()\n",
    "\n",
    "def get_h_star(risk_aversion, Q, QT, specVar, alpha_vec, h0, Lambda):\n",
    "    \"\"\"\n",
    "    Optimize the objective function\n",
    "\n",
    "    Parameters\n",
    "    ----------        \n",
    "    risk_aversion : int or float \n",
    "        Trader's risk aversion\n",
    "        \n",
    "    Q : patsy.design_info.DesignMatrix \n",
    "        Q Matrix\n",
    "        \n",
    "    QT : patsy.design_info.DesignMatrix \n",
    "        Transpose of the Q Matrix\n",
    "        \n",
    "    specVar: Pandas Series \n",
    "        Specific Variance\n",
    "        \n",
    "    alpha_vec: patsy.design_info.DesignMatrix \n",
    "        alpha vector\n",
    "        \n",
    "    h0 : Pandas Series  \n",
    "        initial holdings\n",
    "        \n",
    "    Lambda : Pandas Series  \n",
    "        Lambda\n",
    "        \n",
    "    Returns\n",
    "    -------\n",
    "    optimizer_result[0]: Numpy ndarray \n",
    "        optimized holdings\n",
    "    \"\"\"\n",
    "    obj_func = get_obj_func(h0, risk_aversion, Q, specVar, alpha_vec, Lambda)\n",
    "    grad_func = get_grad_func(h0, risk_aversion, Q, QT, specVar, alpha_vec, Lambda)\n",
    "    \n",
    "    # TODO: Implement \n",
    "\n",
    "    optimizer_result = scipy.optimize.fmin_l_bfgs_b(obj_func, h0, grad_func)\n",
    "\n",
    "    return optimizer_result[0]\n",
    "\n",
    "\n",
    "h_star = get_h_star(risk_aversion, Q, QT, specVar, alpha_vec, h0, Lambda)\n",
    "print(h_star)"
   ]
  },
  {
   "cell_type": "markdown",
   "metadata": {},
   "source": [
    "After we have optimized our objective function we can now use, `h_star` to create our optimal portfolio:"
   ]
  },
  {
   "cell_type": "code",
   "execution_count": 36,
   "metadata": {},
   "outputs": [],
   "source": [
    "opt_portfolio = pd.DataFrame(data = {\"Barrid\" : universe['Barrid'], \"h.opt\" : h_star})"
   ]
  },
  {
   "cell_type": "markdown",
   "metadata": {},
   "source": [
    "## Risk Exposures (TODO)\n",
    "\n",
    "We can also use `h_star` to calculate our portfolio's risk and alpha exposures.\n",
    "\n",
    "In the cells below implement the functions `get_risk_exposures` and `get_portfolio_alpha_exposure` that calculate the portfolio's risk and alpha exposures, respectively."
   ]
  },
  {
   "cell_type": "code",
   "execution_count": 37,
   "metadata": {},
   "outputs": [
    {
     "name": "stdout",
     "output_type": "stream",
     "text": [
      "USFASTD_AERODEF      -4087.960700\n",
      "USFASTD_AIRLINES      -898.901696\n",
      "USFASTD_ALUMSTEL     -5780.182383\n",
      "USFASTD_APPAREL       3249.051054\n",
      "USFASTD_AUTO          3161.522332\n",
      "USFASTD_BANKS        17927.599520\n",
      "USFASTD_BETA         -5725.262518\n",
      "USFASTD_BEVTOB       -8724.149405\n",
      "USFASTD_BIOLIFE      -7264.438783\n",
      "USFASTD_BLDGPROD     -1746.867327\n",
      "USFASTD_CHEM        -12211.402958\n",
      "USFASTD_CNSTENG       1459.296665\n",
      "USFASTD_CNSTMACH       690.753209\n",
      "USFASTD_CNSTMATL      2683.034563\n",
      "USFASTD_COMMEQP      -1245.496824\n",
      "USFASTD_COMPELEC     -1977.722839\n",
      "USFASTD_COMSVCS     -21355.327228\n",
      "USFASTD_CONGLOM      -1951.528656\n",
      "USFASTD_CONTAINR     -5426.637581\n",
      "USFASTD_DISTRIB       5899.458023\n",
      "USFASTD_DIVFIN        8722.050855\n",
      "USFASTD_DIVYILD        431.535980\n",
      "USFASTD_DWNRISK      15458.508760\n",
      "USFASTD_EARNQLTY   -136944.849427\n",
      "USFASTD_ELECEQP      -8249.572252\n",
      "USFASTD_ELECUTIL      9495.316115\n",
      "USFASTD_FOODPROD     -4455.727234\n",
      "USFASTD_FOODRET       3178.102071\n",
      "USFASTD_GASUTIL       7201.731944\n",
      "USFASTD_GROWTH     -135439.917922\n",
      "                        ...      \n",
      "USFASTD_MIDCAP       53928.090729\n",
      "USFASTD_MOMENTUM    -48470.182105\n",
      "USFASTD_MULTUTIL     -2089.333372\n",
      "USFASTD_OILGSCON      5180.670507\n",
      "USFASTD_OILGSDRL     -1463.839963\n",
      "USFASTD_OILGSEQP     -1435.360057\n",
      "USFASTD_OILGSEXP      5533.866757\n",
      "USFASTD_PAPER         -321.833549\n",
      "USFASTD_PHARMA       -3692.584388\n",
      "USFASTD_PRECMTLS     -2774.347347\n",
      "USFASTD_PROFIT     -100637.596595\n",
      "USFASTD_PROSPECT     52070.291437\n",
      "USFASTD_PSNLPROD    -16145.769481\n",
      "USFASTD_REALEST     -14492.807366\n",
      "USFASTD_RESTAUR      -1076.405814\n",
      "USFASTD_RESVOL      -25917.736885\n",
      "USFASTD_ROADRAIL     11854.156526\n",
      "USFASTD_SEASON       55882.635279\n",
      "USFASTD_SEMICOND      -305.588866\n",
      "USFASTD_SEMIEQP        893.571886\n",
      "USFASTD_SIZE         -5489.217445\n",
      "USFASTD_SOFTWARE     -6466.150324\n",
      "USFASTD_SPLTYRET      2744.226370\n",
      "USFASTD_SPTYCHEM    -11073.968684\n",
      "USFASTD_SPTYSTOR     10776.613128\n",
      "USFASTD_STREVRSL     43350.516587\n",
      "USFASTD_TELECOM       1550.827643\n",
      "USFASTD_TRADECO      -5910.354531\n",
      "USFASTD_TRANSPRT     -1373.909611\n",
      "USFASTD_WIRELESS      4603.739514\n",
      "Length: 77, dtype: float64\n"
     ]
    }
   ],
   "source": [
    "def get_risk_exposures(B, BT, h_star):\n",
    "    \"\"\"\n",
    "    Calculate portfolio's Risk Exposure\n",
    "\n",
    "    Parameters\n",
    "    ----------\n",
    "    B : patsy.design_info.DesignMatrix \n",
    "        Matrix of Risk Factors\n",
    "        \n",
    "    BT : patsy.design_info.DesignMatrix \n",
    "        Transpose of Matrix of Risk Factors\n",
    "        \n",
    "    h_star: Numpy ndarray \n",
    "        optimized holdings\n",
    "        \n",
    "    Returns\n",
    "    -------\n",
    "    risk_exposures : Pandas Series\n",
    "        Risk Exposures\n",
    "    \"\"\"\n",
    "    \n",
    "    risk_exposures = np.matmul(BT, h_star)\n",
    "    return pd.Series(risk_exposures, index = colnames(B))\n",
    "\n",
    "risk_exposures = get_risk_exposures(B, BT, h_star)\n",
    "print(risk_exposures)"
   ]
  },
  {
   "cell_type": "code",
   "execution_count": 38,
   "metadata": {},
   "outputs": [
    {
     "name": "stdout",
     "output_type": "stream",
     "text": [
      "USFASTD_1DREVRSL    2.259431e+06\n",
      "USFASTD_EARNYILD    1.753308e+06\n",
      "USFASTD_VALUE       2.255237e+06\n",
      "USFASTD_SENTMT      1.271437e+06\n",
      "dtype: float64\n"
     ]
    }
   ],
   "source": [
    "def get_portfolio_alpha_exposure(B_alpha, h_star):\n",
    "    \"\"\"\n",
    "    Calculate portfolio's Alpha Exposure\n",
    "\n",
    "    Parameters\n",
    "    ----------\n",
    "    B_alpha : patsy.design_info.DesignMatrix \n",
    "        Matrix of Alpha Factors\n",
    "        \n",
    "    h_star: Numpy ndarray \n",
    "        optimized holdings\n",
    "        \n",
    "    Returns\n",
    "    -------\n",
    "    alpha_exposures : Pandas Series\n",
    "        Alpha Exposures\n",
    "    \"\"\"\n",
    "    \n",
    "    # TODO: Implement\n",
    "    alpha_exp = pd.Series(np.matmul(B_alpha.transpose(), h_star), index = colnames(B_alpha))\n",
    "\n",
    "    return alpha_exp\n",
    "\n",
    "portfolio_alpha_exposure = get_portfolio_alpha_exposure(B_alpha, h_star)\n",
    "print(portfolio_alpha_exposure)"
   ]
  },
  {
   "cell_type": "markdown",
   "metadata": {},
   "source": [
    "## Transaction Costs (TODO)\n",
    "\n",
    "We can also use `h_star` to calculate our total transaction costs:\n",
    "$$\n",
    "\\mbox{tcost} = \\sum_i^{N} \\lambda_{i} (h_{i,t} - h_{i,t-1})^2\n",
    "$$\n",
    "\n",
    "In the cell below, implement the function `get_total_transaction_costs` that calculates the total transaction costs according to the equation above:"
   ]
  },
  {
   "cell_type": "code",
   "execution_count": 39,
   "metadata": {},
   "outputs": [
    {
     "name": "stdout",
     "output_type": "stream",
     "text": [
      "104.87520269773562\n"
     ]
    }
   ],
   "source": [
    "def get_total_transaction_costs(h0, h_star, Lambda):\n",
    "    \"\"\"\n",
    "    Calculate Total Transaction Costs\n",
    "\n",
    "    Parameters\n",
    "    ----------\n",
    "    h0 : Pandas Series\n",
    "        initial holdings (before optimization)\n",
    "        \n",
    "    h_star: Numpy ndarray \n",
    "        optimized holdings\n",
    "        \n",
    "    Lambda : Pandas Series  \n",
    "        Lambda\n",
    "        \n",
    "    Returns\n",
    "    -------\n",
    "    total_transaction_costs : float\n",
    "        Total Transaction Costs\n",
    "    \"\"\"\n",
    "    \n",
    "    # TODO: Implement\n",
    "    tcost = np.dot( (h_star - h0) ** 2, Lambda)\n",
    "    return tcost\n",
    "\n",
    "total_transaction_costs = get_total_transaction_costs(h0, h_star, Lambda)\n",
    "print(total_transaction_costs)"
   ]
  },
  {
   "cell_type": "markdown",
   "metadata": {},
   "source": [
    "## Putting It All Together\n",
    "\n",
    "We can now take all the above functions we created above and use them to create a single function, `form_optimal_portfolio` that returns the optimal portfolio, the risk and alpha exposures, and the total transactions costs."
   ]
  },
  {
   "cell_type": "code",
   "execution_count": 40,
   "metadata": {},
   "outputs": [],
   "source": [
    "def form_optimal_portfolio(df, previous, risk_aversion):\n",
    "    df = df.merge(previous, how = 'left', on = 'Barrid')\n",
    "    df = clean_nas(df)\n",
    "    df.loc[df['SpecRisk'] == 0]['SpecRisk'] = median(df['SpecRisk'])\n",
    "  \n",
    "    universe = get_universe(df)\n",
    "    date = str(int(universe['DataDate'][1]))\n",
    "  \n",
    "    all_factors = factors_from_names(list(universe))\n",
    "    risk_factors = setdiff(all_factors, alpha_factors)\n",
    "  \n",
    "    h0 = universe['h.opt.previous']\n",
    "  \n",
    "    B = model_matrix(get_formula(risk_factors, \"SpecRisk\"), universe)\n",
    "    BT = B.transpose()\n",
    "  \n",
    "    specVar = (0.01 * universe['SpecRisk']) ** 2\n",
    "    Fvar = diagonal_factor_cov(date, B)\n",
    "    \n",
    "    Lambda = get_lambda(universe)\n",
    "    B_alpha = get_B_alpha(alpha_factors, universe)\n",
    "    alpha_vec = get_alpha_vec(B_alpha)\n",
    "  \n",
    "    Q = np.matmul(scipy.linalg.sqrtm(Fvar), BT)\n",
    "    QT = Q.transpose()\n",
    "    \n",
    "    h_star = get_h_star(risk_aversion, Q, QT, specVar, alpha_vec, h0, Lambda)\n",
    "    opt_portfolio = pd.DataFrame(data = {\"Barrid\" : universe['Barrid'], \"h.opt\" : h_star})\n",
    "    \n",
    "    risk_exposures = get_risk_exposures(B, BT, h_star)\n",
    "    portfolio_alpha_exposure = get_portfolio_alpha_exposure(B_alpha, h_star)\n",
    "    total_transaction_costs = get_total_transaction_costs(h0, h_star, Lambda)\n",
    "  \n",
    "    return {\n",
    "        \"opt.portfolio\" : opt_portfolio, \n",
    "        \"risk.exposures\" : risk_exposures, \n",
    "        \"alpha.exposures\" : portfolio_alpha_exposure,\n",
    "        \"total.cost\" : total_transaction_costs}"
   ]
  },
  {
   "cell_type": "markdown",
   "metadata": {},
   "source": [
    "## Build tradelist\n",
    "\n",
    "The trade list is the most recent optimal asset holdings minus the previous day's optimal holdings."
   ]
  },
  {
   "cell_type": "code",
   "execution_count": 41,
   "metadata": {},
   "outputs": [],
   "source": [
    "def build_tradelist(prev_holdings, opt_result):\n",
    "    tmp = prev_holdings.merge(opt_result['opt.portfolio'], how='outer', on = 'Barrid')\n",
    "    tmp['h.opt.previous'] = np.nan_to_num(tmp['h.opt.previous'])\n",
    "    tmp['h.opt'] = np.nan_to_num(tmp['h.opt'])\n",
    "    return tmp"
   ]
  },
  {
   "cell_type": "markdown",
   "metadata": {},
   "source": [
    "## Save optimal holdings as previous optimal holdings.\n",
    "\n",
    "As we walk through each day, we'll re-use the column for previous holdings by storing the \"current\" optimal holdings as the \"previous\" optimal holdings."
   ]
  },
  {
   "cell_type": "code",
   "execution_count": 42,
   "metadata": {},
   "outputs": [],
   "source": [
    "def convert_to_previous(result): \n",
    "    prev = result['opt.portfolio']\n",
    "    prev = prev.rename(index=str, columns={\"h.opt\": \"h.opt.previous\"}, copy=True, inplace=False)\n",
    "    return prev"
   ]
  },
  {
   "cell_type": "markdown",
   "metadata": {},
   "source": [
    "## Run the backtest\n",
    "\n",
    "Walk through each day, calculating the optimal portfolio holdings and trade list.  This may take some time, but should finish sooner if you've chosen all the optimizations you learned in the lessons."
   ]
  },
  {
   "cell_type": "code",
   "execution_count": 43,
   "metadata": {},
   "outputs": [
    {
     "name": "stderr",
     "output_type": "stream",
     "text": [
      "Optimizing Portfolio:   0%|          | 0/252 [00:00<?, ?day/s]"
     ]
    },
    {
     "name": "stdout",
     "output_type": "stream",
     "text": [
      "[[-0.032 -0.298  0.644 -0.922]\n",
      " [-0.059 -1.072 -0.646 -0.991]\n",
      " [ 0.457 -0.06  -0.668 -0.092]\n",
      " ...\n",
      " [ 0.108  0.019  0.42  -0.528]\n",
      " [ 0.594 -2.726  1.828  1.983]\n",
      " [-0.164  0.837 -0.152 -0.128]]\n"
     ]
    },
    {
     "name": "stderr",
     "output_type": "stream",
     "text": [
      "Optimizing Portfolio:   0%|          | 1/252 [00:05<24:10,  5.78s/day]"
     ]
    },
    {
     "name": "stdout",
     "output_type": "stream",
     "text": [
      "[[ 0.342 -0.295  0.604 -0.975]\n",
      " [-0.285 -1.077 -0.644 -1.28 ]\n",
      " [-0.485 -0.051 -0.654 -0.107]\n",
      " ...\n",
      " [ 1.443  0.024  0.423 -0.509]\n",
      " [-1.318 -2.73   1.698  2.   ]\n",
      " [-0.013  0.846 -0.135 -0.134]]\n"
     ]
    },
    {
     "name": "stderr",
     "output_type": "stream",
     "text": [
      "Optimizing Portfolio:   1%|          | 2/252 [00:11<24:29,  5.88s/day]"
     ]
    },
    {
     "name": "stdout",
     "output_type": "stream",
     "text": [
      "[[-0.481 -0.294  0.595 -0.97 ]\n",
      " [-0.595 -1.08  -0.645 -1.37 ]\n",
      " [-0.109 -0.046 -0.644 -0.111]\n",
      " ...\n",
      " [ 0.603  0.029  0.432 -0.665]\n",
      " [ 0.402 -2.734  1.632  2.079]\n",
      " [ 0.012  0.844 -0.139 -0.181]]\n"
     ]
    },
    {
     "name": "stderr",
     "output_type": "stream",
     "text": [
      "Optimizing Portfolio:   1%|          | 3/252 [00:16<23:06,  5.57s/day]"
     ]
    },
    {
     "name": "stdout",
     "output_type": "stream",
     "text": [
      "[[-0.752 -0.294  0.614 -0.9  ]\n",
      " [ 0.195 -1.079 -0.665 -1.41 ]\n",
      " [ 0.244 -0.049 -0.65  -0.119]\n",
      " ...\n",
      " [-0.607  0.021  0.409 -0.633]\n",
      " [-1.393 -2.728  1.558  2.13 ]\n",
      " [ 0.706  0.865 -0.106 -0.174]]\n"
     ]
    },
    {
     "name": "stderr",
     "output_type": "stream",
     "text": [
      "Optimizing Portfolio:   2%|▏         | 4/252 [00:21<22:15,  5.39s/day]"
     ]
    },
    {
     "name": "stdout",
     "output_type": "stream",
     "text": [
      "[[-2.000e-03 -7.700e-02  6.260e-01 -8.660e-01]\n",
      " [-3.450e-01 -1.079e+00 -6.590e-01 -1.573e+00]\n",
      " [-6.240e-01 -3.000e-02 -6.240e-01 -1.790e-01]\n",
      " ...\n",
      " [ 6.030e-01  2.500e-02  4.170e-01 -6.600e-01]\n",
      " [-1.755e+00 -2.730e+00  1.452e+00  2.202e+00]\n",
      " [-1.067e+00  8.570e-01 -1.200e-01 -1.550e-01]]\n"
     ]
    },
    {
     "name": "stderr",
     "output_type": "stream",
     "text": [
      "Optimizing Portfolio:   2%|▏         | 5/252 [00:27<22:49,  5.55s/day]"
     ]
    },
    {
     "name": "stdout",
     "output_type": "stream",
     "text": [
      "[[-0.097 -0.077  0.637 -0.933]\n",
      " [ 0.203 -1.083 -0.676 -1.675]\n",
      " [ 0.365 -0.028 -0.623 -0.229]\n",
      " ...\n",
      " [-2.763 -0.005  0.33  -0.63 ]\n",
      " [-2.209 -2.734  1.34   2.257]\n",
      " [-0.432  0.849 -0.136 -0.15 ]]\n"
     ]
    },
    {
     "name": "stderr",
     "output_type": "stream",
     "text": [
      "Optimizing Portfolio:   2%|▏         | 6/252 [00:33<22:43,  5.54s/day]"
     ]
    },
    {
     "name": "stdout",
     "output_type": "stream",
     "text": [
      "[[-0.548 -0.073  0.65  -0.981]\n",
      " [-0.634 -1.082 -0.672 -1.674]\n",
      " [-0.496 -0.018 -0.609 -0.241]\n",
      " ...\n",
      " [ 0.515 -0.007  0.32  -0.631]\n",
      " [ 0.884 -2.733  1.367  2.293]\n",
      " [ 0.629  0.855 -0.128 -0.143]]\n"
     ]
    },
    {
     "name": "stderr",
     "output_type": "stream",
     "text": [
      "Optimizing Portfolio:   3%|▎         | 7/252 [00:38<22:23,  5.49s/day]"
     ]
    },
    {
     "name": "stdout",
     "output_type": "stream",
     "text": [
      "[[ 0.074 -0.076  0.645 -0.929]\n",
      " [-0.059 -1.082 -0.671 -1.715]\n",
      " [ 0.193 -0.022 -0.617 -0.261]\n",
      " ...\n",
      " [-0.296 -0.006  0.329 -0.773]\n",
      " [ 0.854 -2.734  1.374  2.238]\n",
      " [-0.454  0.849 -0.14  -0.124]]\n"
     ]
    },
    {
     "name": "stderr",
     "output_type": "stream",
     "text": [
      "Optimizing Portfolio:   3%|▎         | 8/252 [00:43<22:03,  5.42s/day]"
     ]
    },
    {
     "name": "stdout",
     "output_type": "stream",
     "text": [
      "[[-0.115 -0.074  0.659 -0.93 ]\n",
      " [ 0.19  -1.081 -0.67  -1.676]\n",
      " [-0.005 -0.019 -0.613 -0.273]\n",
      " ...\n",
      " [ 0.98   0.     0.347 -0.797]\n",
      " [ 2.83  -2.735  1.484  2.267]\n",
      " [ 0.378  0.857 -0.126 -0.144]]\n"
     ]
    },
    {
     "name": "stderr",
     "output_type": "stream",
     "text": [
      "Optimizing Portfolio:   4%|▎         | 9/252 [00:48<21:36,  5.33s/day]"
     ]
    },
    {
     "name": "stdout",
     "output_type": "stream",
     "text": [
      "[[ 7.100e-02 -7.700e-02  6.410e-01 -9.880e-01]\n",
      " [-5.330e-01 -1.082e+00 -6.590e-01 -1.675e+00]\n",
      " [-2.080e-01 -2.400e-02 -6.180e-01 -2.760e-01]\n",
      " ...\n",
      " [ 5.400e-02  1.000e-03  3.490e-01 -7.250e-01]\n",
      " [-9.180e-01 -2.738e+00  1.493e+00  2.222e+00]\n",
      " [ 3.430e-01  8.660e-01 -1.090e-01 -3.670e-01]]\n"
     ]
    },
    {
     "name": "stderr",
     "output_type": "stream",
     "text": [
      "Optimizing Portfolio:   4%|▍         | 10/252 [00:52<21:06,  5.23s/day]"
     ]
    },
    {
     "name": "stdout",
     "output_type": "stream",
     "text": [
      "[[ 0.75  -0.081  0.603 -0.989]\n",
      " [-0.209 -1.077 -0.656 -1.707]\n",
      " [-0.481  0.003 -0.576 -0.254]\n",
      " ...\n",
      " [ 1.061  0.011  0.371 -0.711]\n",
      " [ 0.418 -2.734  1.484  2.201]\n",
      " [ 1.35   0.89  -0.074 -0.447]]\n"
     ]
    },
    {
     "name": "stderr",
     "output_type": "stream",
     "text": [
      "Optimizing Portfolio:   4%|▍         | 11/252 [00:57<21:05,  5.25s/day]"
     ]
    },
    {
     "name": "stdout",
     "output_type": "stream",
     "text": [
      "[[-1.357e+00 -8.000e-02  6.230e-01 -9.860e-01]\n",
      " [ 1.000e-01 -1.082e+00 -6.850e-01 -2.011e+00]\n",
      " [ 2.710e-01  1.000e-03 -5.800e-01 -4.220e-01]\n",
      " ...\n",
      " [-1.445e+00 -1.200e-02  3.040e-01 -7.180e-01]\n",
      " [ 1.067e+00 -2.734e+00  1.484e+00  2.175e+00]\n",
      " [-4.380e-01  8.790e-01 -9.500e-02 -4.650e-01]]\n"
     ]
    },
    {
     "name": "stderr",
     "output_type": "stream",
     "text": [
      "Optimizing Portfolio:   5%|▍         | 12/252 [01:01<20:37,  5.16s/day]"
     ]
    },
    {
     "name": "stdout",
     "output_type": "stream",
     "text": [
      "[[ 0.79  -0.083  0.619 -0.998]\n",
      " [ 1.179 -1.086 -0.703 -1.895]\n",
      " [ 0.628 -0.003 -0.584 -0.544]\n",
      " ...\n",
      " [ 2.586  0.024  0.421 -0.725]\n",
      " [ 1.685 -2.734  1.565  2.168]\n",
      " [-1.357  0.864 -0.118 -0.481]]\n"
     ]
    },
    {
     "name": "stderr",
     "output_type": "stream",
     "text": [
      "Optimizing Portfolio:   5%|▌         | 13/252 [01:05<20:08,  5.06s/day]"
     ]
    },
    {
     "name": "stdout",
     "output_type": "stream",
     "text": [
      "[[ 5.210e-01 -8.000e-02  6.450e-01 -1.005e+00]\n",
      " [ 5.900e-01 -1.090e+00 -7.010e-01 -1.888e+00]\n",
      " [ 3.950e-01  1.000e-03 -5.750e-01 -5.160e-01]\n",
      " ...\n",
      " [ 1.981e+00  4.700e-02  4.960e-01 -7.600e-01]\n",
      " [-7.300e-01 -2.740e+00  1.559e+00  2.172e+00]\n",
      " [-2.250e-01  8.520e-01 -1.350e-01 -5.540e-01]]\n"
     ]
    },
    {
     "name": "stderr",
     "output_type": "stream",
     "text": [
      "Optimizing Portfolio:   6%|▌         | 14/252 [01:09<19:46,  4.98s/day]"
     ]
    },
    {
     "name": "stdout",
     "output_type": "stream",
     "text": [
      "[[-8.060e-01 -7.400e-02  6.820e-01 -1.063e+00]\n",
      " [-3.720e-01 -1.090e+00 -7.080e-01 -1.710e+00]\n",
      " [ 9.600e-02  2.000e-03 -5.760e-01 -5.080e-01]\n",
      " ...\n",
      " [ 9.520e-01  5.400e-02  5.190e-01 -7.490e-01]\n",
      " [-2.720e-01 -2.740e+00  1.523e+00  2.164e+00]\n",
      " [ 5.380e-01  8.540e-01 -1.360e-01 -6.480e-01]]\n"
     ]
    },
    {
     "name": "stderr",
     "output_type": "stream",
     "text": [
      "Optimizing Portfolio:   6%|▌         | 15/252 [01:13<19:20,  4.90s/day]"
     ]
    },
    {
     "name": "stdout",
     "output_type": "stream",
     "text": [
      "[[ 0.525 -0.073  0.678 -1.2  ]\n",
      " [-0.59  -1.085 -0.696 -1.666]\n",
      " [ 0.849 -0.003 -0.581 -0.486]\n",
      " ...\n",
      " [ 0.255  0.056  0.521 -0.793]\n",
      " [ 1.356 -2.735  1.585  2.146]\n",
      " [ 0.552  0.865 -0.117 -0.801]]\n"
     ]
    },
    {
     "name": "stderr",
     "output_type": "stream",
     "text": [
      "Optimizing Portfolio:   6%|▋         | 16/252 [01:17<19:02,  4.84s/day]"
     ]
    },
    {
     "name": "stdout",
     "output_type": "stream",
     "text": [
      "[[ 0.565 -0.072  0.69  -1.117]\n",
      " [ 0.009 -1.095 -0.7   -1.752]\n",
      " [ 0.479 -0.003 -0.583 -0.517]\n",
      " ...\n",
      " [-0.831  0.05   0.508 -0.8  ]\n",
      " [ 0.017 -2.746  1.545  2.145]\n",
      " [ 0.851  0.865 -0.116 -0.86 ]]\n"
     ]
    },
    {
     "name": "stderr",
     "output_type": "stream",
     "text": [
      "Optimizing Portfolio:   7%|▋         | 17/252 [01:21<18:44,  4.79s/day]"
     ]
    },
    {
     "name": "stdout",
     "output_type": "stream",
     "text": [
      "[[ 0.333 -0.074  0.685 -1.097]\n",
      " [ 0.968 -1.086 -0.698 -1.743]\n",
      " [ 0.478 -0.017 -0.601 -0.501]\n",
      " ...\n",
      " [ 1.126  0.064  0.55  -0.917]\n",
      " [ 0.193 -2.735  1.589  2.145]\n",
      " [-0.629  0.847 -0.143 -0.817]]\n"
     ]
    },
    {
     "name": "stderr",
     "output_type": "stream",
     "text": [
      "Optimizing Portfolio:   7%|▋         | 18/252 [01:24<18:13,  4.67s/day]"
     ]
    },
    {
     "name": "stdout",
     "output_type": "stream",
     "text": [
      "[[-0.453 -0.065  0.724 -1.03 ]\n",
      " [ 0.298 -1.073 -0.639 -1.741]\n",
      " [ 0.562 -0.016 -0.595 -0.378]\n",
      " ...\n",
      " [-0.693  0.058  0.535 -0.868]\n",
      " [-0.317 -2.734  1.638  2.148]\n",
      " [ 0.136  0.846 -0.141 -0.849]]\n"
     ]
    },
    {
     "name": "stderr",
     "output_type": "stream",
     "text": [
      "Optimizing Portfolio:   8%|▊         | 19/252 [01:27<17:47,  4.58s/day]"
     ]
    },
    {
     "name": "stdout",
     "output_type": "stream",
     "text": [
      "[[-0.343 -0.059  0.698 -0.967]\n",
      " [ 0.048 -1.097 -0.642 -1.799]\n",
      " [-0.496  0.076 -0.581 -0.427]\n",
      " ...\n",
      " [ 1.027  0.125  0.563 -0.951]\n",
      " [-1.213 -2.76   1.529  2.133]\n",
      " [-0.111  0.831 -0.146 -0.901]]\n"
     ]
    },
    {
     "name": "stderr",
     "output_type": "stream",
     "text": [
      "Optimizing Portfolio:   8%|▊         | 20/252 [01:29<17:21,  4.49s/day]"
     ]
    },
    {
     "name": "stdout",
     "output_type": "stream",
     "text": [
      "[[-2.000e-03 -6.400e-02  6.780e-01 -8.820e-01]\n",
      " [-1.990e-01 -1.090e+00 -6.160e-01 -1.751e+00]\n",
      " [ 6.340e-01  7.200e-02 -5.860e-01 -3.880e-01]\n",
      " ...\n",
      " [-8.270e-01  1.200e-01  5.520e-01 -9.790e-01]\n",
      " [ 1.163e+00 -2.757e+00  1.574e+00  2.109e+00]\n",
      " [-2.230e-01  8.240e-01 -1.560e-01 -9.740e-01]]\n"
     ]
    },
    {
     "name": "stderr",
     "output_type": "stream",
     "text": [
      "Optimizing Portfolio:   8%|▊         | 21/252 [01:31<16:50,  4.37s/day]"
     ]
    },
    {
     "name": "stdout",
     "output_type": "stream",
     "text": [
      "[[ 0.539 -0.079  0.625 -0.889]\n",
      " [ 0.687 -1.097 -0.623 -1.569]\n",
      " [ 0.886  0.062 -0.599 -0.266]\n",
      " ...\n",
      " [ 2.307  0.175  0.715 -0.942]\n",
      " [-0.211 -2.763  1.567  2.189]\n",
      " [-1.403  0.808 -0.18  -0.843]]\n"
     ]
    },
    {
     "name": "stderr",
     "output_type": "stream",
     "text": [
      "Optimizing Portfolio:   9%|▊         | 22/252 [01:34<16:24,  4.28s/day]"
     ]
    },
    {
     "name": "stdout",
     "output_type": "stream",
     "text": [
      "[[ 0.956 -0.069  0.627 -0.747]\n",
      " [-0.077 -1.092 -0.577 -1.496]\n",
      " [ 1.126  0.055 -0.601 -0.269]\n",
      " ...\n",
      " [-2.71   0.143  0.622 -0.878]\n",
      " [ 2.116 -2.764  1.66   2.225]\n",
      " [-0.317  0.794 -0.196 -0.835]]\n"
     ]
    },
    {
     "name": "stderr",
     "output_type": "stream",
     "text": [
      "Optimizing Portfolio:   9%|▉         | 23/252 [01:36<16:01,  4.20s/day]"
     ]
    },
    {
     "name": "stdout",
     "output_type": "stream",
     "text": [
      "[[-0.072 -0.076  0.607 -0.73 ]\n",
      " [-0.92  -1.085 -0.583 -1.533]\n",
      " [-0.178  0.051 -0.608 -0.253]\n",
      " ...\n",
      " [ 0.604  0.14   0.614 -0.874]\n",
      " [-1.001 -2.758  1.596  2.295]\n",
      " [ 0.255  0.793 -0.2   -0.82 ]]\n"
     ]
    },
    {
     "name": "stderr",
     "output_type": "stream",
     "text": [
      "Optimizing Portfolio:  10%|▉         | 24/252 [01:38<15:38,  4.12s/day]"
     ]
    },
    {
     "name": "stdout",
     "output_type": "stream",
     "text": [
      "[[-1.347 -0.072  0.622 -0.705]\n",
      " [-0.155 -1.092 -0.608 -1.645]\n",
      " [-0.478  0.063 -0.595 -0.227]\n",
      " ...\n",
      " [ 0.943  0.148  0.634 -0.96 ]\n",
      " [-0.971 -2.764  1.505  2.134]\n",
      " [-0.676  0.796 -0.204 -0.888]]\n"
     ]
    },
    {
     "name": "stderr",
     "output_type": "stream",
     "text": [
      "Optimizing Portfolio:  10%|▉         | 25/252 [01:41<15:18,  4.05s/day]"
     ]
    },
    {
     "name": "stdout",
     "output_type": "stream",
     "text": [
      "[[-0.102 -0.078  0.644 -0.719]\n",
      " [ 0.394 -1.098 -0.625 -1.635]\n",
      " [ 0.082  0.062 -0.598 -0.247]\n",
      " ...\n",
      " [ 0.598  0.152  0.647 -0.981]\n",
      " [ 0.715 -2.765  1.498  2.131]\n",
      " [ 0.848  0.8   -0.2   -0.905]]\n"
     ]
    },
    {
     "name": "stderr",
     "output_type": "stream",
     "text": [
      "Optimizing Portfolio:  10%|█         | 26/252 [01:45<15:17,  4.06s/day]"
     ]
    },
    {
     "name": "stdout",
     "output_type": "stream",
     "text": [
      "[[-0.178 -0.082  0.625 -0.777]\n",
      " [ 0.261 -1.097 -0.62  -1.657]\n",
      " [ 0.177  0.07  -0.591 -0.25 ]\n",
      " ...\n",
      " [-0.372  0.147  0.633 -0.994]\n",
      " [ 1.119 -2.765  1.584  2.144]\n",
      " [ 0.776  0.807 -0.19  -0.933]]\n"
     ]
    },
    {
     "name": "stderr",
     "output_type": "stream",
     "text": [
      "Optimizing Portfolio:  11%|█         | 27/252 [01:49<15:16,  4.07s/day]"
     ]
    },
    {
     "name": "stdout",
     "output_type": "stream",
     "text": [
      "[[ 0.392 -0.086  0.598 -0.98 ]\n",
      " [-0.216 -1.094 -0.602 -1.614]\n",
      " [-0.124  0.069 -0.59  -0.244]\n",
      " ...\n",
      " [-0.821  0.138  0.607 -0.985]\n",
      " [ 0.781 -2.766  1.597  2.196]\n",
      " [-0.963  0.806 -0.188 -0.965]]\n"
     ]
    },
    {
     "name": "stderr",
     "output_type": "stream",
     "text": [
      "Optimizing Portfolio:  11%|█         | 28/252 [01:54<15:15,  4.09s/day]"
     ]
    },
    {
     "name": "stdout",
     "output_type": "stream",
     "text": [
      "[[ 0.239 -0.091  0.586 -0.835]\n",
      " [ 0.157 -1.097 -0.597 -1.594]\n",
      " [-0.054  0.075 -0.579 -0.229]\n",
      " ...\n",
      " [-0.808  0.124  0.58  -0.84 ]\n",
      " [ 0.354 -2.77   1.593  2.194]\n",
      " [-0.406  0.798 -0.202 -1.016]]\n"
     ]
    },
    {
     "name": "stderr",
     "output_type": "stream",
     "text": [
      "Optimizing Portfolio:  12%|█▏        | 29/252 [01:58<15:10,  4.08s/day]"
     ]
    },
    {
     "name": "stdout",
     "output_type": "stream",
     "text": [
      "[[ 0.292 -0.095  0.566 -0.767]\n",
      " [ 0.246 -1.094 -0.577 -1.53 ]\n",
      " [ 0.489  0.064 -0.593 -0.254]\n",
      " ...\n",
      " [-0.833  0.12   0.569 -0.789]\n",
      " [ 0.298 -2.771  1.592  2.139]\n",
      " [ 0.045  0.793 -0.207 -1.029]]\n"
     ]
    },
    {
     "name": "stderr",
     "output_type": "stream",
     "text": [
      "Optimizing Portfolio:  12%|█▏        | 30/252 [02:02<15:06,  4.09s/day]"
     ]
    },
    {
     "name": "stdout",
     "output_type": "stream",
     "text": [
      "[[-0.16  -0.095  0.566 -0.756]\n",
      " [ 0.065 -1.094 -0.581 -1.356]\n",
      " [ 1.582  0.061 -0.601 -0.265]\n",
      " ...\n",
      " [ 2.554  0.145  0.642 -0.761]\n",
      " [-0.677 -2.772  1.507  2.127]\n",
      " [-0.339  0.802 -0.207 -1.006]]\n"
     ]
    },
    {
     "name": "stderr",
     "output_type": "stream",
     "text": [
      "Optimizing Portfolio:  12%|█▏        | 31/252 [02:06<15:02,  4.09s/day]"
     ]
    },
    {
     "name": "stdout",
     "output_type": "stream",
     "text": [
      "[[-0.395 -0.092  0.586 -0.785]\n",
      " [ 0.142 -1.089 -0.584 -1.276]\n",
      " [ 0.046  0.064 -0.595 -0.348]\n",
      " ...\n",
      " [ 0.582  0.153  0.666 -0.616]\n",
      " [ 2.575 -2.764  1.652  2.147]\n",
      " [ 1.156  0.809 -0.195 -1.065]]\n"
     ]
    },
    {
     "name": "stderr",
     "output_type": "stream",
     "text": [
      "Optimizing Portfolio:  13%|█▎        | 32/252 [02:10<15:00,  4.09s/day]"
     ]
    },
    {
     "name": "stdout",
     "output_type": "stream",
     "text": [
      "[[ 0.339 -0.058  0.705 -0.739]\n",
      " [-0.156 -1.1   -0.588 -1.081]\n",
      " [ 0.355  0.073 -0.577 -0.498]\n",
      " ...\n",
      " [-1.15   0.148  0.645 -0.731]\n",
      " [-1.142 -2.775  1.614  2.162]\n",
      " [-0.609  0.793 -0.217 -1.066]]\n"
     ]
    },
    {
     "name": "stderr",
     "output_type": "stream",
     "text": [
      "Optimizing Portfolio:  13%|█▎        | 33/252 [02:15<14:56,  4.09s/day]"
     ]
    },
    {
     "name": "stdout",
     "output_type": "stream",
     "text": [
      "[[ 0.315 -0.057  0.715 -0.75 ]\n",
      " [-0.245 -1.094 -0.58  -1.235]\n",
      " [-0.232  0.07  -0.581 -0.52 ]\n",
      " ...\n",
      " [ 0.322  0.153  0.662 -0.755]\n",
      " [ 0.005 -2.77   1.649  2.153]\n",
      " [ 0.652  0.796 -0.213 -1.101]]\n"
     ]
    },
    {
     "name": "stderr",
     "output_type": "stream",
     "text": [
      "Optimizing Portfolio:  13%|█▎        | 34/252 [02:19<14:51,  4.09s/day]"
     ]
    },
    {
     "name": "stdout",
     "output_type": "stream",
     "text": [
      "[[ 1.342 -0.056  0.723 -0.729]\n",
      " [ 0.271 -1.096 -0.564 -0.88 ]\n",
      " [ 0.545  0.062 -0.59  -0.519]\n",
      " ...\n",
      " [-0.435  0.158  0.682 -0.827]\n",
      " [-0.635 -2.776  1.641  2.152]\n",
      " [-0.016  0.785 -0.226 -1.111]]\n"
     ]
    },
    {
     "name": "stderr",
     "output_type": "stream",
     "text": [
      "Optimizing Portfolio:  14%|█▍        | 35/252 [02:23<14:52,  4.11s/day]"
     ]
    },
    {
     "name": "stdout",
     "output_type": "stream",
     "text": [
      "[[ 0.102 -0.06   0.705 -0.958]\n",
      " [-0.391 -1.092 -0.542 -0.821]\n",
      " [ 0.135  0.063 -0.591 -0.563]\n",
      " ...\n",
      " [ 0.426  0.164  0.702 -0.533]\n",
      " [ 1.621 -2.778  1.75   2.21 ]\n",
      " [-0.656  0.787 -0.231 -1.087]]\n"
     ]
    },
    {
     "name": "stderr",
     "output_type": "stream",
     "text": [
      "Optimizing Portfolio:  14%|█▍        | 36/252 [02:28<14:52,  4.13s/day]"
     ]
    },
    {
     "name": "stdout",
     "output_type": "stream",
     "text": [
      "[[-1.083 -0.06   0.707 -0.812]\n",
      " [ 0.123 -1.098 -0.574 -0.751]\n",
      " [-0.31   0.067 -0.587 -0.589]\n",
      " ...\n",
      " [-0.496  0.159  0.685 -0.608]\n",
      " [-1.372 -2.778  1.73   2.21 ]\n",
      " [-0.848  0.784 -0.243 -1.171]]\n"
     ]
    },
    {
     "name": "stderr",
     "output_type": "stream",
     "text": [
      "Optimizing Portfolio:  15%|█▍        | 37/252 [02:33<14:50,  4.14s/day]"
     ]
    },
    {
     "name": "stdout",
     "output_type": "stream",
     "text": [
      "[[-0.418 -0.072  0.694 -0.883]\n",
      " [-0.475 -1.092 -0.57  -0.683]\n",
      " [-0.151  0.075 -0.576 -0.456]\n",
      " ...\n",
      " [ 0.551  0.161  0.693 -0.594]\n",
      " [-0.966 -2.773  1.7    2.319]\n",
      " [ 0.619  0.791 -0.233 -0.981]]\n"
     ]
    },
    {
     "name": "stderr",
     "output_type": "stream",
     "text": [
      "Optimizing Portfolio:  15%|█▌        | 38/252 [02:37<14:46,  4.14s/day]"
     ]
    },
    {
     "name": "stdout",
     "output_type": "stream",
     "text": [
      "[[ 0.206 -0.133  0.681 -0.904]\n",
      " [ 0.336 -0.976 -0.586 -0.832]\n",
      " [-0.02   0.07  -0.574 -0.382]\n",
      " ...\n",
      " [-1.261  0.162  0.637 -0.593]\n",
      " [-0.07  -2.761  1.659  2.322]\n",
      " [-0.011  0.765 -0.244 -0.925]]\n"
     ]
    },
    {
     "name": "stderr",
     "output_type": "stream",
     "text": [
      "Optimizing Portfolio:  15%|█▌        | 39/252 [02:41<14:43,  4.15s/day]"
     ]
    },
    {
     "name": "stdout",
     "output_type": "stream",
     "text": [
      "[[ 0.041 -0.136  0.666 -1.057]\n",
      " [-0.119 -0.967 -0.571 -0.838]\n",
      " [ 2.048  0.068 -0.579 -0.414]\n",
      " ...\n",
      " [-1.32   0.151  0.605 -0.564]\n",
      " [ 0.893 -2.755  1.672  2.277]\n",
      " [-1.02   0.758 -0.256 -0.917]]\n"
     ]
    },
    {
     "name": "stderr",
     "output_type": "stream",
     "text": [
      "Optimizing Portfolio:  16%|█▌        | 40/252 [02:46<14:40,  4.15s/day]"
     ]
    },
    {
     "name": "stdout",
     "output_type": "stream",
     "text": [
      "[[ 0.2   -0.132  0.635 -1.065]\n",
      " [ 0.217 -0.979 -0.566 -0.69 ]\n",
      " [-0.03   0.062 -0.589 -0.361]\n",
      " ...\n",
      " [-0.981  0.143  0.58  -0.578]\n",
      " [-2.331 -2.771  1.456  2.166]\n",
      " [ 0.111  0.758 -0.256 -0.909]]\n"
     ]
    },
    {
     "name": "stderr",
     "output_type": "stream",
     "text": [
      "Optimizing Portfolio:  16%|█▋        | 41/252 [02:50<14:38,  4.16s/day]"
     ]
    },
    {
     "name": "stdout",
     "output_type": "stream",
     "text": [
      "[[ 0.392 -0.135  0.624 -1.065]\n",
      " [ 0.174 -0.974 -0.549 -0.746]\n",
      " [ 0.079  0.058 -0.594 -0.363]\n",
      " ...\n",
      " [ 0.732  0.149  0.599 -0.633]\n",
      " [-1.095 -2.771  1.423  2.206]\n",
      " [ 0.748  0.792 -0.202 -0.935]]\n"
     ]
    },
    {
     "name": "stderr",
     "output_type": "stream",
     "text": [
      "Optimizing Portfolio:  17%|█▋        | 42/252 [02:54<14:32,  4.15s/day]"
     ]
    },
    {
     "name": "stdout",
     "output_type": "stream",
     "text": [
      "[[-0.267 -0.143  0.599 -1.035]\n",
      " [-0.274 -0.981 -0.565 -0.673]\n",
      " [ 0.013  0.111 -0.516 -0.351]\n",
      " ...\n",
      " [ 0.804  0.146  0.601 -0.766]\n",
      " [-2.338 -2.775  1.288  2.234]\n",
      " [ 0.213  0.796 -0.194 -0.915]]\n"
     ]
    },
    {
     "name": "stderr",
     "output_type": "stream",
     "text": [
      "Optimizing Portfolio:  17%|█▋        | 43/252 [02:59<14:30,  4.16s/day]"
     ]
    },
    {
     "name": "stdout",
     "output_type": "stream",
     "text": [
      "[[ 0.066 -0.142  0.609 -1.034]\n",
      " [ 0.579 -0.986 -0.554 -0.605]\n",
      " [ 0.845  0.111 -0.511 -0.364]\n",
      " ...\n",
      " [-0.241  0.143  0.596 -0.761]\n",
      " [ 1.211 -2.782  1.355  2.205]\n",
      " [ 0.298  0.795 -0.194 -0.98 ]]\n"
     ]
    },
    {
     "name": "stderr",
     "output_type": "stream",
     "text": [
      "Optimizing Portfolio:  17%|█▋        | 44/252 [03:04<14:31,  4.19s/day]"
     ]
    },
    {
     "name": "stdout",
     "output_type": "stream",
     "text": [
      "[[-0.675 -0.137  0.653 -1.041]\n",
      " [ 0.272 -0.98  -0.546 -0.61 ]\n",
      " [ 0.655  0.111 -0.512 -0.338]\n",
      " ...\n",
      " [ 0.809  0.154  0.632 -0.738]\n",
      " [ 0.474 -2.781  1.4    2.202]\n",
      " [-0.853  0.779 -0.219 -0.982]]\n"
     ]
    },
    {
     "name": "stderr",
     "output_type": "stream",
     "text": [
      "Optimizing Portfolio:  18%|█▊        | 45/252 [03:08<14:28,  4.20s/day]"
     ]
    },
    {
     "name": "stdout",
     "output_type": "stream",
     "text": [
      "[[ 0.515 -0.139  0.647 -1.091]\n",
      " [ 0.274 -0.978 -0.538 -0.566]\n",
      " [-0.236  0.117 -0.502 -0.348]\n",
      " ...\n",
      " [-0.295  0.152  0.63  -0.659]\n",
      " [ 0.868 -2.781  1.426  2.148]\n",
      " [ 0.409  0.775 -0.224 -0.913]]\n"
     ]
    },
    {
     "name": "stderr",
     "output_type": "stream",
     "text": [
      "Optimizing Portfolio:  18%|█▊        | 46/252 [03:14<14:29,  4.22s/day]"
     ]
    },
    {
     "name": "stdout",
     "output_type": "stream",
     "text": [
      "[[-0.065 -0.135  0.664 -1.035]\n",
      " [ 0.083 -0.981 -0.524 -0.574]\n",
      " [-0.425  0.121 -0.492 -0.39 ]\n",
      " ...\n",
      " [-0.278  0.154  0.634 -0.699]\n",
      " [ 0.682 -2.788  1.449  2.136]\n",
      " [ 0.184  0.765 -0.238 -0.885]]\n"
     ]
    },
    {
     "name": "stderr",
     "output_type": "stream",
     "text": [
      "Optimizing Portfolio:  19%|█▊        | 47/252 [03:27<15:06,  4.42s/day]"
     ]
    },
    {
     "name": "stdout",
     "output_type": "stream",
     "text": [
      "[[-0.328 -0.148  0.657 -0.847]\n",
      " [-0.266 -0.994 -0.535 -0.559]\n",
      " [-0.203  0.097 -0.519 -0.348]\n",
      " ...\n",
      " [ 0.469  0.488  0.723 -0.693]\n",
      " [-0.602 -2.801  1.415  2.136]\n",
      " [-0.129  0.749 -0.252 -0.95 ]]\n"
     ]
    },
    {
     "name": "stderr",
     "output_type": "stream",
     "text": [
      "Optimizing Portfolio:  19%|█▉        | 48/252 [03:32<15:01,  4.42s/day]"
     ]
    },
    {
     "name": "stdout",
     "output_type": "stream",
     "text": [
      "[[-0.49  -0.15   0.64  -0.737]\n",
      " [-0.471 -0.998 -0.534 -0.602]\n",
      " [-1.151  0.109 -0.507 -0.388]\n",
      " ...\n",
      " [ 0.757 -2.806  1.465  2.237]\n",
      " [ 0.94   0.776 -0.212 -0.817]\n",
      " [-2.569  0.809  0.141 -0.195]]\n"
     ]
    },
    {
     "name": "stderr",
     "output_type": "stream",
     "text": [
      "Optimizing Portfolio:  19%|█▉        | 49/252 [03:36<14:57,  4.42s/day]"
     ]
    },
    {
     "name": "stdout",
     "output_type": "stream",
     "text": [
      "[[ 0.584 -0.146  0.657 -0.665]\n",
      " [ 1.113 -0.999 -0.545 -0.505]\n",
      " [ 0.85   0.108 -0.501 -0.389]\n",
      " ...\n",
      " [-0.526  0.487  0.72  -0.73 ]\n",
      " [-0.123 -2.807  1.438  2.171]\n",
      " [-0.793  0.76  -0.235 -0.642]]\n"
     ]
    },
    {
     "name": "stderr",
     "output_type": "stream",
     "text": [
      "Optimizing Portfolio:  20%|█▉        | 50/252 [03:39<14:48,  4.40s/day]"
     ]
    },
    {
     "name": "stdout",
     "output_type": "stream",
     "text": [
      "[[ 0.743 -0.148  0.653 -0.661]\n",
      " [ 0.04  -0.999 -0.569 -0.308]\n",
      " [ 2.332  0.097 -0.514 -0.421]\n",
      " ...\n",
      " [ 0.4    0.491  0.727 -0.707]\n",
      " [-2.709 -2.802  1.302  2.136]\n",
      " [-0.498  0.758 -0.236 -0.54 ]]\n"
     ]
    },
    {
     "name": "stderr",
     "output_type": "stream",
     "text": [
      "Optimizing Portfolio:  20%|██        | 51/252 [03:43<14:41,  4.39s/day]"
     ]
    },
    {
     "name": "stdout",
     "output_type": "stream",
     "text": [
      "[[-0.549 -0.15   0.639 -0.664]\n",
      " [-0.042 -1.005 -0.596 -0.255]\n",
      " [-1.17   0.121 -0.482 -0.374]\n",
      " ...\n",
      " [-0.597  0.475  0.694 -0.716]\n",
      " [ 0.334 -2.803  1.31   2.145]\n",
      " [ 0.046  0.763 -0.231 -0.463]]\n"
     ]
    },
    {
     "name": "stderr",
     "output_type": "stream",
     "text": [
      "Optimizing Portfolio:  21%|██        | 52/252 [03:45<14:28,  4.34s/day]"
     ]
    },
    {
     "name": "stdout",
     "output_type": "stream",
     "text": [
      "[[ 0.886 -0.16   0.618 -0.786]\n",
      " [ 0.19  -0.991 -0.597 -0.3  ]\n",
      " [ 0.384  0.124 -0.482 -0.209]\n",
      " ...\n",
      " [ 0.995  0.493  0.716 -0.685]\n",
      " [ 1.432 -2.784  1.3    2.139]\n",
      " [-1.523  0.745 -0.272 -0.381]]\n"
     ]
    },
    {
     "name": "stderr",
     "output_type": "stream",
     "text": [
      "Optimizing Portfolio:  21%|██        | 53/252 [03:51<14:28,  4.37s/day]"
     ]
    },
    {
     "name": "stdout",
     "output_type": "stream",
     "text": [
      "[[-0.394 -0.158  0.639 -0.792]\n",
      " [ 0.276 -0.989 -0.602 -0.231]\n",
      " [-0.281  0.115 -0.495 -0.303]\n",
      " ...\n",
      " [ 0.819  0.502  0.732 -0.628]\n",
      " [ 0.691 -2.783  1.308  2.087]\n",
      " [-1.321  0.723 -0.307 -0.249]]\n"
     ]
    },
    {
     "name": "stderr",
     "output_type": "stream",
     "text": [
      "Optimizing Portfolio:  21%|██▏       | 54/252 [03:53<14:17,  4.33s/day]"
     ]
    },
    {
     "name": "stdout",
     "output_type": "stream",
     "text": [
      "[[-2.000e-03 -1.530e-01  6.700e-01 -8.540e-01]\n",
      " [-2.180e-01 -9.880e-01 -5.860e-01 -1.530e-01]\n",
      " [ 1.380e-01  1.150e-01 -4.950e-01 -3.200e-01]\n",
      " ...\n",
      " [ 1.627e+00  5.340e-01  8.000e-01 -6.670e-01]\n",
      " [ 4.930e-01 -2.786e+00  1.338e+00  2.175e+00]\n",
      " [ 3.900e-02  7.240e-01 -3.060e-01 -3.490e-01]]\n"
     ]
    },
    {
     "name": "stderr",
     "output_type": "stream",
     "text": [
      "Optimizing Portfolio:  22%|██▏       | 55/252 [04:05<14:38,  4.46s/day]"
     ]
    },
    {
     "name": "stdout",
     "output_type": "stream",
     "text": [
      "[[-0.37  -0.155  0.667 -0.695]\n",
      " [-0.209 -0.986 -0.579 -0.071]\n",
      " [ 0.169  0.107 -0.508 -0.343]\n",
      " ...\n",
      " [-0.69   0.523  0.779 -0.726]\n",
      " [ 1.632 -2.785  1.438  2.171]\n",
      " [ 0.534  0.731 -0.296 -0.303]]\n"
     ]
    },
    {
     "name": "stderr",
     "output_type": "stream",
     "text": [
      "Optimizing Portfolio:  22%|██▏       | 56/252 [04:09<14:33,  4.45s/day]"
     ]
    },
    {
     "name": "stdout",
     "output_type": "stream",
     "text": [
      "[[-0.121 -0.162  0.676 -0.767]\n",
      " [-0.265  0.562 -0.621  0.005]\n",
      " [-0.045  0.105 -0.504 -0.342]\n",
      " ...\n",
      " [ 0.461  0.516  0.778 -0.71 ]\n",
      " [ 0.567 -2.786  1.469  2.028]\n",
      " [ 0.565  0.481 -0.296 -0.21 ]]\n"
     ]
    },
    {
     "name": "stderr",
     "output_type": "stream",
     "text": [
      "Optimizing Portfolio:  23%|██▎       | 57/252 [04:11<14:20,  4.41s/day]"
     ]
    },
    {
     "name": "stdout",
     "output_type": "stream",
     "text": [
      "[[-0.12  -0.168  0.632 -0.834]\n",
      " [-0.654  0.573 -0.609 -0.028]\n",
      " [-0.995  0.11  -0.498 -0.312]\n",
      " ...\n",
      " [-0.396  0.489  0.719 -0.86 ]\n",
      " [-0.233 -2.781  1.446  2.21 ]\n",
      " [ 0.627  0.499 -0.259 -0.168]]\n"
     ]
    },
    {
     "name": "stderr",
     "output_type": "stream",
     "text": [
      "Optimizing Portfolio:  23%|██▎       | 58/252 [04:13<14:09,  4.38s/day]"
     ]
    },
    {
     "name": "stdout",
     "output_type": "stream",
     "text": [
      "[[-0.526 -0.162  0.668 -0.827]\n",
      " [-0.399  0.576 -0.611 -0.067]\n",
      " [-0.176  0.104 -0.508 -0.295]\n",
      " ...\n",
      " [ 0.712 -2.787  1.47   2.213]\n",
      " [ 0.599  0.497 -0.263 -0.172]\n",
      " [-2.244  0.763  0.06  -0.294]]\n"
     ]
    },
    {
     "name": "stderr",
     "output_type": "stream",
     "text": [
      "Optimizing Portfolio:  23%|██▎       | 59/252 [04:16<13:57,  4.34s/day]"
     ]
    },
    {
     "name": "stdout",
     "output_type": "stream",
     "text": [
      "[[ 0.178 -0.164  0.65  -0.74 ]\n",
      " [-0.175  0.579 -0.607 -0.106]\n",
      " [ 0.195  0.107 -0.507 -0.307]\n",
      " ...\n",
      " [-0.64  -2.795  1.454  2.144]\n",
      " [ 0.296  0.501 -0.256 -0.202]\n",
      " [-1.383  0.757  0.049 -0.238]]\n"
     ]
    },
    {
     "name": "stderr",
     "output_type": "stream",
     "text": [
      "Optimizing Portfolio:  24%|██▍       | 60/252 [04:18<13:46,  4.31s/day]"
     ]
    },
    {
     "name": "stdout",
     "output_type": "stream",
     "text": [
      "[[ 0.186 -0.171  0.625 -0.722]\n",
      " [ 0.394  0.568 -0.618 -0.035]\n",
      " [-0.397  0.103 -0.513 -0.283]\n",
      " ...\n",
      " [-1.201 -2.79   1.41   2.044]\n",
      " [ 0.154  0.495 -0.26  -0.207]\n",
      " [-0.419  0.735  0.004 -0.275]]\n"
     ]
    },
    {
     "name": "stderr",
     "output_type": "stream",
     "text": [
      "Optimizing Portfolio:  24%|██▍       | 61/252 [04:21<13:38,  4.29s/day]"
     ]
    },
    {
     "name": "stdout",
     "output_type": "stream",
     "text": [
      "[[ 0.099 -0.184  0.609 -0.698]\n",
      " [-0.026  0.677 -0.631 -0.086]\n",
      " [ 0.782  0.125 -0.531 -0.224]\n",
      " ...\n",
      " [ 0.71  -2.84   1.399  1.936]\n",
      " [ 0.042  0.616 -0.28  -0.223]\n",
      " [-0.04   0.426  0.015 -0.296]]\n"
     ]
    },
    {
     "name": "stderr",
     "output_type": "stream",
     "text": [
      "Optimizing Portfolio:  25%|██▍       | 62/252 [04:23<13:28,  4.26s/day]"
     ]
    },
    {
     "name": "stdout",
     "output_type": "stream",
     "text": [
      "[[-0.651 -0.186  0.613 -0.752]\n",
      " [ 0.279  0.682 -0.624 -0.054]\n",
      " [ 0.425  0.113 -0.543 -0.262]\n",
      " ...\n",
      " [-0.45  -2.853  1.364  1.797]\n",
      " [-0.109  0.61  -0.286 -0.223]\n",
      " [-2.8    0.378 -0.068 -0.357]]\n"
     ]
    },
    {
     "name": "stderr",
     "output_type": "stream",
     "text": [
      "Optimizing Portfolio:  25%|██▌       | 63/252 [04:33<13:41,  4.35s/day]"
     ]
    },
    {
     "name": "stdout",
     "output_type": "stream",
     "text": [
      "[[-0.172 -0.183  0.598 -0.812]\n",
      " [-1.059  0.675 -0.629 -0.074]\n",
      " [ 0.12   0.116 -0.546 -0.225]\n",
      " ...\n",
      " [-0.156 -2.85   1.361  1.859]\n",
      " [ 0.211  0.624 -0.269 -0.203]\n",
      " [-1.946  0.389 -0.055 -0.653]]\n"
     ]
    },
    {
     "name": "stderr",
     "output_type": "stream",
     "text": [
      "Optimizing Portfolio:  25%|██▌       | 64/252 [04:38<13:37,  4.35s/day]"
     ]
    },
    {
     "name": "stdout",
     "output_type": "stream",
     "text": [
      "[[ 0.23  -0.183  0.588 -0.712]\n",
      " [-0.138  0.68  -0.622 -0.116]\n",
      " [ 0.336  0.114 -0.548 -0.209]\n",
      " ...\n",
      " [-0.448 -2.847  1.312  1.624]\n",
      " [ 0.99   0.639 -0.242 -0.244]\n",
      " [-1.236  0.393 -0.049 -0.622]]\n"
     ]
    },
    {
     "name": "stderr",
     "output_type": "stream",
     "text": [
      "Optimizing Portfolio:  26%|██▌       | 65/252 [04:42<13:33,  4.35s/day]"
     ]
    },
    {
     "name": "stdout",
     "output_type": "stream",
     "text": [
      "[[ 0.311 -0.181  0.601 -0.697]\n",
      " [ 0.622  0.665 -0.626 -0.105]\n",
      " [ 0.195  0.106 -0.554 -0.245]\n",
      " ...\n",
      " [-1.991 -2.848  1.22   1.714]\n",
      " [-0.663  0.63  -0.26  -0.301]\n",
      " [ 1.529  0.403 -0.026 -0.527]]\n"
     ]
    },
    {
     "name": "stderr",
     "output_type": "stream",
     "text": [
      "Optimizing Portfolio:  26%|██▌       | 66/252 [04:47<13:29,  4.35s/day]"
     ]
    },
    {
     "name": "stdout",
     "output_type": "stream",
     "text": [
      "[[-0.814 -0.176  0.635 -0.665]\n",
      " [-0.486  0.662 -0.636 -0.367]\n",
      " [ 0.197  0.109 -0.553 -0.117]\n",
      " ...\n",
      " [-1.245 -2.851  1.178  1.803]\n",
      " [ 1.079  0.635 -0.248 -0.27 ]\n",
      " [-2.084  0.381 -0.071 -0.612]]\n"
     ]
    },
    {
     "name": "stderr",
     "output_type": "stream",
     "text": [
      "Optimizing Portfolio:  27%|██▋       | 67/252 [04:51<13:25,  4.36s/day]"
     ]
    },
    {
     "name": "stdout",
     "output_type": "stream",
     "text": [
      "[[ 0.227 -0.173  0.625 -0.699]\n",
      " [-0.196  0.677 -0.625 -0.316]\n",
      " [-0.439  0.116 -0.546 -0.069]\n",
      " ...\n",
      " [-1.419 -2.832  1.12   2.024]\n",
      " [ 0.248  0.636 -0.251 -0.296]\n",
      " [ 1.319  0.582  0.122 -0.667]]\n"
     ]
    },
    {
     "name": "stderr",
     "output_type": "stream",
     "text": [
      "Optimizing Portfolio:  27%|██▋       | 68/252 [04:58<13:27,  4.39s/day]"
     ]
    },
    {
     "name": "stdout",
     "output_type": "stream",
     "text": [
      "[[ 0.196 -0.175  0.6   -0.654]\n",
      " [-1.735  0.689 -0.609 -0.366]\n",
      " [ 2.655  0.137 -0.512 -0.016]\n",
      " ...\n",
      " [ 0.421 -2.827  1.156  1.938]\n",
      " [ 0.071  0.64  -0.239 -0.408]\n",
      " [ 2.27   0.652  0.239 -0.522]]\n"
     ]
    },
    {
     "name": "stderr",
     "output_type": "stream",
     "text": [
      "Optimizing Portfolio:  27%|██▋       | 69/252 [05:04<13:26,  4.41s/day]"
     ]
    },
    {
     "name": "stdout",
     "output_type": "stream",
     "text": [
      "[[ 0.182 -0.171  0.615 -0.652]\n",
      " [-0.589  0.687 -0.607 -0.336]\n",
      " [ 0.425  0.142 -0.503 -0.065]\n",
      " ...\n",
      " [-0.678 -2.827  1.135  1.944]\n",
      " [ 0.782  0.636 -0.246 -0.393]\n",
      " [-0.587  0.646  0.235 -0.627]]\n"
     ]
    },
    {
     "name": "stderr",
     "output_type": "stream",
     "text": [
      "Optimizing Portfolio:  28%|██▊       | 70/252 [05:09<13:23,  4.42s/day]"
     ]
    },
    {
     "name": "stdout",
     "output_type": "stream",
     "text": [
      "[[ 0.018 -0.171  0.607 -0.78 ]\n",
      " [-0.241  0.671 -0.606 -0.38 ]\n",
      " [ 0.764  0.111 -0.542 -0.057]\n",
      " ...\n",
      " [-0.205 -2.821  1.15   1.925]\n",
      " [-0.035  0.637 -0.244 -0.395]\n",
      " [ 0.905  0.661  0.26  -0.595]]\n"
     ]
    },
    {
     "name": "stderr",
     "output_type": "stream",
     "text": [
      "Optimizing Portfolio:  28%|██▊       | 71/252 [05:13<13:19,  4.42s/day]"
     ]
    },
    {
     "name": "stdout",
     "output_type": "stream",
     "text": [
      "[[ 0.842 -0.171  0.614 -0.804]\n",
      " [ 0.896  0.707 -0.589 -0.323]\n",
      " [ 2.116  0.082 -0.589 -0.077]\n",
      " ...\n",
      " [-2.7   -2.833  1.017  2.102]\n",
      " [ 0.079  0.635 -0.247 -0.378]\n",
      " [-0.818  0.646  0.239 -0.564]]\n"
     ]
    },
    {
     "name": "stderr",
     "output_type": "stream",
     "text": [
      "Optimizing Portfolio:  29%|██▊       | 72/252 [05:20<13:20,  4.45s/day]"
     ]
    },
    {
     "name": "stdout",
     "output_type": "stream",
     "text": [
      "[[ 0.297 -0.175  0.606 -0.765]\n",
      " [ 0.45   0.716 -0.585 -0.34 ]\n",
      " [-0.006  0.081 -0.591 -0.051]\n",
      " ...\n",
      " [-0.741 -2.841  1.007  2.26 ]\n",
      " [-1.436  0.622 -0.276 -0.33 ]\n",
      " [-0.996  0.63   0.197 -0.677]]\n"
     ]
    },
    {
     "name": "stderr",
     "output_type": "stream",
     "text": [
      "Optimizing Portfolio:  29%|██▉       | 73/252 [05:25<13:19,  4.46s/day]"
     ]
    },
    {
     "name": "stdout",
     "output_type": "stream",
     "text": [
      "[[-0.368 -0.173  0.6   -0.9  ]\n",
      " [-0.769  0.737 -0.569 -0.328]\n",
      " [-0.301  0.084 -0.588  0.032]\n",
      " ...\n",
      " [-1.068 -2.836  0.933  2.124]\n",
      " [-1.072  0.612 -0.301 -0.362]\n",
      " [ 0.815  0.655  0.238 -0.577]]\n"
     ]
    },
    {
     "name": "stderr",
     "output_type": "stream",
     "text": [
      "Optimizing Portfolio:  29%|██▉       | 74/252 [05:31<13:17,  4.48s/day]"
     ]
    },
    {
     "name": "stdout",
     "output_type": "stream",
     "text": [
      "[[ 0.322 -0.172  0.611 -0.9  ]\n",
      " [-0.02   0.735 -0.57  -0.32 ]\n",
      " [ 0.32   0.087 -0.583  0.005]\n",
      " ...\n",
      " [-0.003  0.534  0.706 -0.466]\n",
      " [ 0.847 -2.839  0.909  2.123]\n",
      " [ 0.451  0.61  -0.306 -0.532]]\n"
     ]
    },
    {
     "name": "stderr",
     "output_type": "stream",
     "text": [
      "Optimizing Portfolio:  30%|██▉       | 75/252 [05:36<13:13,  4.48s/day]"
     ]
    },
    {
     "name": "stdout",
     "output_type": "stream",
     "text": [
      "[[-0.069 -0.176  0.59  -0.935]\n",
      " [-0.416  0.751 -0.562 -0.317]\n",
      " [-0.012  0.093 -0.577 -0.01 ]\n",
      " ...\n",
      " [-1.217 -2.843  0.861  2.137]\n",
      " [ 0.465  0.619 -0.287 -0.599]\n",
      " [-1.648  0.652  0.232 -1.098]]\n"
     ]
    },
    {
     "name": "stderr",
     "output_type": "stream",
     "text": [
      "Optimizing Portfolio:  30%|███       | 76/252 [05:42<13:12,  4.50s/day]"
     ]
    },
    {
     "name": "stdout",
     "output_type": "stream",
     "text": [
      "[[ 0.417 -0.18   0.568 -1.002]\n",
      " [ 0.207  0.739 -0.571 -0.251]\n",
      " [-0.718  0.086 -0.589 -0.078]\n",
      " ...\n",
      " [-0.679 -2.847  0.848  2.149]\n",
      " [-0.821  0.617 -0.286 -0.574]\n",
      " [ 0.706  0.647  0.219 -1.132]]\n"
     ]
    },
    {
     "name": "stderr",
     "output_type": "stream",
     "text": [
      "Optimizing Portfolio:  31%|███       | 77/252 [05:47<13:10,  4.52s/day]"
     ]
    },
    {
     "name": "stdout",
     "output_type": "stream",
     "text": [
      "[[ 0.474 -0.182  0.554 -1.02 ]\n",
      " [ 0.42   0.746 -0.562 -0.237]\n",
      " [ 0.022  0.088 -0.583 -0.108]\n",
      " ...\n",
      " [ 1.249 -2.837  0.891  2.087]\n",
      " [ 0.736  0.625 -0.267 -0.629]\n",
      " [ 0.92   0.678  0.273 -0.984]]\n"
     ]
    },
    {
     "name": "stderr",
     "output_type": "stream",
     "text": [
      "Optimizing Portfolio:  31%|███       | 78/252 [05:52<13:06,  4.52s/day]"
     ]
    },
    {
     "name": "stdout",
     "output_type": "stream",
     "text": [
      "[[-0.097 -0.175  0.586 -0.966]\n",
      " [ 0.239  0.755 -0.555 -0.197]\n",
      " [ 0.461  0.088 -0.583 -0.144]\n",
      " ...\n",
      " [ 1.194  0.58   0.803 -0.782]\n",
      " [-0.446 -2.842  0.876  2.11 ]\n",
      " [-0.834  0.616 -0.288 -0.465]]\n"
     ]
    },
    {
     "name": "stderr",
     "output_type": "stream",
     "text": [
      "Optimizing Portfolio:  31%|███▏      | 79/252 [05:57<13:03,  4.53s/day]"
     ]
    },
    {
     "name": "stdout",
     "output_type": "stream",
     "text": [
      "[[ 0.061 -0.176  0.584 -0.908]\n",
      " [ 0.084  0.763 -0.55  -0.237]\n",
      " [ 0.062  0.082 -0.592 -0.2  ]\n",
      " ...\n",
      " [ 0.984 -2.849  0.952  2.116]\n",
      " [-0.731  0.609 -0.301 -0.567]\n",
      " [ 0.098  0.699  0.315 -0.924]]\n"
     ]
    },
    {
     "name": "stderr",
     "output_type": "stream",
     "text": [
      "Optimizing Portfolio:  32%|███▏      | 80/252 [06:03<13:00,  4.54s/day]"
     ]
    },
    {
     "name": "stdout",
     "output_type": "stream",
     "text": [
      "[[ 0.029 -0.171  0.611 -0.84 ]\n",
      " [ 0.914  0.662 -0.626 -0.054]\n",
      " [ 0.65   0.077 -0.597 -0.152]\n",
      " ...\n",
      " [ 1.18  -2.844  0.98   2.114]\n",
      " [ 1.092  0.616 -0.283 -0.506]\n",
      " [-2.361  0.676  0.276 -1.008]]\n"
     ]
    },
    {
     "name": "stderr",
     "output_type": "stream",
     "text": [
      "Optimizing Portfolio:  32%|███▏      | 81/252 [06:08<12:56,  4.54s/day]"
     ]
    },
    {
     "name": "stdout",
     "output_type": "stream",
     "text": [
      "[[ 0.59  -0.166  0.618 -0.837]\n",
      " [-0.039  0.657 -0.622  0.011]\n",
      " [-2.399  0.068 -0.605 -0.168]\n",
      " ...\n",
      " [ 0.506  0.596  0.848 -1.041]\n",
      " [-0.421 -2.853  0.975  2.121]\n",
      " [ 0.046  0.612 -0.292 -0.56 ]]\n"
     ]
    },
    {
     "name": "stderr",
     "output_type": "stream",
     "text": [
      "Optimizing Portfolio:  33%|███▎      | 82/252 [06:12<12:52,  4.54s/day]"
     ]
    },
    {
     "name": "stdout",
     "output_type": "stream",
     "text": [
      "[[ 6.030e-01 -1.460e-01  6.320e-01 -8.700e-01]\n",
      " [ 1.110e-01  5.280e-01 -6.430e-01  2.000e-03]\n",
      " [ 5.240e-01 -3.900e-02 -5.970e-01 -2.140e-01]\n",
      " ...\n",
      " [-7.040e-01  6.120e-01  8.370e-01 -1.079e+00]\n",
      " [ 1.022e+00 -2.835e+00  1.044e+00  2.135e+00]\n",
      " [-5.780e-01  4.820e-01 -3.230e-01 -4.830e-01]]\n"
     ]
    },
    {
     "name": "stderr",
     "output_type": "stream",
     "text": [
      "Optimizing Portfolio:  33%|███▎      | 83/252 [06:17<12:49,  4.55s/day]"
     ]
    },
    {
     "name": "stdout",
     "output_type": "stream",
     "text": [
      "[[-0.356 -0.149  0.608 -0.928]\n",
      " [-0.296  0.505 -0.659  0.041]\n",
      " [-0.014 -0.018 -0.551 -0.334]\n",
      " ...\n",
      " [ 1.043  0.62   0.856 -0.897]\n",
      " [-2.619 -2.846  0.917  2.116]\n",
      " [ 0.762  0.492 -0.299 -0.438]]\n"
     ]
    },
    {
     "name": "stderr",
     "output_type": "stream",
     "text": [
      "Optimizing Portfolio:  33%|███▎      | 84/252 [06:22<12:45,  4.55s/day]"
     ]
    },
    {
     "name": "stdout",
     "output_type": "stream",
     "text": [
      "[[ 0.377 -0.163  0.541 -0.785]\n",
      " [-0.131  0.502 -0.666  0.057]\n",
      " [-0.922 -0.009 -0.541 -0.138]\n",
      " ...\n",
      " [-1.311  0.595  0.809 -0.616]\n",
      " [-0.165 -2.848  0.892  1.759]\n",
      " [-1.831  0.485 -0.32  -0.366]]\n"
     ]
    },
    {
     "name": "stderr",
     "output_type": "stream",
     "text": [
      "Optimizing Portfolio:  34%|███▎      | 85/252 [06:28<12:43,  4.57s/day]"
     ]
    },
    {
     "name": "stdout",
     "output_type": "stream",
     "text": [
      "[[-0.48  -0.16   0.532 -0.598]\n",
      " [-0.616  0.518 -0.643 -0.196]\n",
      " [ 0.228 -0.009 -0.538 -0.393]\n",
      " ...\n",
      " [ 0.644  0.606  0.825 -0.603]\n",
      " [ 2.374 -2.851  0.929  1.793]\n",
      " [ 1.56   0.496 -0.293 -0.39 ]]\n"
     ]
    },
    {
     "name": "stderr",
     "output_type": "stream",
     "text": [
      "Optimizing Portfolio:  34%|███▍      | 86/252 [06:31<12:36,  4.56s/day]"
     ]
    },
    {
     "name": "stdout",
     "output_type": "stream",
     "text": [
      "[[ 0.379 -0.159  0.541 -0.525]\n",
      " [ 0.147  0.522 -0.636  0.013]\n",
      " [ 0.644 -0.009 -0.511 -0.487]\n",
      " ...\n",
      " [-1.881  0.574  0.762 -0.633]\n",
      " [ 0.36  -2.846  0.941  2.366]\n",
      " [ 0.19   0.49  -0.304 -0.404]]\n"
     ]
    },
    {
     "name": "stderr",
     "output_type": "stream",
     "text": [
      "Optimizing Portfolio:  35%|███▍      | 87/252 [06:34<12:28,  4.54s/day]"
     ]
    },
    {
     "name": "stdout",
     "output_type": "stream",
     "text": [
      "[[ 0.282 -0.153  0.547 -0.479]\n",
      " [-1.571  0.545 -0.609 -0.032]\n",
      " [ 0.768 -0.009 -0.508 -0.462]\n",
      " ...\n",
      " [ 0.969  0.587  0.784 -0.692]\n",
      " [-0.518 -2.837  0.912  2.255]\n",
      " [-0.632  0.494 -0.297 -0.425]]\n"
     ]
    },
    {
     "name": "stderr",
     "output_type": "stream",
     "text": [
      "Optimizing Portfolio:  35%|███▍      | 88/252 [06:36<12:19,  4.51s/day]"
     ]
    },
    {
     "name": "stdout",
     "output_type": "stream",
     "text": [
      "[[ 0.294 -0.147  0.561 -0.378]\n",
      " [-0.246  0.56  -0.592  0.069]\n",
      " [-0.501 -0.011 -0.501 -0.622]\n",
      " ...\n",
      " [-0.879  0.569  0.749 -0.852]\n",
      " [ 1.456 -2.84   0.985  2.224]\n",
      " [ 0.049  0.496 -0.292 -0.516]]\n"
     ]
    },
    {
     "name": "stderr",
     "output_type": "stream",
     "text": [
      "Optimizing Portfolio:  35%|███▌      | 89/252 [06:38<12:10,  4.48s/day]"
     ]
    },
    {
     "name": "stdout",
     "output_type": "stream",
     "text": [
      "[[-1.292 -0.143  0.595 -0.375]\n",
      " [-1.058  0.559 -0.599  0.14 ]\n",
      " [-0.856 -0.006 -0.498 -0.571]\n",
      " ...\n",
      " [ 0.993  0.578  0.762 -0.772]\n",
      " [ 1.007 -2.832  1.015  2.226]\n",
      " [ 0.976  0.51  -0.259 -0.577]]\n"
     ]
    },
    {
     "name": "stderr",
     "output_type": "stream",
     "text": [
      "Optimizing Portfolio:  36%|███▌      | 90/252 [06:40<12:01,  4.45s/day]"
     ]
    },
    {
     "name": "stdout",
     "output_type": "stream",
     "text": [
      "[[ 0.468 -0.148  0.569 -0.426]\n",
      " [-0.325  0.569 -0.598  0.214]\n",
      " [ 0.327 -0.006 -0.505 -0.518]\n",
      " ...\n",
      " [ 0.113  0.584  0.781 -0.83 ]\n",
      " [ 0.228 -2.839  1.045  2.25 ]\n",
      " [ 0.77   0.521 -0.234 -0.526]]\n"
     ]
    },
    {
     "name": "stderr",
     "output_type": "stream",
     "text": [
      "Optimizing Portfolio:  36%|███▌      | 91/252 [06:42<11:51,  4.42s/day]"
     ]
    },
    {
     "name": "stdout",
     "output_type": "stream",
     "text": [
      "[[-0.127 -0.156  0.553 -0.493]\n",
      " [ 0.065  0.549 -0.615  0.193]\n",
      " [ 2.857 -0.014 -0.512 -0.587]\n",
      " ...\n",
      " [ 0.35   0.571  0.761 -0.983]\n",
      " [ 1.205 -2.85   1.035  2.208]\n",
      " [-1.368  0.502 -0.27  -0.581]]\n"
     ]
    },
    {
     "name": "stderr",
     "output_type": "stream",
     "text": [
      "Optimizing Portfolio:  37%|███▋      | 92/252 [06:44<11:43,  4.40s/day]"
     ]
    },
    {
     "name": "stdout",
     "output_type": "stream",
     "text": [
      "[[ 0.702 -0.168  0.512 -0.479]\n",
      " [ 0.991  0.543 -0.62   0.245]\n",
      " [ 0.552 -0.019 -0.517 -0.61 ]\n",
      " ...\n",
      " [-1.943  0.558  0.735 -0.945]\n",
      " [-0.799 -2.845  1.046  2.21 ]\n",
      " [ 0.268  0.497 -0.276 -0.524]]\n"
     ]
    },
    {
     "name": "stderr",
     "output_type": "stream",
     "text": [
      "Optimizing Portfolio:  37%|███▋      | 93/252 [06:47<11:36,  4.38s/day]"
     ]
    },
    {
     "name": "stdout",
     "output_type": "stream",
     "text": [
      "[[ 0.323 -0.167  0.509 -0.393]\n",
      " [-0.529  0.553 -0.609  0.263]\n",
      " [ 0.294 -0.024 -0.523 -0.617]\n",
      " ...\n",
      " [ 1.024  0.568  0.755 -0.877]\n",
      " [ 0.644 -2.848  1.079  2.219]\n",
      " [-0.536  0.491 -0.291 -0.578]]\n"
     ]
    },
    {
     "name": "stderr",
     "output_type": "stream",
     "text": [
      "Optimizing Portfolio:  37%|███▋      | 94/252 [06:49<11:27,  4.35s/day]"
     ]
    },
    {
     "name": "stdout",
     "output_type": "stream",
     "text": [
      "[[ 0.    -0.171  0.496 -0.421]\n",
      " [-0.191  0.576 -0.596  0.335]\n",
      " [-0.616 -0.018 -0.517 -0.536]\n",
      " ...\n",
      " [ 0.743  0.575  0.769 -0.812]\n",
      " [-0.152 -2.844  1.059  2.223]\n",
      " [ 1.1    0.502 -0.266 -0.573]]\n"
     ]
    },
    {
     "name": "stderr",
     "output_type": "stream",
     "text": [
      "Optimizing Portfolio:  38%|███▊      | 95/252 [06:52<11:21,  4.34s/day]"
     ]
    },
    {
     "name": "stdout",
     "output_type": "stream",
     "text": [
      "[[-0.17  -0.174  0.472 -0.37 ]\n",
      " [-0.518  0.579 -0.593  0.137]\n",
      " [-0.752 -0.016 -0.514 -0.483]\n",
      " ...\n",
      " [ 0.476  0.57   0.758 -0.798]\n",
      " [-0.063 -2.844  1.019  2.219]\n",
      " [-1.969  0.492 -0.291 -0.538]]\n"
     ]
    },
    {
     "name": "stderr",
     "output_type": "stream",
     "text": [
      "Optimizing Portfolio:  38%|███▊      | 96/252 [06:54<11:13,  4.32s/day]"
     ]
    },
    {
     "name": "stdout",
     "output_type": "stream",
     "text": [
      "[[ 0.488 -0.186  0.44  -0.454]\n",
      " [ 0.674  0.434 -0.339 -0.079]\n",
      " [-0.585 -0.016 -0.519 -0.49 ]\n",
      " ...\n",
      " [ 1.12   0.57   0.823 -0.778]\n",
      " [-0.641 -2.832  0.936  2.246]\n",
      " [ 0.694  0.485 -0.304 -0.486]]\n"
     ]
    },
    {
     "name": "stderr",
     "output_type": "stream",
     "text": [
      "Optimizing Portfolio:  38%|███▊      | 97/252 [06:57<11:07,  4.31s/day]"
     ]
    },
    {
     "name": "stdout",
     "output_type": "stream",
     "text": [
      "[[ 0.215 -0.19   0.423 -0.366]\n",
      " [-0.154  0.445 -0.327 -0.053]\n",
      " [-0.868 -0.008 -0.508 -0.464]\n",
      " ...\n",
      " [-0.189  0.567  0.812 -0.778]\n",
      " [-1.151 -2.83   0.913  2.089]\n",
      " [-1.122  0.483 -0.307 -0.559]]\n"
     ]
    },
    {
     "name": "stderr",
     "output_type": "stream",
     "text": [
      "Optimizing Portfolio:  39%|███▉      | 98/252 [07:00<11:00,  4.29s/day]"
     ]
    },
    {
     "name": "stdout",
     "output_type": "stream",
     "text": [
      "[[-4.870e-01 -1.920e-01  4.270e-01 -5.060e-01]\n",
      " [ 6.020e-01  4.120e-01 -3.770e-01 -3.600e-02]\n",
      " [-1.042e+00  1.000e-03 -4.990e-01 -5.230e-01]\n",
      " ...\n",
      " [ 1.294e+00  5.800e-01  8.360e-01 -7.520e-01]\n",
      " [ 2.660e-01 -2.828e+00  9.220e-01  2.287e+00]\n",
      " [-4.810e-01  4.830e-01 -3.060e-01 -3.910e-01]]\n"
     ]
    },
    {
     "name": "stderr",
     "output_type": "stream",
     "text": [
      "Optimizing Portfolio:  39%|███▉      | 99/252 [07:02<10:52,  4.27s/day]"
     ]
    },
    {
     "name": "stdout",
     "output_type": "stream",
     "text": [
      "[[-0.726 -0.193  0.43  -0.507]\n",
      " [ 0.375  0.395 -0.404 -0.1  ]\n",
      " [-0.464 -0.005 -0.511 -0.426]\n",
      " ...\n",
      " [-0.337  0.566  0.804 -0.738]\n",
      " [-0.776 -2.824  0.894  2.217]\n",
      " [ 0.256  0.491 -0.288 -0.456]]\n"
     ]
    },
    {
     "name": "stderr",
     "output_type": "stream",
     "text": [
      "Optimizing Portfolio:  40%|███▉      | 100/252 [07:04<10:45,  4.25s/day]"
     ]
    },
    {
     "name": "stdout",
     "output_type": "stream",
     "text": [
      "[[ 0.03  -0.095  0.487 -0.644]\n",
      " [-0.062  0.385 -0.419 -0.122]\n",
      " [ 0.319 -0.014 -0.521 -0.441]\n",
      " ...\n",
      " [-0.692  0.562  0.775 -0.736]\n",
      " [ 0.338 -2.773  0.887  2.266]\n",
      " [ 0.632  0.484 -0.28  -0.408]]\n"
     ]
    },
    {
     "name": "stderr",
     "output_type": "stream",
     "text": [
      "Optimizing Portfolio:  40%|████      | 101/252 [07:08<10:40,  4.24s/day]"
     ]
    },
    {
     "name": "stdout",
     "output_type": "stream",
     "text": [
      "[[ 0.815 -0.109  0.435 -0.588]\n",
      " [ 0.489  0.376 -0.433 -0.114]\n",
      " [ 0.772 -0.019 -0.527 -0.337]\n",
      " ...\n",
      " [ 1.765  0.588  0.826 -0.692]\n",
      " [-0.776 -2.767  0.86   2.104]\n",
      " [-0.939  0.475 -0.3   -0.432]]\n"
     ]
    },
    {
     "name": "stderr",
     "output_type": "stream",
     "text": [
      "Optimizing Portfolio:  40%|████      | 102/252 [07:12<10:36,  4.24s/day]"
     ]
    },
    {
     "name": "stdout",
     "output_type": "stream",
     "text": [
      "[[-0.115 -0.195  0.448 -0.557]\n",
      " [ 0.794  0.365 -0.479  0.02 ]\n",
      " [ 0.143 -0.02  -0.524 -0.323]\n",
      " ...\n",
      " [ 0.279  0.533  0.83  -0.661]\n",
      " [ 0.415 -2.774  0.864  1.879]\n",
      " [ 0.505  0.505 -0.291 -0.451]]\n"
     ]
    },
    {
     "name": "stderr",
     "output_type": "stream",
     "text": [
      "Optimizing Portfolio:  41%|████      | 103/252 [07:17<10:32,  4.25s/day]"
     ]
    },
    {
     "name": "stdout",
     "output_type": "stream",
     "text": [
      "[[-0.39  -0.195  0.449 -0.405]\n",
      " [-0.557  0.375 -0.466  0.098]\n",
      " [-0.032 -0.014 -0.52  -0.25 ]\n",
      " ...\n",
      " [ 0.643  0.543  0.842 -0.703]\n",
      " [ 0.989 -2.774  0.891  1.673]\n",
      " [ 0.421  0.506 -0.287 -0.411]]\n"
     ]
    },
    {
     "name": "stderr",
     "output_type": "stream",
     "text": [
      "Optimizing Portfolio:  41%|████▏     | 104/252 [07:21<10:28,  4.25s/day]"
     ]
    },
    {
     "name": "stdout",
     "output_type": "stream",
     "text": [
      "[[ 0.713 -0.198  0.441 -0.409]\n",
      " [-0.017  0.369 -0.474  0.226]\n",
      " [ 0.121 -0.016 -0.521 -0.254]\n",
      " ...\n",
      " [-2.034  0.517  0.789 -0.64 ]\n",
      " [ 0.589 -2.767  0.926  1.706]\n",
      " [ 0.688  0.505 -0.287 -0.374]]\n"
     ]
    },
    {
     "name": "stderr",
     "output_type": "stream",
     "text": [
      "Optimizing Portfolio:  42%|████▏     | 105/252 [07:26<10:25,  4.25s/day]"
     ]
    },
    {
     "name": "stdout",
     "output_type": "stream",
     "text": [
      "[[ 0.777 -0.2    0.432 -0.401]\n",
      " [-0.008  0.381 -0.451  0.196]\n",
      " [ 0.476 -0.022 -0.525 -0.214]\n",
      " ...\n",
      " [-0.657  0.514  0.785 -0.596]\n",
      " [ 0.965 -2.766  0.962  1.761]\n",
      " [ 0.165  0.502 -0.293 -0.44 ]]\n"
     ]
    },
    {
     "name": "stderr",
     "output_type": "stream",
     "text": [
      "Optimizing Portfolio:  42%|████▏     | 106/252 [07:29<10:18,  4.24s/day]"
     ]
    },
    {
     "name": "stdout",
     "output_type": "stream",
     "text": [
      "[[-0.17  -0.201  0.427 -0.367]\n",
      " [ 0.052  0.37  -0.467  0.223]\n",
      " [-0.171 -0.028 -0.533 -0.259]\n",
      " ...\n",
      " [ 0.528  0.512  0.783 -0.647]\n",
      " [-2.222 -2.764  0.879  1.759]\n",
      " [-0.535  0.5   -0.296 -0.391]]\n"
     ]
    },
    {
     "name": "stderr",
     "output_type": "stream",
     "text": [
      "Optimizing Portfolio:  42%|████▏     | 107/252 [07:31<10:12,  4.22s/day]"
     ]
    },
    {
     "name": "stdout",
     "output_type": "stream",
     "text": [
      "[[ 0.03  -0.207  0.409 -0.402]\n",
      " [-0.499  0.364 -0.477  0.254]\n",
      " [-0.836 -0.026 -0.533 -0.263]\n",
      " ...\n",
      " [ 0.939  0.523  0.806 -0.637]\n",
      " [-0.058 -2.77   0.863  1.788]\n",
      " [ 0.02   0.509 -0.277 -0.422]]\n"
     ]
    },
    {
     "name": "stderr",
     "output_type": "stream",
     "text": [
      "Optimizing Portfolio:  43%|████▎     | 108/252 [07:35<10:07,  4.22s/day]"
     ]
    },
    {
     "name": "stdout",
     "output_type": "stream",
     "text": [
      "[[ 0.239 -0.205  0.409 -0.429]\n",
      " [-0.745  0.367 -0.471  0.329]\n",
      " [-2.597 -0.032 -0.541 -0.262]\n",
      " ...\n",
      " [-0.696  0.51   0.781 -0.599]\n",
      " [-0.728 -2.765  0.851  1.13 ]\n",
      " [-0.316  0.507 -0.281 -0.412]]\n"
     ]
    },
    {
     "name": "stderr",
     "output_type": "stream",
     "text": [
      "Optimizing Portfolio:  43%|████▎     | 109/252 [07:38<10:01,  4.20s/day]"
     ]
    },
    {
     "name": "stdout",
     "output_type": "stream",
     "text": [
      "[[ 0.309 -0.201  0.424 -0.496]\n",
      " [ 0.665  0.363 -0.475  0.281]\n",
      " [-0.056 -0.038 -0.548 -0.228]\n",
      " ...\n",
      " [-0.262  0.508  0.785 -0.729]\n",
      " [ 0.098 -2.765  0.861  1.21 ]\n",
      " [ 0.422  0.506 -0.282 -0.404]]\n"
     ]
    },
    {
     "name": "stderr",
     "output_type": "stream",
     "text": [
      "Optimizing Portfolio:  44%|████▎     | 110/252 [07:41<09:56,  4.20s/day]"
     ]
    },
    {
     "name": "stdout",
     "output_type": "stream",
     "text": [
      "[[ 0.618 -0.208  0.41  -0.515]\n",
      " [ 0.434  0.376 -0.453  0.102]\n",
      " [-0.516 -0.04  -0.547 -0.273]\n",
      " ...\n",
      " [-0.824  0.5    0.767 -0.667]\n",
      " [-1.162 -2.765  0.829  1.744]\n",
      " [-0.761  0.504 -0.281 -0.434]]\n"
     ]
    },
    {
     "name": "stderr",
     "output_type": "stream",
     "text": [
      "Optimizing Portfolio:  44%|████▍     | 111/252 [07:48<09:55,  4.22s/day]"
     ]
    },
    {
     "name": "stdout",
     "output_type": "stream",
     "text": [
      "[[ 0.604 -0.207  0.404 -0.518]\n",
      " [ 0.839  0.363 -0.466  0.117]\n",
      " [ 1.04  -0.044 -0.549 -0.221]\n",
      " ...\n",
      " [ 0.659  0.516  0.798 -0.698]\n",
      " [-0.679 -2.763  0.81   1.723]\n",
      " [ 0.27   0.499 -0.294 -0.442]]\n"
     ]
    },
    {
     "name": "stderr",
     "output_type": "stream",
     "text": [
      "Optimizing Portfolio:  44%|████▍     | 112/252 [07:55<09:54,  4.25s/day]"
     ]
    },
    {
     "name": "stdout",
     "output_type": "stream",
     "text": [
      "[[-0.492 -0.21   0.398 -0.54 ]\n",
      " [-0.166  0.347 -0.491  0.032]\n",
      " [-0.737 -0.046 -0.554 -0.249]\n",
      " ...\n",
      " [ 0.008  0.508  0.781 -0.728]\n",
      " [ 1.103 -2.764  0.822  1.805]\n",
      " [-0.393  0.5   -0.289 -0.45 ]]\n"
     ]
    },
    {
     "name": "stderr",
     "output_type": "stream",
     "text": [
      "Optimizing Portfolio:  45%|████▍     | 113/252 [08:02<09:53,  4.27s/day]"
     ]
    },
    {
     "name": "stdout",
     "output_type": "stream",
     "text": [
      "[[-0.249 -0.205  0.41  -0.486]\n",
      " [ 0.275  0.351 -0.486  0.09 ]\n",
      " [ 0.341 -0.043 -0.55  -0.276]\n",
      " ...\n",
      " [ 0.081  0.511  0.788 -0.701]\n",
      " [-0.229 -2.765  0.829  1.727]\n",
      " [ 0.072  0.499 -0.29  -0.465]]\n"
     ]
    },
    {
     "name": "stderr",
     "output_type": "stream",
     "text": [
      "Optimizing Portfolio:  45%|████▌     | 114/252 [08:10<09:53,  4.30s/day]"
     ]
    },
    {
     "name": "stdout",
     "output_type": "stream",
     "text": [
      "[[ 0.624 -0.208  0.417 -0.488]\n",
      " [ 0.817  0.322 -0.526  0.02 ]\n",
      " [ 0.044 -0.054 -0.561 -0.375]\n",
      " ...\n",
      " [-0.668  0.494  0.766 -0.543]\n",
      " [-0.324 -2.775  0.794  1.619]\n",
      " [-0.095  0.498 -0.292 -0.474]]\n"
     ]
    },
    {
     "name": "stderr",
     "output_type": "stream",
     "text": [
      "Optimizing Portfolio:  46%|████▌     | 115/252 [08:15<09:50,  4.31s/day]"
     ]
    },
    {
     "name": "stdout",
     "output_type": "stream",
     "text": [
      "[[ 1.133 -0.214  0.395 -0.534]\n",
      " [ 0.244  0.331 -0.514 -0.037]\n",
      " [-0.114 -0.05  -0.557 -0.351]\n",
      " ...\n",
      " [ 0.847  0.506  0.788 -0.524]\n",
      " [ 0.172 -2.772  0.802  1.656]\n",
      " [-1.366  0.49  -0.311 -0.447]]\n"
     ]
    },
    {
     "name": "stderr",
     "output_type": "stream",
     "text": [
      "Optimizing Portfolio:  46%|████▌     | 116/252 [08:22<09:48,  4.33s/day]"
     ]
    },
    {
     "name": "stdout",
     "output_type": "stream",
     "text": [
      "[[ 0.358 -0.219  0.381 -0.527]\n",
      " [ 0.551  0.329 -0.516 -0.073]\n",
      " [-0.166 -0.047 -0.553 -0.324]\n",
      " ...\n",
      " [-0.167  0.504  0.79  -0.446]\n",
      " [ 1.005 -2.776  0.836  1.672]\n",
      " [-0.6    0.482 -0.328 -0.532]]\n"
     ]
    },
    {
     "name": "stderr",
     "output_type": "stream",
     "text": [
      "Optimizing Portfolio:  46%|████▋     | 117/252 [08:26<09:44,  4.33s/day]"
     ]
    },
    {
     "name": "stdout",
     "output_type": "stream",
     "text": [
      "[[ 0.438 -0.224  0.361 -0.689]\n",
      " [-0.355  0.321 -0.529 -0.031]\n",
      " [-0.585 -0.036 -0.537 -0.274]\n",
      " ...\n",
      " [ 0.532  0.502  0.778 -0.415]\n",
      " [-1.745 -2.772  0.776  1.665]\n",
      " [-0.855  0.478 -0.336 -0.536]]\n"
     ]
    },
    {
     "name": "stderr",
     "output_type": "stream",
     "text": [
      "Optimizing Portfolio:  47%|████▋     | 118/252 [08:30<09:39,  4.32s/day]"
     ]
    },
    {
     "name": "stdout",
     "output_type": "stream",
     "text": [
      "[[-0.124 -0.23   0.349 -0.636]\n",
      " [-0.315  0.33  -0.52  -0.063]\n",
      " [-0.406 -0.029 -0.531 -0.281]\n",
      " ...\n",
      " [ 1.341  0.52   0.812 -0.569]\n",
      " [-1.036 -2.781  0.721  1.546]\n",
      " [-2.728  0.459 -0.379 -0.464]]\n"
     ]
    },
    {
     "name": "stderr",
     "output_type": "stream",
     "text": [
      "Optimizing Portfolio:  47%|████▋     | 119/252 [08:33<09:33,  4.31s/day]"
     ]
    },
    {
     "name": "stdout",
     "output_type": "stream",
     "text": [
      "[[-0.267 -0.227  0.358 -0.795]\n",
      " [ 0.161  0.332 -0.517 -0.007]\n",
      " [ 0.129 -0.031 -0.532 -0.381]\n",
      " ...\n",
      " [ 0.658  0.534  0.841 -0.462]\n",
      " [-1.407 -2.787  0.676  1.554]\n",
      " [ 1.314  0.467 -0.363 -0.404]]\n"
     ]
    },
    {
     "name": "stderr",
     "output_type": "stream",
     "text": [
      "Optimizing Portfolio:  48%|████▊     | 120/252 [08:38<09:30,  4.32s/day]"
     ]
    },
    {
     "name": "stdout",
     "output_type": "stream",
     "text": [
      "[[-1.313 -0.226  0.377 -0.786]\n",
      " [-0.612  0.313 -0.551 -0.123]\n",
      " [-1.051 -0.011 -0.508 -0.439]\n",
      " ...\n",
      " [ 0.375  0.543  0.854 -0.475]\n",
      " [ 1.351 -2.785  0.697  1.702]\n",
      " [-0.027  0.47  -0.355 -0.358]]\n"
     ]
    },
    {
     "name": "stderr",
     "output_type": "stream",
     "text": [
      "Optimizing Portfolio:  48%|████▊     | 121/252 [08:43<09:26,  4.33s/day]"
     ]
    },
    {
     "name": "stdout",
     "output_type": "stream",
     "text": [
      "[[ 0.273 -0.222  0.379 -0.813]\n",
      " [ 0.003  0.323 -0.535 -0.107]\n",
      " [-0.066 -0.016 -0.514 -0.4  ]\n",
      " ...\n",
      " [-0.588  0.526  0.825 -0.511]\n",
      " [ 2.517 -2.778  1.     1.842]\n",
      " [-0.405  0.461 -0.374 -0.348]]\n"
     ]
    },
    {
     "name": "stderr",
     "output_type": "stream",
     "text": [
      "Optimizing Portfolio:  48%|████▊     | 122/252 [08:48<09:23,  4.33s/day]"
     ]
    },
    {
     "name": "stdout",
     "output_type": "stream",
     "text": [
      "[[ 0.613 -0.23   0.348 -0.739]\n",
      " [-0.861  0.333 -0.524 -0.091]\n",
      " [-0.162 -0.022 -0.526 -0.4  ]\n",
      " ...\n",
      " [ 0.666  0.535  0.839 -0.536]\n",
      " [-1.102 -2.775  0.948  1.768]\n",
      " [ 1.068  0.469 -0.358 -0.408]]\n"
     ]
    },
    {
     "name": "stderr",
     "output_type": "stream",
     "text": [
      "Optimizing Portfolio:  49%|████▉     | 123/252 [08:53<09:19,  4.33s/day]"
     ]
    },
    {
     "name": "stdout",
     "output_type": "stream",
     "text": [
      "[[-0.059 -0.269  0.357 -0.759]\n",
      " [ 0.021  0.276 -0.532 -0.14 ]\n",
      " [-0.278  0.011 -0.521 -0.424]\n",
      " ...\n",
      " [-2.096  0.472  0.783 -0.518]\n",
      " [-1.398 -2.787  0.988  1.898]\n",
      " [ 0.129  0.4   -0.352 -0.497]]\n"
     ]
    },
    {
     "name": "stderr",
     "output_type": "stream",
     "text": [
      "Optimizing Portfolio:  49%|████▉     | 124/252 [08:55<09:12,  4.32s/day]"
     ]
    },
    {
     "name": "stdout",
     "output_type": "stream",
     "text": [
      "[[-1.870e-01 -2.730e-01  3.550e-01 -7.530e-01]\n",
      " [-3.940e-01  2.760e-01 -5.240e-01 -7.700e-02]\n",
      " [ 5.730e-01 -2.000e-03 -5.320e-01 -2.390e-01]\n",
      " ...\n",
      " [ 2.400e-02  4.840e-01  8.100e-01 -4.920e-01]\n",
      " [ 4.020e-01 -2.788e+00  9.950e-01  1.877e+00]\n",
      " [ 3.520e-01  3.930e-01 -3.620e-01 -5.880e-01]]\n"
     ]
    },
    {
     "name": "stderr",
     "output_type": "stream",
     "text": [
      "Optimizing Portfolio:  50%|████▉     | 125/252 [09:00<09:08,  4.32s/day]"
     ]
    },
    {
     "name": "stdout",
     "output_type": "stream",
     "text": [
      "[[-0.478 -0.27   0.366 -0.729]\n",
      " [ 0.786  0.265 -0.54  -0.08 ]\n",
      " [-0.072 -0.003 -0.534 -0.286]\n",
      " ...\n",
      " [ 0.623  0.49   0.826 -0.441]\n",
      " [ 0.321 -2.79   1.003  1.881]\n",
      " [-1.088  0.382 -0.384 -0.649]]\n"
     ]
    },
    {
     "name": "stderr",
     "output_type": "stream",
     "text": [
      "Optimizing Portfolio:  50%|█████     | 126/252 [09:03<09:03,  4.32s/day]"
     ]
    },
    {
     "name": "stdout",
     "output_type": "stream",
     "text": [
      "[[ 1.034 -0.272  0.362 -0.731]\n",
      " [ 0.805  0.259 -0.542 -0.192]\n",
      " [-0.122  0.003 -0.52  -0.319]\n",
      " ...\n",
      " [ 0.441  0.511  0.871 -0.394]\n",
      " [-0.538 -2.797  0.982  1.955]\n",
      " [ 0.841  0.379 -0.388 -0.702]]\n"
     ]
    },
    {
     "name": "stderr",
     "output_type": "stream",
     "text": [
      "Optimizing Portfolio:  50%|█████     | 127/252 [09:07<08:58,  4.31s/day]"
     ]
    },
    {
     "name": "stdout",
     "output_type": "stream",
     "text": [
      "[[ 0.174 -0.269  0.377 -0.68 ]\n",
      " [ 0.383  0.248 -0.556 -0.231]\n",
      " [-0.382  0.007 -0.512 -0.315]\n",
      " ...\n",
      " [-0.071  0.518  0.883 -0.377]\n",
      " [-2.292 -2.791  0.879  1.998]\n",
      " [-0.081  0.382 -0.38  -0.686]]\n"
     ]
    },
    {
     "name": "stderr",
     "output_type": "stream",
     "text": [
      "Optimizing Portfolio:  51%|█████     | 128/252 [09:11<08:54,  4.31s/day]"
     ]
    },
    {
     "name": "stdout",
     "output_type": "stream",
     "text": [
      "[[ 0.329 -0.27   0.364 -0.615]\n",
      " [ 0.416  0.246 -0.552 -0.317]\n",
      " [ 0.675 -0.011 -0.535 -0.388]\n",
      " ...\n",
      " [ 0.198  0.53   0.913 -0.42 ]\n",
      " [-0.365 -2.8    0.882  1.958]\n",
      " [ 0.038  0.377 -0.392 -0.744]]\n"
     ]
    },
    {
     "name": "stderr",
     "output_type": "stream",
     "text": [
      "Optimizing Portfolio:  51%|█████     | 129/252 [09:16<08:50,  4.32s/day]"
     ]
    },
    {
     "name": "stdout",
     "output_type": "stream",
     "text": [
      "[[ 8.650e-01 -2.780e-01  3.360e-01 -5.850e-01]\n",
      " [-5.320e-01  2.460e-01 -5.540e-01 -3.620e-01]\n",
      " [-4.550e-01 -2.000e-03 -5.230e-01 -3.430e-01]\n",
      " ...\n",
      " [-2.320e-01  5.190e-01  8.860e-01 -4.560e-01]\n",
      " [-4.290e-01 -2.798e+00  8.810e-01  1.976e+00]\n",
      " [-5.880e-01  3.730e-01 -4.000e-01 -7.190e-01]]\n"
     ]
    },
    {
     "name": "stderr",
     "output_type": "stream",
     "text": [
      "Optimizing Portfolio:  52%|█████▏    | 130/252 [09:20<08:45,  4.31s/day]"
     ]
    },
    {
     "name": "stdout",
     "output_type": "stream",
     "text": [
      "[[ 0.591 -0.279  0.335 -0.641]\n",
      " [ 0.404  0.24  -0.558 -0.39 ]\n",
      " [-0.364 -0.012 -0.534 -0.291]\n",
      " ...\n",
      " [-0.294  0.518  0.885 -0.452]\n",
      " [ 0.712 -2.799  0.904  2.056]\n",
      " [-0.239  0.37  -0.403 -0.757]]\n"
     ]
    },
    {
     "name": "stderr",
     "output_type": "stream",
     "text": [
      "Optimizing Portfolio:  52%|█████▏    | 131/252 [09:24<08:41,  4.31s/day]"
     ]
    },
    {
     "name": "stdout",
     "output_type": "stream",
     "text": [
      "[[ 0.146 -0.28   0.334 -0.684]\n",
      " [ 0.244  0.227 -0.576 -0.453]\n",
      " [-0.284 -0.01  -0.531 -0.288]\n",
      " ...\n",
      " [ 0.869  0.54   0.929 -0.465]\n",
      " [ 0.562 -2.803  0.918  2.103]\n",
      " [ 0.935  0.378 -0.387 -0.778]]\n"
     ]
    },
    {
     "name": "stderr",
     "output_type": "stream",
     "text": [
      "Optimizing Portfolio:  52%|█████▏    | 132/252 [09:28<08:36,  4.31s/day]"
     ]
    },
    {
     "name": "stdout",
     "output_type": "stream",
     "text": [
      "[[ 0.114 -0.272  0.363 -0.762]\n",
      " [ 0.606  0.219 -0.585 -0.441]\n",
      " [ 0.569 -0.004 -0.52  -0.278]\n",
      " ...\n",
      " [-0.029  0.547  0.946 -0.439]\n",
      " [ 1.048 -2.805  0.959  2.251]\n",
      " [ 0.019  0.373 -0.396 -0.89 ]]\n"
     ]
    },
    {
     "name": "stderr",
     "output_type": "stream",
     "text": [
      "Optimizing Portfolio:  53%|█████▎    | 133/252 [09:32<08:32,  4.30s/day]"
     ]
    },
    {
     "name": "stdout",
     "output_type": "stream",
     "text": [
      "[[ 0.258 -0.271  0.373 -0.699]\n",
      " [-0.059  0.224 -0.583 -0.411]\n",
      " [-0.883 -0.007 -0.527 -0.28 ]\n",
      " ...\n",
      " [-0.936  0.529  0.915 -0.427]\n",
      " [ 0.634 -2.811  0.972  2.252]\n",
      " [ 0.308  0.379 -0.384 -0.859]]\n"
     ]
    },
    {
     "name": "stderr",
     "output_type": "stream",
     "text": [
      "Optimizing Portfolio:  53%|█████▎    | 134/252 [09:35<08:27,  4.30s/day]"
     ]
    },
    {
     "name": "stdout",
     "output_type": "stream",
     "text": [
      "[[ 5.190e-01 -2.800e-01  3.570e-01 -6.870e-01]\n",
      " [ 1.532e+00  2.180e-01 -5.830e-01 -5.120e-01]\n",
      " [ 2.798e+00 -2.000e-03 -5.130e-01 -2.080e-01]\n",
      " ...\n",
      " [ 9.670e-01  5.590e-01  9.670e-01 -4.280e-01]\n",
      " [-1.058e+00 -2.802e+00  9.200e-01  2.223e+00]\n",
      " [-2.728e+00  3.460e-01 -4.430e-01 -7.780e-01]]\n"
     ]
    },
    {
     "name": "stderr",
     "output_type": "stream",
     "text": [
      "Optimizing Portfolio:  54%|█████▎    | 135/252 [09:39<08:22,  4.29s/day]"
     ]
    },
    {
     "name": "stdout",
     "output_type": "stream",
     "text": [
      "[[-0.47  -0.279  0.361 -0.634]\n",
      " [ 0.504  0.214 -0.589 -0.515]\n",
      " [-0.395 -0.004 -0.516 -0.308]\n",
      " ...\n",
      " [-0.59   0.543  0.947 -0.389]\n",
      " [-0.906 -2.813  0.888  1.865]\n",
      " [ 1.01   0.355 -0.426 -0.661]]\n"
     ]
    },
    {
     "name": "stderr",
     "output_type": "stream",
     "text": [
      "Optimizing Portfolio:  54%|█████▍    | 136/252 [09:43<08:17,  4.29s/day]"
     ]
    },
    {
     "name": "stdout",
     "output_type": "stream",
     "text": [
      "[[-5.700e-01 -2.780e-01  3.550e-01 -7.530e-01]\n",
      " [-3.700e-01  2.180e-01 -5.880e-01 -4.730e-01]\n",
      " [-8.200e-01 -1.000e-03 -5.160e-01 -1.480e-01]\n",
      " ...\n",
      " [ 5.160e-01  5.330e-01  9.230e-01 -3.510e-01]\n",
      " [-9.200e-02 -2.809e+00  8.730e-01  1.829e+00]\n",
      " [-1.550e-01  3.610e-01 -4.160e-01 -6.290e-01]]\n"
     ]
    },
    {
     "name": "stderr",
     "output_type": "stream",
     "text": [
      "Optimizing Portfolio:  54%|█████▍    | 137/252 [09:47<08:13,  4.29s/day]"
     ]
    },
    {
     "name": "stdout",
     "output_type": "stream",
     "text": [
      "[[ 8.620e-01 -2.790e-01  3.580e-01 -7.720e-01]\n",
      " [-1.880e-01  2.540e-01 -5.300e-01 -4.680e-01]\n",
      " [ 3.900e-01 -2.000e-03 -5.120e-01 -1.340e-01]\n",
      " ...\n",
      " [-8.310e-01  5.250e-01  9.060e-01 -4.590e-01]\n",
      " [ 1.052e+00 -2.806e+00  9.310e-01  1.831e+00]\n",
      " [ 1.140e-01  3.610e-01 -4.090e-01 -6.400e-01]]\n"
     ]
    },
    {
     "name": "stderr",
     "output_type": "stream",
     "text": [
      "Optimizing Portfolio:  55%|█████▍    | 138/252 [09:51<08:08,  4.28s/day]"
     ]
    },
    {
     "name": "stdout",
     "output_type": "stream",
     "text": [
      "[[-0.256 -0.269  0.384 -0.751]\n",
      " [-0.438  0.241 -0.544 -0.345]\n",
      " [ 0.01  -0.01  -0.519 -0.192]\n",
      " ...\n",
      " [ 1.499  0.547  0.947 -0.403]\n",
      " [ 1.451 -2.802  0.979  1.615]\n",
      " [-0.61   0.364 -0.403 -0.648]]\n"
     ]
    },
    {
     "name": "stderr",
     "output_type": "stream",
     "text": [
      "Optimizing Portfolio:  55%|█████▌    | 139/252 [09:55<08:04,  4.28s/day]"
     ]
    },
    {
     "name": "stdout",
     "output_type": "stream",
     "text": [
      "[[ 0.37  -0.272  0.382 -0.661]\n",
      " [-0.216  0.243 -0.537 -0.343]\n",
      " [ 0.004 -0.008 -0.513 -0.194]\n",
      " ...\n",
      " [-0.232  0.556  0.969 -0.361]\n",
      " [ 1.002 -2.806  1.035  1.605]\n",
      " [-0.363  0.361 -0.404 -0.669]]\n"
     ]
    },
    {
     "name": "stderr",
     "output_type": "stream",
     "text": [
      "Optimizing Portfolio:  56%|█████▌    | 140/252 [09:59<07:59,  4.28s/day]"
     ]
    },
    {
     "name": "stdout",
     "output_type": "stream",
     "text": [
      "[[ 0.34  -0.274  0.38  -0.741]\n",
      " [-0.239  0.24  -0.538 -0.336]\n",
      " [-0.452 -0.01  -0.513 -0.243]\n",
      " ...\n",
      " [-0.459  0.543  0.941 -0.247]\n",
      " [ 2.15  -2.798  1.186  1.665]\n",
      " [ 0.32   0.363 -0.397 -0.646]]\n"
     ]
    },
    {
     "name": "stderr",
     "output_type": "stream",
     "text": [
      "Optimizing Portfolio:  56%|█████▌    | 141/252 [10:03<07:54,  4.28s/day]"
     ]
    },
    {
     "name": "stdout",
     "output_type": "stream",
     "text": [
      "[[-0.8   -0.277  0.361 -0.663]\n",
      " [-1.05   0.237 -0.547 -0.327]\n",
      " [-0.343 -0.012 -0.52  -0.23 ]\n",
      " ...\n",
      " [ 0.766  0.547  0.945 -0.125]\n",
      " [-2.127 -2.799  0.991  1.392]\n",
      " [ 0.404  0.376 -0.373 -0.633]]\n"
     ]
    },
    {
     "name": "stderr",
     "output_type": "stream",
     "text": [
      "Optimizing Portfolio:  56%|█████▋    | 142/252 [10:07<07:50,  4.28s/day]"
     ]
    },
    {
     "name": "stdout",
     "output_type": "stream",
     "text": [
      "[[ 0.245 -0.275  0.367 -0.586]\n",
      " [ 0.469  0.244 -0.531 -0.345]\n",
      " [ 0.048 -0.011 -0.513 -0.285]\n",
      " ...\n",
      " [-0.135  0.555  0.964 -0.119]\n",
      " [-2.547 -2.806  0.883  1.328]\n",
      " [ 0.558  0.379 -0.363 -0.58 ]]\n"
     ]
    },
    {
     "name": "stderr",
     "output_type": "stream",
     "text": [
      "Optimizing Portfolio:  57%|█████▋    | 143/252 [10:11<07:46,  4.28s/day]"
     ]
    },
    {
     "name": "stdout",
     "output_type": "stream",
     "text": [
      "[[-0.665 -0.27   0.385 -0.566]\n",
      " [-0.157  0.248 -0.53  -0.383]\n",
      " [ 0.026 -0.008 -0.513 -0.353]\n",
      " ...\n",
      " [ 0.807  0.555  0.964 -0.149]\n",
      " [ 1.271 -2.81   0.937  1.199]\n",
      " [-0.901  0.386 -0.352 -0.538]]\n"
     ]
    },
    {
     "name": "stderr",
     "output_type": "stream",
     "text": [
      "Optimizing Portfolio:  57%|█████▋    | 144/252 [10:15<07:41,  4.27s/day]"
     ]
    },
    {
     "name": "stdout",
     "output_type": "stream",
     "text": [
      "[[-0.38  -0.213  0.385 -0.528]\n",
      " [-0.052  0.247 -0.524 -0.284]\n",
      " [ 0.254 -0.022 -0.516 -0.323]\n",
      " ...\n",
      " [ 1.103  0.716  0.991 -0.19 ]\n",
      " [ 0.254 -2.802  0.953  1.213]\n",
      " [ 0.323  0.39  -0.363 -0.583]]\n"
     ]
    },
    {
     "name": "stderr",
     "output_type": "stream",
     "text": [
      "Optimizing Portfolio:  58%|█████▊    | 145/252 [10:19<07:37,  4.27s/day]"
     ]
    },
    {
     "name": "stdout",
     "output_type": "stream",
     "text": [
      "[[ 0.684 -0.217  0.378 -0.505]\n",
      " [ 0.62   0.249 -0.519 -0.306]\n",
      " [-0.466 -0.019 -0.509 -0.306]\n",
      " ...\n",
      " [-0.549  0.709  0.979 -0.1  ]\n",
      " [ 1.274 -2.796  1.     1.102]\n",
      " [-0.41   0.382 -0.379 -0.643]]\n"
     ]
    },
    {
     "name": "stderr",
     "output_type": "stream",
     "text": [
      "Optimizing Portfolio:  58%|█████▊    | 146/252 [10:23<07:32,  4.27s/day]"
     ]
    },
    {
     "name": "stdout",
     "output_type": "stream",
     "text": [
      "[[ 1.042 -0.223  0.353 -0.394]\n",
      " [ 0.853  0.242 -0.523 -0.321]\n",
      " [ 0.667 -0.024 -0.51  -0.312]\n",
      " ...\n",
      " [-0.169  0.724  1.005 -0.092]\n",
      " [ 1.048 -2.794  1.076  1.043]\n",
      " [-0.276  0.378 -0.383 -0.603]]\n"
     ]
    },
    {
     "name": "stderr",
     "output_type": "stream",
     "text": [
      "Optimizing Portfolio:  58%|█████▊    | 147/252 [10:27<07:28,  4.27s/day]"
     ]
    },
    {
     "name": "stdout",
     "output_type": "stream",
     "text": [
      "[[ 0.478 -0.226  0.349 -0.269]\n",
      " [ 0.654  0.256 -0.509 -0.377]\n",
      " [-0.379 -0.026 -0.513 -0.337]\n",
      " ...\n",
      " [ 0.965  0.74   1.038 -0.147]\n",
      " [ 0.355 -2.791  1.109  1.026]\n",
      " [-0.075  0.381 -0.373 -0.652]]\n"
     ]
    },
    {
     "name": "stderr",
     "output_type": "stream",
     "text": [
      "Optimizing Portfolio:  59%|█████▊    | 148/252 [10:30<07:23,  4.26s/day]"
     ]
    },
    {
     "name": "stdout",
     "output_type": "stream",
     "text": [
      "[[-6.200e-02 -2.290e-01  3.410e-01 -2.900e-01]\n",
      " [-4.710e-01  2.570e-01 -5.090e-01 -3.670e-01]\n",
      " [ 1.880e-01 -3.300e-02 -5.240e-01 -3.240e-01]\n",
      " ...\n",
      " [ 2.000e-03  7.390e-01  1.046e+00 -1.720e-01]\n",
      " [-7.020e-01 -2.796e+00  1.081e+00  9.410e-01]\n",
      " [ 6.600e-02  3.690e-01 -3.940e-01 -7.030e-01]]\n"
     ]
    },
    {
     "name": "stderr",
     "output_type": "stream",
     "text": [
      "Optimizing Portfolio:  59%|█████▉    | 149/252 [10:35<07:19,  4.26s/day]"
     ]
    },
    {
     "name": "stdout",
     "output_type": "stream",
     "text": [
      "[[ 0.221 -0.229  0.356 -0.271]\n",
      " [ 0.937  0.246 -0.52  -0.387]\n",
      " [ 0.394 -0.046 -0.538 -0.276]\n",
      " ...\n",
      " [-0.331  0.741  1.045 -0.089]\n",
      " [-1.308 -2.792  1.034  0.999]\n",
      " [-0.393  0.357 -0.414 -0.798]]\n"
     ]
    },
    {
     "name": "stderr",
     "output_type": "stream",
     "text": [
      "Optimizing Portfolio:  60%|█████▉    | 150/252 [10:39<07:14,  4.26s/day]"
     ]
    },
    {
     "name": "stdout",
     "output_type": "stream",
     "text": [
      "[[-0.093 -0.229  0.353 -0.245]\n",
      " [-0.351  0.232 -0.538 -0.403]\n",
      " [-0.381 -0.04  -0.527 -0.29 ]\n",
      " ...\n",
      " [-1.262  0.72   1.002 -0.146]\n",
      " [ 0.817 -2.793  1.071  0.877]\n",
      " [-0.246  0.359 -0.408 -0.788]]\n"
     ]
    },
    {
     "name": "stderr",
     "output_type": "stream",
     "text": [
      "Optimizing Portfolio:  60%|█████▉    | 151/252 [10:42<07:09,  4.26s/day]"
     ]
    },
    {
     "name": "stdout",
     "output_type": "stream",
     "text": [
      "[[-0.471 -0.237  0.33  -0.287]\n",
      " [-0.33   0.245 -0.525 -0.406]\n",
      " [-0.172 -0.042 -0.534 -0.331]\n",
      " ...\n",
      " [-0.005  0.714  0.988 -0.192]\n",
      " [-0.019 -2.79   1.042  0.938]\n",
      " [-0.038  0.366 -0.394 -0.815]]\n"
     ]
    },
    {
     "name": "stderr",
     "output_type": "stream",
     "text": [
      "Optimizing Portfolio:  60%|██████    | 152/252 [10:46<07:05,  4.25s/day]"
     ]
    },
    {
     "name": "stdout",
     "output_type": "stream",
     "text": [
      "[[ 0.105 -0.233  0.337 -0.22 ]\n",
      " [ 0.704  0.231 -0.535 -0.281]\n",
      " [ 1.704 -0.057 -0.549 -0.343]\n",
      " ...\n",
      " [ 0.233  0.722  1.008 -0.085]\n",
      " [-0.338 -2.801  1.027  0.733]\n",
      " [ 1.292  0.368 -0.39  -0.789]]\n"
     ]
    },
    {
     "name": "stderr",
     "output_type": "stream",
     "text": [
      "Optimizing Portfolio:  61%|██████    | 153/252 [10:50<07:01,  4.25s/day]"
     ]
    },
    {
     "name": "stdout",
     "output_type": "stream",
     "text": [
      "[[-0.248 -0.228  0.348 -0.212]\n",
      " [ 0.132  0.225 -0.548 -0.26 ]\n",
      " [ 0.415 -0.063 -0.561 -0.391]\n",
      " ...\n",
      " [-0.691  0.709  0.976 -0.072]\n",
      " [-0.514 -2.786  0.984  0.706]\n",
      " [ 0.136  0.363 -0.407 -0.784]]\n"
     ]
    },
    {
     "name": "stderr",
     "output_type": "stream",
     "text": [
      "Optimizing Portfolio:  61%|██████    | 154/252 [10:55<06:57,  4.26s/day]"
     ]
    },
    {
     "name": "stdout",
     "output_type": "stream",
     "text": [
      "[[ 0.26  -0.224  0.359 -0.234]\n",
      " [-0.058  0.219 -0.557 -0.234]\n",
      " [-0.38  -0.061 -0.56  -0.373]\n",
      " ...\n",
      " [ 1.512  0.735  1.029 -0.072]\n",
      " [-0.661 -2.794  0.964  0.463]\n",
      " [ 0.062  0.364 -0.407 -0.468]]\n"
     ]
    },
    {
     "name": "stderr",
     "output_type": "stream",
     "text": [
      "Optimizing Portfolio:  62%|██████▏   | 155/252 [11:01<06:53,  4.27s/day]"
     ]
    },
    {
     "name": "stdout",
     "output_type": "stream",
     "text": [
      "[[-0.073 -0.232  0.336 -0.182]\n",
      " [-0.477  0.213 -0.571 -0.235]\n",
      " [ 0.191 -0.059 -0.561 -0.366]\n",
      " ...\n",
      " [-0.391  0.721  1.004 -0.112]\n",
      " [ 1.516 -2.801  1.018  0.296]\n",
      " [-0.095  0.372 -0.392 -0.237]]\n"
     ]
    },
    {
     "name": "stderr",
     "output_type": "stream",
     "text": [
      "Optimizing Portfolio:  62%|██████▏   | 156/252 [11:06<06:50,  4.27s/day]"
     ]
    },
    {
     "name": "stdout",
     "output_type": "stream",
     "text": [
      "[[-0.662 -0.225  0.362 -0.223]\n",
      " [-0.06   0.201 -0.588 -0.265]\n",
      " [-0.064 -0.057 -0.559 -0.394]\n",
      " ...\n",
      " [-0.374  0.715  0.993 -0.105]\n",
      " [-0.189 -2.799  1.011  0.51 ]\n",
      " [ 0.27   0.377 -0.381 -0.195]]\n"
     ]
    },
    {
     "name": "stderr",
     "output_type": "stream",
     "text": [
      "Optimizing Portfolio:  62%|██████▏   | 157/252 [11:09<06:45,  4.27s/day]"
     ]
    },
    {
     "name": "stdout",
     "output_type": "stream",
     "text": [
      "[[ 0.039 -0.226  0.36  -0.239]\n",
      " [-0.074  0.216 -0.574 -0.243]\n",
      " [ 0.461 -0.056 -0.564 -0.309]\n",
      " ...\n",
      " [ 0.466  0.716  0.997 -0.048]\n",
      " [-0.064 -2.797  1.003  0.613]\n",
      " [ 0.063  0.383 -0.372 -0.176]]\n"
     ]
    },
    {
     "name": "stderr",
     "output_type": "stream",
     "text": [
      "Optimizing Portfolio:  63%|██████▎   | 158/252 [11:13<06:40,  4.26s/day]"
     ]
    },
    {
     "name": "stdout",
     "output_type": "stream",
     "text": [
      "[[ 4.700e-02 -1.770e-01  3.950e-01 -2.560e-01]\n",
      " [-4.440e-01  8.700e-02 -5.500e-01 -2.890e-01]\n",
      " [-2.285e+00  1.000e-03 -6.070e-01 -2.810e-01]\n",
      " ...\n",
      " [-3.320e-01  5.880e-01  1.024e+00 -4.800e-02]\n",
      " [-9.600e-02 -2.833e+00  9.940e-01  6.340e-01]\n",
      " [ 6.800e-02  3.710e-01 -3.790e-01 -1.740e-01]]\n"
     ]
    },
    {
     "name": "stderr",
     "output_type": "stream",
     "text": [
      "Optimizing Portfolio:  63%|██████▎   | 159/252 [11:17<06:36,  4.26s/day]"
     ]
    },
    {
     "name": "stdout",
     "output_type": "stream",
     "text": [
      "[[-5.270e-01 -1.800e-01  3.900e-01 -2.220e-01]\n",
      " [-1.270e-01  7.500e-02 -5.750e-01 -3.220e-01]\n",
      " [-5.600e-02  2.000e-03 -6.110e-01 -2.770e-01]\n",
      " ...\n",
      " [-1.392e+00  5.580e-01  9.620e-01  3.000e-03]\n",
      " [ 7.450e-01 -2.838e+00  1.011e+00  7.430e-01]\n",
      " [ 2.840e-01  3.770e-01 -3.660e-01 -1.130e-01]]\n"
     ]
    },
    {
     "name": "stderr",
     "output_type": "stream",
     "text": [
      "Optimizing Portfolio:  63%|██████▎   | 160/252 [11:21<06:31,  4.26s/day]"
     ]
    },
    {
     "name": "stdout",
     "output_type": "stream",
     "text": [
      "[[ 4.810e-01 -1.810e-01  3.830e-01 -1.880e-01]\n",
      " [ 8.100e-02  8.100e-02 -5.620e-01 -3.070e-01]\n",
      " [ 3.490e-01  2.000e-03 -6.090e-01 -2.710e-01]\n",
      " ...\n",
      " [-7.760e-01  5.430e-01  9.250e-01 -1.000e-02]\n",
      " [-2.700e-01 -2.834e+00  9.960e-01  9.410e-01]\n",
      " [-2.440e-01  3.730e-01 -3.740e-01 -1.350e-01]]\n"
     ]
    },
    {
     "name": "stderr",
     "output_type": "stream",
     "text": [
      "Optimizing Portfolio:  64%|██████▍   | 161/252 [11:29<06:29,  4.28s/day]"
     ]
    },
    {
     "name": "stdout",
     "output_type": "stream",
     "text": [
      "[[ 0.397 -0.181  0.386 -0.171]\n",
      " [ 0.238  0.087 -0.553 -0.339]\n",
      " [ 0.007  0.    -0.612 -0.292]\n",
      " ...\n",
      " [ 0.384  0.546  0.936  0.071]\n",
      " [ 0.93  -2.833  1.039  0.763]\n",
      " [ 0.122  0.378 -0.365 -0.177]]\n"
     ]
    },
    {
     "name": "stderr",
     "output_type": "stream",
     "text": [
      "Optimizing Portfolio:  64%|██████▍   | 162/252 [11:32<06:24,  4.28s/day]"
     ]
    },
    {
     "name": "stdout",
     "output_type": "stream",
     "text": [
      "[[ 0.007 -0.192  0.368 -0.1  ]\n",
      " [ 0.015  0.083 -0.555 -0.239]\n",
      " [ 0.215 -0.004 -0.62  -0.264]\n",
      " ...\n",
      " [-1.722  0.515  0.863  0.091]\n",
      " [-0.744 -2.812  0.891  0.704]\n",
      " [ 0.379  0.375 -0.355 -0.155]]\n"
     ]
    },
    {
     "name": "stderr",
     "output_type": "stream",
     "text": [
      "Optimizing Portfolio:  65%|██████▍   | 163/252 [11:36<06:20,  4.27s/day]"
     ]
    },
    {
     "name": "stdout",
     "output_type": "stream",
     "text": [
      "[[ 6.020e-01 -1.950e-01  3.590e-01 -2.560e-01]\n",
      " [ 3.810e-01  8.600e-02 -5.440e-01 -3.040e-01]\n",
      " [-3.230e-01 -1.000e-03 -6.130e-01 -2.670e-01]\n",
      " ...\n",
      " [ 7.420e-01  5.310e-01  8.960e-01  1.530e-01]\n",
      " [-2.590e-01 -2.809e+00  8.960e-01  8.930e-01]\n",
      " [-9.720e-01  3.690e-01 -3.670e-01 -2.700e-01]]\n"
     ]
    },
    {
     "name": "stderr",
     "output_type": "stream",
     "text": [
      "Optimizing Portfolio:  65%|██████▌   | 164/252 [11:39<06:15,  4.27s/day]"
     ]
    },
    {
     "name": "stdout",
     "output_type": "stream",
     "text": [
      "[[-0.494 -0.191  0.372 -0.193]\n",
      " [-0.296  0.086 -0.547 -0.318]\n",
      " [-1.059 -0.004 -0.617 -0.265]\n",
      " ...\n",
      " [ 0.117  0.533  0.901  0.187]\n",
      " [-2.483 -2.814  0.805  0.926]\n",
      " [-0.532  0.365 -0.376 -0.287]]\n"
     ]
    },
    {
     "name": "stderr",
     "output_type": "stream",
     "text": [
      "Optimizing Portfolio:  65%|██████▌   | 165/252 [11:43<06:10,  4.26s/day]"
     ]
    },
    {
     "name": "stdout",
     "output_type": "stream",
     "text": [
      "[[ 0.481 -0.19   0.38  -0.15 ]\n",
      " [ 0.619  0.083 -0.546 -0.294]\n",
      " [-0.616 -0.006 -0.616 -0.252]\n",
      " ...\n",
      " [ 0.132  0.538  0.91   0.114]\n",
      " [ 0.092 -2.81   0.809  0.975]\n",
      " [ 0.17   0.359 -0.385 -0.242]]\n"
     ]
    },
    {
     "name": "stderr",
     "output_type": "stream",
     "text": [
      "Optimizing Portfolio:  66%|██████▌   | 166/252 [11:47<06:06,  4.26s/day]"
     ]
    },
    {
     "name": "stdout",
     "output_type": "stream",
     "text": [
      "[[-1.000e-03 -1.960e-01  3.960e-01 -1.580e-01]\n",
      " [ 8.650e-01  3.800e-02 -5.620e-01 -2.540e-01]\n",
      " [-2.600e-02 -7.300e-02 -6.240e-01 -2.500e-01]\n",
      " ...\n",
      " [-8.150e-01  4.770e-01  8.880e-01  1.510e-01]\n",
      " [-2.450e-01 -2.811e+00  8.050e-01  1.033e+00]\n",
      " [ 9.840e-01  3.260e-01 -3.850e-01 -2.700e-01]]\n"
     ]
    },
    {
     "name": "stderr",
     "output_type": "stream",
     "text": [
      "Optimizing Portfolio:  66%|██████▋   | 167/252 [11:52<06:02,  4.27s/day]"
     ]
    },
    {
     "name": "stdout",
     "output_type": "stream",
     "text": [
      "[[ 0.09  -0.194  0.392 -0.13 ]\n",
      " [-0.36   0.05  -0.543 -0.263]\n",
      " [ 0.089 -0.075 -0.631 -0.316]\n",
      " ...\n",
      " [ 2.196  0.505  0.946  0.169]\n",
      " [ 1.245 -2.817  0.832  0.917]\n",
      " [ 0.129  0.332 -0.377 -0.288]]\n"
     ]
    },
    {
     "name": "stderr",
     "output_type": "stream",
     "text": [
      "Optimizing Portfolio:  67%|██████▋   | 168/252 [11:56<05:58,  4.27s/day]"
     ]
    },
    {
     "name": "stdout",
     "output_type": "stream",
     "text": [
      "[[-0.18  -0.196  0.393 -0.058]\n",
      " [-0.244  0.047 -0.548 -0.33 ]\n",
      " [ 0.259 -0.077 -0.634 -0.343]\n",
      " ...\n",
      " [-0.054  0.504  0.938  0.104]\n",
      " [-0.24  -2.813  0.83   0.947]\n",
      " [ 0.391  0.336 -0.367 -0.206]]\n"
     ]
    },
    {
     "name": "stderr",
     "output_type": "stream",
     "text": [
      "Optimizing Portfolio:  67%|██████▋   | 169/252 [12:00<05:54,  4.27s/day]"
     ]
    },
    {
     "name": "stdout",
     "output_type": "stream",
     "text": [
      "[[-0.048 -0.195  0.397  0.074]\n",
      " [-0.565  0.051 -0.536 -0.349]\n",
      " [ 0.897 -0.083 -0.636 -0.354]\n",
      " ...\n",
      " [ 0.22   0.515  0.961  0.187]\n",
      " [ 0.371 -2.815  0.839  0.968]\n",
      " [ 0.873  0.334 -0.368 -0.239]]\n"
     ]
    },
    {
     "name": "stderr",
     "output_type": "stream",
     "text": [
      "Optimizing Portfolio:  67%|██████▋   | 170/252 [12:05<05:50,  4.27s/day]"
     ]
    },
    {
     "name": "stdout",
     "output_type": "stream",
     "text": [
      "[[-0.649 -0.184  0.436  0.011]\n",
      " [-0.035  0.053 -0.532 -0.396]\n",
      " [-0.244 -0.068 -0.619 -0.267]\n",
      " ...\n",
      " [ 0.128  0.512  0.954  0.021]\n",
      " [ 0.85  -2.817  0.865  0.987]\n",
      " [ 1.242  0.346 -0.34  -0.244]]\n"
     ]
    },
    {
     "name": "stderr",
     "output_type": "stream",
     "text": [
      "Optimizing Portfolio:  68%|██████▊   | 171/252 [12:11<05:46,  4.28s/day]"
     ]
    },
    {
     "name": "stdout",
     "output_type": "stream",
     "text": [
      "[[ 0.493 -0.18   0.439 -0.013]\n",
      " [-0.211  0.049 -0.535 -0.369]\n",
      " [ 0.468 -0.073 -0.62  -0.288]\n",
      " ...\n",
      " [-0.024  0.51   0.948 -0.023]\n",
      " [-2.151 -2.819  0.799  1.147]\n",
      " [-1.167  0.345 -0.344 -0.307]]\n"
     ]
    },
    {
     "name": "stderr",
     "output_type": "stream",
     "text": [
      "Optimizing Portfolio:  68%|██████▊   | 172/252 [12:17<05:42,  4.29s/day]"
     ]
    },
    {
     "name": "stdout",
     "output_type": "stream",
     "text": [
      "[[-0.689 -0.178  0.456 -0.24 ]\n",
      " [-0.504  0.042 -0.554 -0.375]\n",
      " [-0.7   -0.069 -0.624 -0.42 ]\n",
      " ...\n",
      " [ 0.961  0.516  0.965 -0.1  ]\n",
      " [ 1.434 -2.826  0.819  1.157]\n",
      " [ 0.397  0.346 -0.343 -0.313]]\n"
     ]
    },
    {
     "name": "stderr",
     "output_type": "stream",
     "text": [
      "Optimizing Portfolio:  69%|██████▊   | 173/252 [12:22<05:39,  4.29s/day]"
     ]
    },
    {
     "name": "stdout",
     "output_type": "stream",
     "text": [
      "[[-1.055 -0.169  0.481 -0.243]\n",
      " [-0.549  0.046 -0.551 -0.467]\n",
      " [-1.131 -0.069 -0.625 -0.434]\n",
      " ...\n",
      " [ 2.636  0.546  1.029 -0.196]\n",
      " [-0.498 -2.825  0.793  1.221]\n",
      " [-0.442  0.35  -0.338 -0.308]]\n"
     ]
    },
    {
     "name": "stderr",
     "output_type": "stream",
     "text": [
      "Optimizing Portfolio:  69%|██████▉   | 174/252 [12:29<05:36,  4.31s/day]"
     ]
    },
    {
     "name": "stdout",
     "output_type": "stream",
     "text": [
      "[[-0.425 -0.17   0.476 -0.258]\n",
      " [-0.853  0.059 -0.532 -0.456]\n",
      " [-0.042 -0.077 -0.639 -0.434]\n",
      " ...\n",
      " [ 0.492  0.551  1.04  -0.243]\n",
      " [ 0.717 -2.825  0.801  1.219]\n",
      " [ 0.643  0.356 -0.326 -0.32 ]]\n"
     ]
    },
    {
     "name": "stderr",
     "output_type": "stream",
     "text": [
      "Optimizing Portfolio:  69%|██████▉   | 175/252 [12:34<05:31,  4.31s/day]"
     ]
    },
    {
     "name": "stdout",
     "output_type": "stream",
     "text": [
      "[[-0.097 -0.176  0.448 -0.251]\n",
      " [-0.266  0.037 -0.567 -0.517]\n",
      " [ 0.556 -0.075 -0.632 -0.436]\n",
      " ...\n",
      " [ 1.352  0.568  1.07  -0.287]\n",
      " [ 0.347 -2.821  0.796  1.081]\n",
      " [ 0.307  0.359 -0.32  -0.294]]\n"
     ]
    },
    {
     "name": "stderr",
     "output_type": "stream",
     "text": [
      "Optimizing Portfolio:  70%|██████▉   | 176/252 [12:40<05:28,  4.32s/day]"
     ]
    },
    {
     "name": "stdout",
     "output_type": "stream",
     "text": [
      "[[-0.54  -0.172  0.465 -0.278]\n",
      " [ 0.104  0.054 -0.534 -0.481]\n",
      " [ 0.13  -0.074 -0.628 -0.413]\n",
      " ...\n",
      " [ 0.355  0.582  1.096 -0.321]\n",
      " [-0.34  -2.823  0.8    1.009]\n",
      " [ 0.258  0.364 -0.305 -0.273]]\n"
     ]
    },
    {
     "name": "stderr",
     "output_type": "stream",
     "text": [
      "Optimizing Portfolio:  70%|███████   | 177/252 [12:45<05:24,  4.32s/day]"
     ]
    },
    {
     "name": "stdout",
     "output_type": "stream",
     "text": [
      "[[-0.299 -0.175  0.473 -0.234]\n",
      " [ 0.168  0.047 -0.549 -0.464]\n",
      " [-0.076 -0.076 -0.636 -0.451]\n",
      " ...\n",
      " [ 0.301  0.581  1.109 -0.27 ]\n",
      " [-0.888 -2.826  0.778  1.009]\n",
      " [-1.468  0.359 -0.313 -0.38 ]]\n"
     ]
    },
    {
     "name": "stderr",
     "output_type": "stream",
     "text": [
      "Optimizing Portfolio:  71%|███████   | 178/252 [12:52<05:21,  4.34s/day]"
     ]
    },
    {
     "name": "stdout",
     "output_type": "stream",
     "text": [
      "[[ 0.282 -0.171  0.478 -0.2  ]\n",
      " [ 0.36   0.036 -0.567 -0.467]\n",
      " [ 0.076 -0.077 -0.634 -0.402]\n",
      " ...\n",
      " [ 1.373  0.604  1.155 -0.254]\n",
      " [-0.386 -2.823  0.778  1.016]\n",
      " [-0.574  0.359 -0.314 -0.412]]\n"
     ]
    },
    {
     "name": "stderr",
     "output_type": "stream",
     "text": [
      "Optimizing Portfolio:  71%|███████   | 179/252 [12:58<05:17,  4.35s/day]"
     ]
    },
    {
     "name": "stdout",
     "output_type": "stream",
     "text": [
      "[[ 0.288 -0.182  0.44  -0.122]\n",
      " [-0.39   0.026 -0.587 -0.423]\n",
      " [-0.739 -0.075 -0.632 -0.4  ]\n",
      " ...\n",
      " [ 0.156  0.607  1.164 -0.23 ]\n",
      " [-0.423 -2.829  0.774  0.958]\n",
      " [ 0.489  0.366 -0.302 -0.418]]\n"
     ]
    },
    {
     "name": "stderr",
     "output_type": "stream",
     "text": [
      "Optimizing Portfolio:  71%|███████▏  | 180/252 [13:06<05:14,  4.37s/day]"
     ]
    },
    {
     "name": "stdout",
     "output_type": "stream",
     "text": [
      "[[-0.346 -0.176  0.458 -0.181]\n",
      " [-0.362  0.024 -0.59  -0.414]\n",
      " [-0.266 -0.078 -0.636 -0.373]\n",
      " ...\n",
      " [ 0.225  0.606  1.169 -0.235]\n",
      " [ 0.547 -2.841  0.791  0.949]\n",
      " [-1.581  0.362 -0.313 -0.42 ]]\n"
     ]
    },
    {
     "name": "stderr",
     "output_type": "stream",
     "text": [
      "Optimizing Portfolio:  72%|███████▏  | 181/252 [13:12<05:10,  4.38s/day]"
     ]
    },
    {
     "name": "stdout",
     "output_type": "stream",
     "text": [
      "[[-0.261 -0.171  0.476 -0.135]\n",
      " [ 0.188  0.029 -0.577 -0.368]\n",
      " [-0.393 -0.07  -0.624 -0.361]\n",
      " ...\n",
      " [-0.341  0.61   1.167 -0.149]\n",
      " [ 0.604 -2.831  0.803  0.732]\n",
      " [ 0.19   0.356 -0.321 -0.414]]\n"
     ]
    },
    {
     "name": "stderr",
     "output_type": "stream",
     "text": [
      "Optimizing Portfolio:  72%|███████▏  | 182/252 [13:18<05:07,  4.39s/day]"
     ]
    },
    {
     "name": "stdout",
     "output_type": "stream",
     "text": [
      "[[-0.899 -0.168  0.483 -0.148]\n",
      " [-0.74   0.033 -0.575 -0.369]\n",
      " [-0.737 -0.079 -0.638 -0.378]\n",
      " ...\n",
      " [-1.338  0.58   1.107 -0.12 ]\n",
      " [-1.528 -2.843  0.72   0.734]\n",
      " [-0.777  0.347 -0.344 -0.448]]\n"
     ]
    },
    {
     "name": "stderr",
     "output_type": "stream",
     "text": [
      "Optimizing Portfolio:  73%|███████▎  | 183/252 [13:23<05:03,  4.39s/day]"
     ]
    },
    {
     "name": "stdout",
     "output_type": "stream",
     "text": [
      "[[-0.125 -0.17   0.479 -0.107]\n",
      " [-0.321  0.035 -0.568 -0.359]\n",
      " [ 0.259 -0.078 -0.633 -0.379]\n",
      " ...\n",
      " [-0.221  0.586  1.12  -0.111]\n",
      " [ 1.476 -2.847  0.747  0.631]\n",
      " [ 0.57   0.354 -0.328 -0.458]]\n"
     ]
    },
    {
     "name": "stderr",
     "output_type": "stream",
     "text": [
      "Optimizing Portfolio:  73%|███████▎  | 184/252 [13:28<04:58,  4.40s/day]"
     ]
    },
    {
     "name": "stdout",
     "output_type": "stream",
     "text": [
      "[[ 0.112 -0.164  0.499 -0.105]\n",
      " [ 0.491  0.042 -0.553 -0.349]\n",
      " [ 0.208 -0.086 -0.638 -0.35 ]\n",
      " ...\n",
      " [-1.091  0.577  1.098 -0.123]\n",
      " [ 0.287 -2.842  0.781  0.94 ]\n",
      " [-1.467  0.349 -0.336 -0.483]]\n"
     ]
    },
    {
     "name": "stderr",
     "output_type": "stream",
     "text": [
      "Optimizing Portfolio:  73%|███████▎  | 185/252 [13:34<04:55,  4.41s/day]"
     ]
    },
    {
     "name": "stdout",
     "output_type": "stream",
     "text": [
      "[[ 0.118 -0.166  0.496 -0.058]\n",
      " [-0.127  0.043 -0.547 -0.316]\n",
      " [-0.195 -0.083 -0.634 -0.286]\n",
      " ...\n",
      " [ 0.553  0.583  1.107 -0.09 ]\n",
      " [ 0.271 -2.837  0.785  0.916]\n",
      " [ 0.067  0.348 -0.335 -0.429]]\n"
     ]
    },
    {
     "name": "stderr",
     "output_type": "stream",
     "text": [
      "Optimizing Portfolio:  74%|███████▍  | 186/252 [13:41<04:51,  4.42s/day]"
     ]
    },
    {
     "name": "stdout",
     "output_type": "stream",
     "text": [
      "[[-0.147 -0.172  0.475 -0.056]\n",
      " [-0.767  0.06  -0.521 -0.416]\n",
      " [-0.318 -0.075 -0.627 -0.284]\n",
      " ...\n",
      " [ 1.362  0.591  1.124  0.053]\n",
      " [ 0.081 -2.835  0.771  0.959]\n",
      " [ 0.291  0.354 -0.324 -0.516]]\n"
     ]
    },
    {
     "name": "stderr",
     "output_type": "stream",
     "text": [
      "Optimizing Portfolio:  74%|███████▍  | 187/252 [13:47<04:47,  4.43s/day]"
     ]
    },
    {
     "name": "stdout",
     "output_type": "stream",
     "text": [
      "[[ 0.455 -0.13   0.459 -0.061]\n",
      " [ 0.215  0.08  -0.546 -0.544]\n",
      " [-0.846 -0.085 -0.632 -0.283]\n",
      " ...\n",
      " [-2.838  0.592  1.014  0.084]\n",
      " [-0.365 -2.87   0.747  1.061]\n",
      " [ 0.34   0.421 -0.348 -0.471]]\n"
     ]
    },
    {
     "name": "stderr",
     "output_type": "stream",
     "text": [
      "Optimizing Portfolio:  75%|███████▍  | 188/252 [13:54<04:44,  4.44s/day]"
     ]
    },
    {
     "name": "stdout",
     "output_type": "stream",
     "text": [
      "[[-0.322 -0.138  0.443  0.023]\n",
      " [-0.178  0.079 -0.551 -0.499]\n",
      " [-0.275 -0.07  -0.621 -0.309]\n",
      " ...\n",
      " [ 0.704  0.595  1.023  0.149]\n",
      " [ 0.146 -2.858  0.763  1.052]\n",
      " [ 0.754  0.429 -0.33  -0.528]]\n"
     ]
    },
    {
     "name": "stderr",
     "output_type": "stream",
     "text": [
      "Optimizing Portfolio:  75%|███████▌  | 189/252 [14:00<04:40,  4.45s/day]"
     ]
    },
    {
     "name": "stdout",
     "output_type": "stream",
     "text": [
      "[[-0.242 -0.135  0.447 -0.043]\n",
      " [-0.312  0.069 -0.575 -0.495]\n",
      " [ 0.322 -0.067 -0.619 -0.362]\n",
      " ...\n",
      " [ 0.414  0.594  1.023  0.11 ]\n",
      " [ 0.124 -2.866  0.757  1.263]\n",
      " [ 0.406  0.437 -0.32  -0.494]]\n"
     ]
    },
    {
     "name": "stderr",
     "output_type": "stream",
     "text": [
      "Optimizing Portfolio:  75%|███████▌  | 190/252 [14:06<04:36,  4.46s/day]"
     ]
    },
    {
     "name": "stdout",
     "output_type": "stream",
     "text": [
      "[[-0.033 -0.127  0.467 -0.082]\n",
      " [ 0.452  0.059 -0.591 -0.553]\n",
      " [-0.113 -0.069 -0.62  -0.353]\n",
      " ...\n",
      " [ 0.987  0.604  1.047  0.128]\n",
      " [-0.675 -2.872  0.726  1.578]\n",
      " [-0.63   0.433 -0.329 -0.499]]\n"
     ]
    },
    {
     "name": "stderr",
     "output_type": "stream",
     "text": [
      "Optimizing Portfolio:  76%|███████▌  | 191/252 [14:12<04:32,  4.46s/day]"
     ]
    },
    {
     "name": "stdout",
     "output_type": "stream",
     "text": [
      "[[ 0.519 -0.125  0.475 -0.094]\n",
      " [ 0.395  0.067 -0.577 -0.375]\n",
      " [-1.053 -0.063 -0.612 -0.345]\n",
      " ...\n",
      " [ 0.46   0.611  1.061  0.173]\n",
      " [-0.24  -2.865  0.725  1.505]\n",
      " [ 0.444  0.441 -0.31  -0.492]]\n"
     ]
    },
    {
     "name": "stderr",
     "output_type": "stream",
     "text": [
      "Optimizing Portfolio:  76%|███████▌  | 192/252 [14:18<04:28,  4.47s/day]"
     ]
    },
    {
     "name": "stdout",
     "output_type": "stream",
     "text": [
      "[[-0.253 -0.125  0.479 -0.082]\n",
      " [-0.159  0.069 -0.569 -0.361]\n",
      " [-1.166 -0.057 -0.599 -0.355]\n",
      " ...\n",
      " [ 0.192  0.614  1.069  0.192]\n",
      " [-0.672 -2.863  0.7    1.582]\n",
      " [ 0.542  0.442 -0.302 -0.506]]\n"
     ]
    },
    {
     "name": "stderr",
     "output_type": "stream",
     "text": [
      "Optimizing Portfolio:  77%|███████▋  | 193/252 [14:23<04:24,  4.48s/day]"
     ]
    },
    {
     "name": "stdout",
     "output_type": "stream",
     "text": [
      "[[ 0.471 -0.127  0.473 -0.12 ]\n",
      " [ 0.593  0.055 -0.588 -0.457]\n",
      " [-0.229 -0.055 -0.593 -0.37 ]\n",
      " ...\n",
      " [-1.796  0.599  1.037  0.174]\n",
      " [-0.729 -2.87   0.668  1.621]\n",
      " [-0.604  0.431 -0.325 -0.554]]\n"
     ]
    },
    {
     "name": "stderr",
     "output_type": "stream",
     "text": [
      "Optimizing Portfolio:  77%|███████▋  | 194/252 [14:30<04:20,  4.49s/day]"
     ]
    },
    {
     "name": "stdout",
     "output_type": "stream",
     "text": [
      "[[-0.109 -0.125  0.475 -0.143]\n",
      " [-0.196  0.042 -0.612 -0.467]\n",
      " [ 0.174 -0.058 -0.598 -0.34 ]\n",
      " ...\n",
      " [ 0.616  0.601  1.039  0.181]\n",
      " [-0.7   -2.868  0.645  1.63 ]\n",
      " [ 0.259  0.433 -0.321 -0.478]]\n"
     ]
    },
    {
     "name": "stderr",
     "output_type": "stream",
     "text": [
      "Optimizing Portfolio:  77%|███████▋  | 195/252 [14:36<04:16,  4.50s/day]"
     ]
    },
    {
     "name": "stdout",
     "output_type": "stream",
     "text": [
      "[[ 4.880e-01 -1.300e-01  4.630e-01 -1.970e-01]\n",
      " [ 4.910e-01  3.500e-02 -6.250e-01 -4.590e-01]\n",
      " [-1.000e-03 -6.600e-02 -6.090e-01 -3.650e-01]\n",
      " ...\n",
      " [ 1.382e+00  6.180e-01  1.082e+00  2.540e-01]\n",
      " [ 1.049e+00 -2.870e+00  6.720e-01  1.660e+00]\n",
      " [ 1.190e-01  4.340e-01 -3.190e-01 -4.950e-01]]\n"
     ]
    },
    {
     "name": "stderr",
     "output_type": "stream",
     "text": [
      "Optimizing Portfolio:  78%|███████▊  | 196/252 [14:42<04:12,  4.50s/day]"
     ]
    },
    {
     "name": "stdout",
     "output_type": "stream",
     "text": [
      "[[-0.518 -0.126  0.478 -0.134]\n",
      " [-0.993  0.044 -0.607 -0.436]\n",
      " [-0.523 -0.065 -0.608 -0.369]\n",
      " ...\n",
      " [-0.835  0.603  1.044  0.227]\n",
      " [ 0.313 -2.852  0.685  1.529]\n",
      " [-1.038  0.424 -0.338 -0.456]]\n"
     ]
    },
    {
     "name": "stderr",
     "output_type": "stream",
     "text": [
      "Optimizing Portfolio:  78%|███████▊  | 197/252 [14:48<04:08,  4.51s/day]"
     ]
    },
    {
     "name": "stdout",
     "output_type": "stream",
     "text": [
      "[[-0.078 -0.13   0.457 -0.104]\n",
      " [-0.029  0.03  -0.623 -0.472]\n",
      " [ 0.046 -0.069 -0.607 -0.448]\n",
      " ...\n",
      " [-1.399  0.585  0.99   0.174]\n",
      " [ 1.074 -2.837  0.686  1.605]\n",
      " [-0.27   0.417 -0.351 -0.499]]\n"
     ]
    },
    {
     "name": "stderr",
     "output_type": "stream",
     "text": [
      "Optimizing Portfolio:  79%|███████▊  | 198/252 [14:54<04:03,  4.52s/day]"
     ]
    },
    {
     "name": "stdout",
     "output_type": "stream",
     "text": [
      "[[ 0.011 -0.13   0.453 -0.088]\n",
      " [ 0.552  0.022 -0.64  -0.402]\n",
      " [ 0.373 -0.071 -0.611 -0.347]\n",
      " ...\n",
      " [-1.594  0.564  0.95   0.239]\n",
      " [-0.171 -2.851  0.674  1.564]\n",
      " [-0.071  0.418 -0.353 -0.531]]\n"
     ]
    },
    {
     "name": "stderr",
     "output_type": "stream",
     "text": [
      "Optimizing Portfolio:  79%|███████▉  | 199/252 [14:59<03:59,  4.52s/day]"
     ]
    },
    {
     "name": "stdout",
     "output_type": "stream",
     "text": [
      "[[-0.912 -0.118  0.482 -0.025]\n",
      " [-0.56   0.03  -0.631 -0.433]\n",
      " [ 0.478 -0.066 -0.604 -0.289]\n",
      " ...\n",
      " [ 0.407  0.563  0.95   0.254]\n",
      " [ 0.864 -2.856  0.693  1.565]\n",
      " [ 0.568  0.425 -0.342 -0.524]]\n"
     ]
    },
    {
     "name": "stderr",
     "output_type": "stream",
     "text": [
      "Optimizing Portfolio:  79%|███████▉  | 200/252 [15:02<03:54,  4.51s/day]"
     ]
    },
    {
     "name": "stdout",
     "output_type": "stream",
     "text": [
      "[[ 0.123 -0.118  0.471 -0.024]\n",
      " [-0.416  0.024 -0.64  -0.437]\n",
      " [ 2.229 -0.072 -0.609 -0.344]\n",
      " ...\n",
      " [ 1.302  0.578  0.978  0.263]\n",
      " [-0.141 -2.853  0.675  1.465]\n",
      " [-0.976  0.413 -0.367 -0.541]]\n"
     ]
    },
    {
     "name": "stderr",
     "output_type": "stream",
     "text": [
      "Optimizing Portfolio:  80%|███████▉  | 201/252 [15:10<03:50,  4.53s/day]"
     ]
    },
    {
     "name": "stdout",
     "output_type": "stream",
     "text": [
      "[[-0.494 -0.112  0.492 -0.065]\n",
      " [-0.197  0.034 -0.627 -0.33 ]\n",
      " [-0.135 -0.07  -0.611 -0.328]\n",
      " ...\n",
      " [ 2.622  0.63   1.093  0.227]\n",
      " [ 0.392 -2.85   0.694  1.542]\n",
      " [-0.537  0.408 -0.38  -0.524]]\n"
     ]
    },
    {
     "name": "stderr",
     "output_type": "stream",
     "text": [
      "Optimizing Portfolio:  80%|████████  | 202/252 [15:13<03:46,  4.52s/day]"
     ]
    },
    {
     "name": "stdout",
     "output_type": "stream",
     "text": [
      "[[-0.287 -0.116  0.472 -0.123]\n",
      " [-0.494  0.031 -0.641 -0.389]\n",
      " [-1.198 -0.061 -0.605 -0.356]\n",
      " ...\n",
      " [ 1.297  0.632  1.106 -0.012]\n",
      " [ 0.639 -2.859  0.712  1.576]\n",
      " [-0.254  0.411 -0.378 -0.595]]\n"
     ]
    },
    {
     "name": "stderr",
     "output_type": "stream",
     "text": [
      "Optimizing Portfolio:  81%|████████  | 203/252 [15:16<03:41,  4.51s/day]"
     ]
    },
    {
     "name": "stdout",
     "output_type": "stream",
     "text": [
      "[[-0.032 -0.119  0.471 -0.219]\n",
      " [ 0.601  0.025 -0.644 -0.373]\n",
      " [ 0.423 -0.066 -0.608 -0.326]\n",
      " ...\n",
      " [-2.436  0.604  1.041  0.018]\n",
      " [-0.577 -2.86   0.68   1.607]\n",
      " [-0.395  0.401 -0.395 -0.465]]\n"
     ]
    },
    {
     "name": "stderr",
     "output_type": "stream",
     "text": [
      "Optimizing Portfolio:  81%|████████  | 204/252 [15:19<03:36,  4.51s/day]"
     ]
    },
    {
     "name": "stdout",
     "output_type": "stream",
     "text": [
      "[[-0.348 -0.126  0.46  -0.208]\n",
      " [ 0.172  0.021 -0.649 -0.42 ]\n",
      " [-0.796 -0.063 -0.607 -0.342]\n",
      " ...\n",
      " [ 1.063  0.612  1.054  0.037]\n",
      " [ 0.303 -2.848  0.692  1.842]\n",
      " [-0.242  0.397 -0.398 -0.451]]\n"
     ]
    },
    {
     "name": "stderr",
     "output_type": "stream",
     "text": [
      "Optimizing Portfolio:  81%|████████▏ | 205/252 [15:23<03:31,  4.51s/day]"
     ]
    },
    {
     "name": "stdout",
     "output_type": "stream",
     "text": [
      "[[-0.349 -0.131  0.456 -0.151]\n",
      " [ 0.107  0.014 -0.655 -0.455]\n",
      " [ 0.331 -0.061 -0.602 -0.336]\n",
      " ...\n",
      " [ 1.289  0.645  1.13   0.086]\n",
      " [-0.618 -2.844  0.668  1.699]\n",
      " [ 0.108  0.403 -0.38  -0.45 ]]\n"
     ]
    },
    {
     "name": "stderr",
     "output_type": "stream",
     "text": [
      "Optimizing Portfolio:  82%|████████▏ | 206/252 [15:28<03:27,  4.51s/day]"
     ]
    },
    {
     "name": "stdout",
     "output_type": "stream",
     "text": [
      "[[-0.363 -0.133  0.442 -0.176]\n",
      " [-0.825  0.02  -0.648 -0.417]\n",
      " [ 1.023 -0.076 -0.621 -0.356]\n",
      " ...\n",
      " [-0.245  0.63   1.091  0.061]\n",
      " [ 0.    -2.843  0.676  1.788]\n",
      " [-0.179  0.407 -0.374 -0.358]]\n"
     ]
    },
    {
     "name": "stderr",
     "output_type": "stream",
     "text": [
      "Optimizing Portfolio:  82%|████████▏ | 207/252 [15:30<03:22,  4.50s/day]"
     ]
    },
    {
     "name": "stdout",
     "output_type": "stream",
     "text": [
      "[[ 0.134 -0.129  0.455 -0.142]\n",
      " [-0.149  0.052 -0.59  -0.339]\n",
      " [ 0.265 -0.079 -0.625 -0.345]\n",
      " ...\n",
      " [-0.018  0.632  1.087  0.06 ]\n",
      " [ 0.442 -2.834  0.699  1.666]\n",
      " [ 0.388  0.404 -0.376 -0.329]]\n"
     ]
    },
    {
     "name": "stderr",
     "output_type": "stream",
     "text": [
      "Optimizing Portfolio:  83%|████████▎ | 208/252 [15:34<03:17,  4.49s/day]"
     ]
    },
    {
     "name": "stdout",
     "output_type": "stream",
     "text": [
      "[[ 0.49  -0.134  0.448 -0.149]\n",
      " [ 0.458 -0.087 -0.61  -0.289]\n",
      " [-0.038 -0.074 -0.619 -0.365]\n",
      " ...\n",
      " [ 0.601  0.683  1.119  0.116]\n",
      " [ 0.746 -2.831  0.711  1.658]\n",
      " [ 0.529  0.356 -0.362 -0.376]]\n"
     ]
    },
    {
     "name": "stderr",
     "output_type": "stream",
     "text": [
      "Optimizing Portfolio:  83%|████████▎ | 209/252 [15:38<03:13,  4.49s/day]"
     ]
    },
    {
     "name": "stdout",
     "output_type": "stream",
     "text": [
      "[[-2.000e-03 -1.430e-01  4.190e-01 -2.210e-01]\n",
      " [ 1.300e-01 -9.200e-02 -6.210e-01 -3.240e-01]\n",
      " [-6.270e-01 -7.600e-02 -6.250e-01 -3.930e-01]\n",
      " ...\n",
      " [-1.124e+00  6.680e-01  1.088e+00  1.130e-01]\n",
      " [-3.180e-01 -2.831e+00  7.180e-01  1.352e+00]\n",
      " [-4.580e-01  3.520e-01 -3.750e-01 -3.000e-01]]\n"
     ]
    },
    {
     "name": "stderr",
     "output_type": "stream",
     "text": [
      "Optimizing Portfolio:  83%|████████▎ | 210/252 [15:41<03:08,  4.48s/day]"
     ]
    },
    {
     "name": "stdout",
     "output_type": "stream",
     "text": [
      "[[ 0.441 -0.162  0.361 -0.27 ]\n",
      " [-0.653 -0.094 -0.624 -0.301]\n",
      " [-1.104 -0.069 -0.617 -0.43 ]\n",
      " ...\n",
      " [-0.804  0.652  1.054  0.042]\n",
      " [-0.043 -2.831  0.698  1.29 ]\n",
      " [-0.889  0.342 -0.396 -0.244]]\n"
     ]
    },
    {
     "name": "stderr",
     "output_type": "stream",
     "text": [
      "Optimizing Portfolio:  84%|████████▎ | 211/252 [15:45<03:03,  4.48s/day]"
     ]
    },
    {
     "name": "stdout",
     "output_type": "stream",
     "text": [
      "[[-0.504 -0.155  0.382 -0.209]\n",
      " [ 0.607 -0.091 -0.619 -0.272]\n",
      " [ 1.149 -0.082 -0.634 -0.405]\n",
      " ...\n",
      " [-0.646  0.645  1.039 -0.037]\n",
      " [-0.118 -2.83   0.703  1.307]\n",
      " [-0.281  0.342 -0.396 -0.271]]\n"
     ]
    },
    {
     "name": "stderr",
     "output_type": "stream",
     "text": [
      "Optimizing Portfolio:  84%|████████▍ | 212/252 [15:48<02:59,  4.48s/day]"
     ]
    },
    {
     "name": "stdout",
     "output_type": "stream",
     "text": [
      "[[ 0.707 -0.16   0.378 -0.202]\n",
      " [ 1.155 -0.1   -0.627 -0.371]\n",
      " [-0.776 -0.09  -0.638 -0.424]\n",
      " ...\n",
      " [-1.417  0.62   0.995 -0.081]\n",
      " [-0.222 -2.82   0.711  1.233]\n",
      " [ 0.469  0.341 -0.389 -0.274]]\n"
     ]
    },
    {
     "name": "stderr",
     "output_type": "stream",
     "text": [
      "Optimizing Portfolio:  85%|████████▍ | 213/252 [15:52<02:54,  4.47s/day]"
     ]
    },
    {
     "name": "stdout",
     "output_type": "stream",
     "text": [
      "[[ 0.684 -0.162  0.377 -0.278]\n",
      " [-0.238 -0.094 -0.619 -0.436]\n",
      " [ 0.136 -0.086 -0.634 -0.404]\n",
      " ...\n",
      " [ 0.918  0.637  1.027 -0.261]\n",
      " [-0.114 -2.82   0.707  1.119]\n",
      " [-0.121  0.346 -0.379 -0.289]]\n"
     ]
    },
    {
     "name": "stderr",
     "output_type": "stream",
     "text": [
      "Optimizing Portfolio:  85%|████████▍ | 214/252 [15:55<02:49,  4.46s/day]"
     ]
    },
    {
     "name": "stdout",
     "output_type": "stream",
     "text": [
      "[[ 0.012 -0.161  0.381 -0.206]\n",
      " [ 0.482 -0.103 -0.636 -0.409]\n",
      " [ 0.303 -0.095 -0.646 -0.451]\n",
      " ...\n",
      " [-0.244  0.627  1.006 -0.329]\n",
      " [ 0.545 -2.817  0.707  1.065]\n",
      " [ 0.56   0.347 -0.376 -0.312]]\n"
     ]
    },
    {
     "name": "stderr",
     "output_type": "stream",
     "text": [
      "Optimizing Portfolio:  85%|████████▌ | 215/252 [16:01<02:45,  4.47s/day]"
     ]
    },
    {
     "name": "stdout",
     "output_type": "stream",
     "text": [
      "[[ 0.405 -0.166  0.356 -0.236]\n",
      " [ 0.108 -0.111 -0.649 -0.349]\n",
      " [-2.887 -0.095 -0.648 -0.458]\n",
      " ...\n",
      " [ 0.172  0.634  1.018 -0.217]\n",
      " [-2.284 -2.824  0.604  1.056]\n",
      " [-0.013  0.345 -0.379 -0.314]]\n"
     ]
    },
    {
     "name": "stderr",
     "output_type": "stream",
     "text": [
      "Optimizing Portfolio:  86%|████████▌ | 216/252 [16:06<02:41,  4.47s/day]"
     ]
    },
    {
     "name": "stdout",
     "output_type": "stream",
     "text": [
      "[[-0.371 -0.165  0.366 -0.194]\n",
      " [-0.348 -0.112 -0.648 -0.279]\n",
      " [ 0.628 -0.097 -0.65  -0.419]\n",
      " ...\n",
      " [-0.277  0.636  1.022 -0.051]\n",
      " [-1.034 -2.83   0.584  0.955]\n",
      " [-0.2    0.34  -0.388 -0.313]]\n"
     ]
    },
    {
     "name": "stderr",
     "output_type": "stream",
     "text": [
      "Optimizing Portfolio:  86%|████████▌ | 217/252 [16:11<02:36,  4.48s/day]"
     ]
    },
    {
     "name": "stdout",
     "output_type": "stream",
     "text": [
      "[[ 0.386 -0.174  0.329 -0.282]\n",
      " [ 0.346 -0.119 -0.685 -0.274]\n",
      " [-0.466 -0.08  -0.664 -0.409]\n",
      " ...\n",
      " [-0.315  0.618  0.978 -0.166]\n",
      " [ 0.483 -2.838  0.576  0.948]\n",
      " [-0.386  0.338 -0.373 -0.315]]\n"
     ]
    },
    {
     "name": "stderr",
     "output_type": "stream",
     "text": [
      "Optimizing Portfolio:  87%|████████▋ | 218/252 [16:18<02:32,  4.49s/day]"
     ]
    },
    {
     "name": "stdout",
     "output_type": "stream",
     "text": [
      "[[ 0.162 -0.176  0.327 -0.254]\n",
      " [ 0.756 -0.122 -0.689 -0.266]\n",
      " [-0.339 -0.055 -0.634 -0.422]\n",
      " ...\n",
      " [-0.155  0.615  0.97  -0.072]\n",
      " [-0.488 -2.832  0.572  0.891]\n",
      " [-0.965  0.337 -0.372 -0.347]]\n"
     ]
    },
    {
     "name": "stderr",
     "output_type": "stream",
     "text": [
      "Optimizing Portfolio:  87%|████████▋ | 219/252 [16:23<02:28,  4.49s/day]"
     ]
    },
    {
     "name": "stdout",
     "output_type": "stream",
     "text": [
      "[[-0.373 -0.171  0.351 -0.267]\n",
      " [-0.45  -0.129 -0.701 -0.236]\n",
      " [ 0.357 -0.063 -0.645 -0.332]\n",
      " ...\n",
      " [ 1.241  0.629  1.003 -0.069]\n",
      " [ 1.854 -2.839  0.64   0.772]\n",
      " [-0.158  0.334 -0.376 -0.35 ]]\n"
     ]
    },
    {
     "name": "stderr",
     "output_type": "stream",
     "text": [
      "Optimizing Portfolio:  87%|████████▋ | 220/252 [16:29<02:23,  4.50s/day]"
     ]
    },
    {
     "name": "stdout",
     "output_type": "stream",
     "text": [
      "[[ 0.199 -0.165  0.361 -0.282]\n",
      " [ 0.209 -0.134 -0.718 -0.316]\n",
      " [ 0.335 -0.062 -0.646 -0.329]\n",
      " ...\n",
      " [-1.856  0.599  0.94   0.035]\n",
      " [ 0.425 -2.853  0.628  0.807]\n",
      " [ 0.576  0.338 -0.377 -0.389]]\n"
     ]
    },
    {
     "name": "stderr",
     "output_type": "stream",
     "text": [
      "Optimizing Portfolio:  88%|████████▊ | 221/252 [16:34<02:19,  4.50s/day]"
     ]
    },
    {
     "name": "stdout",
     "output_type": "stream",
     "text": [
      "[[ 0.27  -0.17   0.339 -0.336]\n",
      " [-1.119 -0.126 -0.707 -0.323]\n",
      " [-0.724 -0.048 -0.63  -0.371]\n",
      " ...\n",
      " [-2.101  0.564  0.867  0.024]\n",
      " [ 1.595 -2.862  0.664  0.912]\n",
      " [-0.866  0.331 -0.396 -0.296]]\n"
     ]
    },
    {
     "name": "stderr",
     "output_type": "stream",
     "text": [
      "Optimizing Portfolio:  88%|████████▊ | 222/252 [16:37<02:14,  4.50s/day]"
     ]
    },
    {
     "name": "stdout",
     "output_type": "stream",
     "text": [
      "[[ 0.501 -0.177  0.328 -0.344]\n",
      " [ 0.399 -0.038 -0.576 -0.28 ]\n",
      " [-0.362 -0.048 -0.632 -0.387]\n",
      " ...\n",
      " [-0.644  0.477  0.902  0.05 ]\n",
      " [-0.884 -2.824  1.021  1.182]\n",
      " [-0.191  0.322 -0.403 -0.373]]\n"
     ]
    },
    {
     "name": "stderr",
     "output_type": "stream",
     "text": [
      "Optimizing Portfolio:  88%|████████▊ | 223/252 [16:42<02:10,  4.50s/day]"
     ]
    },
    {
     "name": "stdout",
     "output_type": "stream",
     "text": [
      "[[ 0.048 -0.177  0.331 -0.308]\n",
      " [-0.072 -0.042 -0.583 -0.231]\n",
      " [ 0.245 -0.046 -0.63  -0.383]\n",
      " ...\n",
      " [-0.409  0.478  0.909  0.042]\n",
      " [-1.454 -2.829  0.998  1.542]\n",
      " [ 0.524  0.32  -0.408 -0.327]]\n"
     ]
    },
    {
     "name": "stderr",
     "output_type": "stream",
     "text": [
      "Optimizing Portfolio:  89%|████████▉ | 224/252 [16:47<02:05,  4.50s/day]"
     ]
    },
    {
     "name": "stdout",
     "output_type": "stream",
     "text": [
      "[[-0.741 -0.177  0.328 -0.338]\n",
      " [ 0.663 -0.054 -0.607 -0.289]\n",
      " [-0.935 -0.044 -0.63  -0.392]\n",
      " ...\n",
      " [-0.774  0.469  0.891 -0.038]\n",
      " [ 0.505 -2.843  1.004  1.418]\n",
      " [ 0.388  0.33  -0.392 -0.271]]\n"
     ]
    },
    {
     "name": "stderr",
     "output_type": "stream",
     "text": [
      "Optimizing Portfolio:  89%|████████▉ | 225/252 [16:51<02:01,  4.50s/day]"
     ]
    },
    {
     "name": "stdout",
     "output_type": "stream",
     "text": [
      "[[-0.868 -0.175  0.342 -0.308]\n",
      " [ 0.364 -0.058 -0.613 -0.307]\n",
      " [-0.293 -0.032 -0.617 -0.362]\n",
      " ...\n",
      " [ 0.702  0.482  0.922 -0.094]\n",
      " [-0.585 -2.839  0.998  1.416]\n",
      " [-0.461  0.325 -0.402 -0.309]]\n"
     ]
    },
    {
     "name": "stderr",
     "output_type": "stream",
     "text": [
      "Optimizing Portfolio:  90%|████████▉ | 226/252 [16:57<01:57,  4.50s/day]"
     ]
    },
    {
     "name": "stdout",
     "output_type": "stream",
     "text": [
      "[[-0.385 -0.173  0.349 -0.315]\n",
      " [ 0.345 -0.056 -0.613 -0.342]\n",
      " [-0.23  -0.03  -0.618 -0.436]\n",
      " ...\n",
      " [ 0.151  0.475  0.908 -0.133]\n",
      " [-0.335 -2.845  0.977  1.54 ]\n",
      " [-0.409  0.326 -0.401 -0.325]]\n"
     ]
    },
    {
     "name": "stderr",
     "output_type": "stream",
     "text": [
      "Optimizing Portfolio:  90%|█████████ | 227/252 [17:03<01:52,  4.51s/day]"
     ]
    },
    {
     "name": "stdout",
     "output_type": "stream",
     "text": [
      "[[-0.492 -0.173  0.351 -0.393]\n",
      " [-0.037 -0.058 -0.617 -0.338]\n",
      " [ 0.799 -0.034 -0.622 -0.42 ]\n",
      " ...\n",
      " [-0.048  0.479  0.919 -0.196]\n",
      " [-0.946 -2.848  0.971  1.583]\n",
      " [-2.391  0.308 -0.442 -0.274]]\n"
     ]
    },
    {
     "name": "stderr",
     "output_type": "stream",
     "text": [
      "Optimizing Portfolio:  90%|█████████ | 228/252 [17:08<01:48,  4.51s/day]"
     ]
    },
    {
     "name": "stdout",
     "output_type": "stream",
     "text": [
      "[[-0.68  -0.168  0.37  -0.284]\n",
      " [-1.186 -0.035 -0.58  -0.296]\n",
      " [-0.439 -0.032 -0.625 -0.454]\n",
      " ...\n",
      " [ 1.181  0.491  0.949 -0.27 ]\n",
      " [ 0.54  -2.848  0.963  1.592]\n",
      " [-0.136  0.304 -0.45  -0.274]]\n"
     ]
    },
    {
     "name": "stderr",
     "output_type": "stream",
     "text": [
      "Optimizing Portfolio:  91%|█████████ | 229/252 [17:13<01:43,  4.51s/day]"
     ]
    },
    {
     "name": "stdout",
     "output_type": "stream",
     "text": [
      "[[ 0.096 -0.229  0.332 -0.254]\n",
      " [-0.583 -0.084 -0.59  -0.317]\n",
      " [ 0.033  0.031 -0.623 -0.474]\n",
      " ...\n",
      " [ 0.093  0.395  0.957 -0.21 ]\n",
      " [-0.075 -2.862  0.965  1.735]\n",
      " [-0.145  0.229 -0.458 -0.294]]\n"
     ]
    },
    {
     "name": "stderr",
     "output_type": "stream",
     "text": [
      "Optimizing Portfolio:  91%|█████████▏| 230/252 [17:21<01:39,  4.53s/day]"
     ]
    },
    {
     "name": "stdout",
     "output_type": "stream",
     "text": [
      "[[-0.31  -0.226  0.339 -0.214]\n",
      " [-1.017 -0.077 -0.584 -0.332]\n",
      " [ 0.145  0.02  -0.641 -0.447]\n",
      " ...\n",
      " [-0.12   0.393  0.95  -0.177]\n",
      " [-0.156 -2.86   0.939  1.784]\n",
      " [-0.999  0.23  -0.461 -0.283]]\n"
     ]
    },
    {
     "name": "stderr",
     "output_type": "stream",
     "text": [
      "Optimizing Portfolio:  92%|█████████▏| 231/252 [17:25<01:35,  4.53s/day]"
     ]
    },
    {
     "name": "stdout",
     "output_type": "stream",
     "text": [
      "[[ 0.308 -0.223  0.336 -0.231]\n",
      " [-0.819 -0.069 -0.577 -0.272]\n",
      " [ 1.266  0.013 -0.65  -0.448]\n",
      " ...\n",
      " [ 1.7    0.413  0.996 -0.15 ]\n",
      " [ 0.556 -2.857  0.938  1.755]\n",
      " [ 0.748  0.233 -0.462 -0.248]]\n"
     ]
    },
    {
     "name": "stderr",
     "output_type": "stream",
     "text": [
      "Optimizing Portfolio:  92%|█████████▏| 232/252 [17:30<01:30,  4.53s/day]"
     ]
    },
    {
     "name": "stdout",
     "output_type": "stream",
     "text": [
      "[[ 0.157 -0.226  0.332 -0.225]\n",
      " [ 0.281 -0.08  -0.593 -0.358]\n",
      " [-0.081  0.018 -0.645 -0.316]\n",
      " ...\n",
      " [ 0.391  0.425  1.019 -0.205]\n",
      " [-0.284 -2.857  0.939  1.909]\n",
      " [-0.706  0.223 -0.48  -0.26 ]]\n"
     ]
    },
    {
     "name": "stderr",
     "output_type": "stream",
     "text": [
      "Optimizing Portfolio:  92%|█████████▏| 233/252 [17:35<01:26,  4.53s/day]"
     ]
    },
    {
     "name": "stdout",
     "output_type": "stream",
     "text": [
      "[[-0.25  -0.222  0.341 -0.149]\n",
      " [ 0.936 -0.088 -0.606 -0.337]\n",
      " [-0.364  0.014 -0.646 -0.339]\n",
      " ...\n",
      " [ 0.856  0.433  1.035 -0.25 ]\n",
      " [ 0.258 -2.855  0.95   1.725]\n",
      " [-0.539  0.226 -0.476 -0.288]]\n"
     ]
    },
    {
     "name": "stderr",
     "output_type": "stream",
     "text": [
      "Optimizing Portfolio:  93%|█████████▎| 234/252 [17:39<01:21,  4.53s/day]"
     ]
    },
    {
     "name": "stdout",
     "output_type": "stream",
     "text": [
      "[[ 0.264 -0.217  0.35  -0.137]\n",
      " [ 0.24  -0.089 -0.606 -0.415]\n",
      " [ 0.109  0.005 -0.653 -0.306]\n",
      " ...\n",
      " [ 0.258  0.435  1.042 -0.31 ]\n",
      " [-0.682 -2.858  0.933  1.917]\n",
      " [ 0.402  0.225 -0.479 -0.32 ]]\n"
     ]
    },
    {
     "name": "stderr",
     "output_type": "stream",
     "text": [
      "Optimizing Portfolio:  93%|█████████▎| 235/252 [17:44<01:17,  4.53s/day]"
     ]
    },
    {
     "name": "stdout",
     "output_type": "stream",
     "text": [
      "[[ 0.473 -0.222  0.334 -0.259]\n",
      " [-0.624 -0.077 -0.586 -0.411]\n",
      " [ 0.374  0.003 -0.656 -0.271]\n",
      " ...\n",
      " [-0.474  0.434  1.042 -0.398]\n",
      " [ 0.428 -2.86   0.981  1.84 ]\n",
      " [ 0.548  0.231 -0.468 -0.352]]\n"
     ]
    },
    {
     "name": "stderr",
     "output_type": "stream",
     "text": [
      "Optimizing Portfolio:  94%|█████████▎| 236/252 [17:48<01:12,  4.53s/day]"
     ]
    },
    {
     "name": "stdout",
     "output_type": "stream",
     "text": [
      "[[ 0.194 -0.224  0.323 -0.242]\n",
      " [-0.024 -0.069 -0.568 -0.421]\n",
      " [ 0.118  0.003 -0.65  -0.271]\n",
      " ...\n",
      " [ 0.278  0.44   1.055 -0.471]\n",
      " [ 1.754 -2.86   1.011  1.854]\n",
      " [ 0.359  0.236 -0.455 -0.352]]\n"
     ]
    },
    {
     "name": "stderr",
     "output_type": "stream",
     "text": [
      "Optimizing Portfolio:  94%|█████████▍| 237/252 [17:55<01:08,  4.54s/day]"
     ]
    },
    {
     "name": "stdout",
     "output_type": "stream",
     "text": [
      "[[ 0.284 -0.224  0.328 -0.225]\n",
      " [ 0.105 -0.077 -0.582 -0.464]\n",
      " [-0.016  0.007 -0.648 -0.271]\n",
      " ...\n",
      " [ 1.525 -2.862  1.044  1.878]\n",
      " [-1.498  0.226 -0.475 -0.321]\n",
      " [-0.012  0.946 -0.714 -0.407]]\n"
     ]
    },
    {
     "name": "stderr",
     "output_type": "stream",
     "text": [
      "Optimizing Portfolio:  94%|█████████▍| 238/252 [18:03<01:03,  4.55s/day]"
     ]
    },
    {
     "name": "stdout",
     "output_type": "stream",
     "text": [
      "[[-0.226 -0.223  0.338 -0.204]\n",
      " [ 0.758 -0.08  -0.581 -0.532]\n",
      " [ 0.408  0.012 -0.641 -0.252]\n",
      " ...\n",
      " [ 1.166 -2.855  1.07   1.809]\n",
      " [ 0.388  0.228 -0.464 -0.271]\n",
      " [-1.055  0.942 -0.716 -0.38 ]]\n"
     ]
    },
    {
     "name": "stderr",
     "output_type": "stream",
     "text": [
      "Optimizing Portfolio:  95%|█████████▍| 239/252 [18:11<00:59,  4.57s/day]"
     ]
    },
    {
     "name": "stdout",
     "output_type": "stream",
     "text": [
      "[[-0.136 -0.231  0.321 -0.182]\n",
      " [ 0.108 -0.073 -0.573 -0.482]\n",
      " [ 0.201  0.005 -0.652 -0.21 ]\n",
      " ...\n",
      " [ 0.24  -2.862  1.089  1.701]\n",
      " [-0.386  0.229 -0.465 -0.335]\n",
      " [ 1.157  0.982 -0.701 -0.379]]\n"
     ]
    },
    {
     "name": "stderr",
     "output_type": "stream",
     "text": [
      "Optimizing Portfolio:  95%|█████████▌| 240/252 [18:18<00:54,  4.58s/day]"
     ]
    },
    {
     "name": "stdout",
     "output_type": "stream",
     "text": [
      "[[-0.717 -0.225  0.353 -0.059]\n",
      " [-0.234 -0.083 -0.591 -0.463]\n",
      " [ 0.12   0.009 -0.65  -0.278]\n",
      " ...\n",
      " [-0.641 -2.862  1.104  1.796]\n",
      " [-0.349  0.224 -0.473 -0.365]\n",
      " [ 0.378  0.926 -0.734 -0.373]]\n"
     ]
    },
    {
     "name": "stderr",
     "output_type": "stream",
     "text": [
      "Optimizing Portfolio:  96%|█████████▌| 241/252 [18:25<00:50,  4.59s/day]"
     ]
    },
    {
     "name": "stdout",
     "output_type": "stream",
     "text": [
      "[[ 0.929 -0.224  0.339 -0.059]\n",
      " [ 0.719 -0.08  -0.589 -0.524]\n",
      " [ 1.994 -0.027 -0.692 -0.258]\n",
      " ...\n",
      " [ 0.566 -2.864  1.088  1.704]\n",
      " [ 0.948  0.226 -0.469 -0.338]\n",
      " [-1.158  0.902 -0.739 -0.39 ]]\n"
     ]
    },
    {
     "name": "stderr",
     "output_type": "stream",
     "text": [
      "Optimizing Portfolio:  96%|█████████▌| 242/252 [18:33<00:46,  4.60s/day]"
     ]
    },
    {
     "name": "stdout",
     "output_type": "stream",
     "text": [
      "[[ 0.221 -0.23   0.319 -0.028]\n",
      " [ 0.142 -0.082 -0.596 -0.5  ]\n",
      " [-0.098 -0.044 -0.716 -0.261]\n",
      " ...\n",
      " [ 1.256 -2.866  1.12   1.567]\n",
      " [-0.073  0.225 -0.474 -0.451]\n",
      " [-0.924  0.88  -0.754 -0.352]]\n"
     ]
    },
    {
     "name": "stderr",
     "output_type": "stream",
     "text": [
      "Optimizing Portfolio:  96%|█████████▋| 243/252 [18:40<00:41,  4.61s/day]"
     ]
    },
    {
     "name": "stdout",
     "output_type": "stream",
     "text": [
      "[[ 0.871 -0.232  0.312 -0.012]\n",
      " [ 0.663 -0.094 -0.611 -0.401]\n",
      " [-0.091 -0.036 -0.701 -0.293]\n",
      " ...\n",
      " [-0.445 -2.861  1.099  1.688]\n",
      " [-0.9    0.219 -0.485 -0.452]\n",
      " [ 0.419  0.891 -0.744 -0.406]]\n"
     ]
    },
    {
     "name": "stderr",
     "output_type": "stream",
     "text": [
      "Optimizing Portfolio:  97%|█████████▋| 244/252 [18:46<00:36,  4.62s/day]"
     ]
    },
    {
     "name": "stdout",
     "output_type": "stream",
     "text": [
      "[[-0.548 -0.239  0.292 -0.128]\n",
      " [ 0.186 -0.1   -0.625 -0.425]\n",
      " [-0.237 -0.023 -0.688 -0.258]\n",
      " ...\n",
      " [-0.836 -2.86   1.093  1.769]\n",
      " [ 1.579  0.233 -0.452 -0.451]\n",
      " [-0.946  0.884 -0.751 -0.404]]\n"
     ]
    },
    {
     "name": "stderr",
     "output_type": "stream",
     "text": [
      "Optimizing Portfolio:  97%|█████████▋| 245/252 [18:56<00:32,  4.64s/day]"
     ]
    },
    {
     "name": "stdout",
     "output_type": "stream",
     "text": [
      "[[ 0.142 -0.117  0.319 -0.113]\n",
      " [ 0.126 -0.108 -0.641 -0.443]\n",
      " [ 0.674 -0.028 -0.695 -0.288]\n",
      " ...\n",
      " [-0.099 -2.858  1.095  1.689]\n",
      " [ 0.116  0.239 -0.456 -0.443]\n",
      " [ 0.732  0.882 -0.752 -0.381]]\n"
     ]
    },
    {
     "name": "stderr",
     "output_type": "stream",
     "text": [
      "Optimizing Portfolio:  98%|█████████▊| 246/252 [19:02<00:27,  4.64s/day]"
     ]
    },
    {
     "name": "stdout",
     "output_type": "stream",
     "text": [
      "[[ 0.667 -0.118  0.314 -0.086]\n",
      " [ 0.063 -0.106 -0.639 -0.486]\n",
      " [ 0.66  -0.026 -0.694 -0.316]\n",
      " ...\n",
      " [ 0.395 -2.862  1.111  1.74 ]\n",
      " [-0.676  0.238 -0.462 -0.403]\n",
      " [ 0.671  0.918 -0.737 -0.378]]\n"
     ]
    },
    {
     "name": "stderr",
     "output_type": "stream",
     "text": [
      "Optimizing Portfolio:  98%|█████████▊| 247/252 [19:09<00:23,  4.65s/day]"
     ]
    },
    {
     "name": "stdout",
     "output_type": "stream",
     "text": [
      "[[-0.235 -0.12   0.305 -0.099]\n",
      " [-0.312 -0.108 -0.645 -0.585]\n",
      " [-1.516 -0.022 -0.689 -0.324]\n",
      " ...\n",
      " [-0.046 -2.86   1.098  1.79 ]\n",
      " [ 0.293  0.236 -0.469 -0.545]\n",
      " [-0.507  0.935 -0.725 -0.431]]\n"
     ]
    },
    {
     "name": "stderr",
     "output_type": "stream",
     "text": [
      "Optimizing Portfolio:  98%|█████████▊| 248/252 [19:16<00:18,  4.66s/day]"
     ]
    },
    {
     "name": "stdout",
     "output_type": "stream",
     "text": [
      "[[-0.416 -0.119  0.31  -0.134]\n",
      " [-0.006 -0.111 -0.648 -0.625]\n",
      " [ 0.164 -0.022 -0.69  -0.35 ]\n",
      " ...\n",
      " [ 0.108 -2.862  1.114  1.696]\n",
      " [-0.704  0.234 -0.47  -0.598]\n",
      " [ 1.47   0.934 -0.731 -0.431]]\n"
     ]
    },
    {
     "name": "stderr",
     "output_type": "stream",
     "text": [
      "Optimizing Portfolio:  99%|█████████▉| 249/252 [19:23<00:14,  4.67s/day]"
     ]
    },
    {
     "name": "stdout",
     "output_type": "stream",
     "text": [
      "[[ 0.492 -0.12   0.308 -0.187]\n",
      " [ 0.525 -0.111 -0.648 -0.586]\n",
      " [ 0.068 -0.03  -0.7   -0.386]\n",
      " ...\n",
      " [-0.121 -2.863  1.102  1.879]\n",
      " [-0.033  0.236 -0.464 -0.547]\n",
      " [ 0.76   0.958 -0.72  -0.442]]\n"
     ]
    },
    {
     "name": "stderr",
     "output_type": "stream",
     "text": [
      "Optimizing Portfolio:  99%|█████████▉| 250/252 [19:31<00:09,  4.68s/day]"
     ]
    },
    {
     "name": "stdout",
     "output_type": "stream",
     "text": [
      "[[-0.015 -0.114  0.325 -0.186]\n",
      " [ 0.764 -0.117 -0.661 -0.609]\n",
      " [-0.437 -0.031 -0.703 -0.343]\n",
      " ...\n",
      " [ 0.235 -2.86   1.094  1.816]\n",
      " [-0.525  0.234 -0.47  -0.51 ]\n",
      " [-0.125  0.944 -0.73  -0.671]]\n"
     ]
    },
    {
     "name": "stderr",
     "output_type": "stream",
     "text": [
      "Optimizing Portfolio: 100%|█████████▉| 251/252 [19:38<00:04,  4.69s/day]"
     ]
    },
    {
     "name": "stdout",
     "output_type": "stream",
     "text": [
      "[[-0.815 -0.127  0.323 -0.099]\n",
      " [-0.313 -0.194 -0.664 -0.649]\n",
      " [ 0.034 -0.109 -0.698 -0.334]\n",
      " ...\n",
      " [-0.279 -2.869  1.033  1.748]\n",
      " [ 0.188  0.223 -0.475 -0.522]\n",
      " [-1.495  0.91  -0.687 -0.714]]\n"
     ]
    },
    {
     "name": "stderr",
     "output_type": "stream",
     "text": [
      "Optimizing Portfolio: 100%|██████████| 252/252 [19:48<00:00,  4.71s/day]\n"
     ]
    }
   ],
   "source": [
    "trades = {}\n",
    "port = {}\n",
    "\n",
    "for dt in tqdm(my_dates, desc='Optimizing Portfolio', unit='day'):\n",
    "    date = dt.strftime('%Y%m%d')\n",
    "\n",
    "    result = form_optimal_portfolio(frames[date], previous_holdings, risk_aversion)\n",
    "    trades[date] = build_tradelist(previous_holdings, result)\n",
    "    port[date] = result\n",
    "    previous_holdings = convert_to_previous(result)"
   ]
  },
  {
   "cell_type": "markdown",
   "metadata": {},
   "source": [
    "## Profit-and-Loss (PnL) attribution (TODO)\n",
    "\n",
    "Profit and Loss is the aggregate realized daily returns of the assets, weighted by the optimal portfolio holdings chosen, and summed up to get the portfolio's profit and loss.\n",
    "\n",
    "The PnL attributed to the alpha factors equals the factor returns times factor exposures for the alpha factors.  \n",
    "\n",
    "$$\n",
    "\\mbox{PnL}_{alpha}= f \\times b_{alpha}\n",
    "$$\n",
    "\n",
    "Similarly, the PnL attributed to the risk factors equals the factor returns times factor exposures of the risk factors.\n",
    "\n",
    "$$\n",
    "\\mbox{PnL}_{risk} = f \\times b_{risk}\n",
    "$$\n",
    "\n",
    "In the code below, in the function `build_pnl_attribution` calculate the PnL attributed to the alpha factors, the PnL attributed to the risk factors, and attribution to cost. "
   ]
  },
  {
   "cell_type": "code",
   "execution_count": 44,
   "metadata": {},
   "outputs": [],
   "source": [
    "## assumes v, w are pandas Series \n",
    "def partial_dot_product(v, w):\n",
    "    common = v.index.intersection(w.index)\n",
    "    return np.sum(v[common] * w[common])\n",
    "\n",
    "def build_pnl_attribution(): \n",
    "\n",
    "    df = pd.DataFrame(index = my_dates)\n",
    "    \n",
    "    for dt in my_dates:\n",
    "        date = dt.strftime('%Y%m%d')\n",
    "\n",
    "        p = port[date]\n",
    "        fr = facret[date]\n",
    "\n",
    "        mf = p['opt.portfolio'].merge(frames[date], how = 'left', on = \"Barrid\")\n",
    "        \n",
    "        mf['DlyReturn'] = wins(mf['DlyReturn'], -0.5, 0.5)\n",
    "        df.at[dt,\"daily.pnl\"] = np.sum(mf['h.opt'] * mf['DlyReturn'])\n",
    "        \n",
    "        # TODO: Implement\n",
    "    \n",
    "        df.at[dt,\"attribution.alpha.pnl\"] = partial_dot_product(fr, p[\"alpha.exposures\"])\n",
    "        df.at[dt,\"attribution.risk.pnl\"] = partial_dot_product(fr, p[\"risk.exposures\"])\n",
    "        df.at[dt,\"attribution.cost\"] = p[\"total.cost\"]\n",
    "    return df"
   ]
  },
  {
   "cell_type": "code",
   "execution_count": 45,
   "metadata": {},
   "outputs": [
    {
     "data": {
      "image/png": "[encoded data removed]",
      "text/plain": [
       "<matplotlib.figure.Figure at 0x7f0c116a9358>"
      ]
     },
     "metadata": {
      "needs_background": "light"
     },
     "output_type": "display_data"
    }
   ],
   "source": [
    "attr = build_pnl_attribution()\n",
    "print(attr)\n",
    "for column in attr.columns:\n",
    "        plt.plot(attr[column].cumsum(), label=column)\n",
    "plt.legend(loc='upper left')\n",
    "plt.xlabel('Date')\n",
    "plt.ylabel('PnL Attribution')\n",
    "plt.show()"
   ]
  },
  {
   "cell_type": "markdown",
   "metadata": {},
   "source": [
    "## Build portfolio characteristics (TODO)\n",
    "Calculate the sum of long positions, short positions, net positions, gross market value, and amount of dollars traded.\n",
    "\n",
    "In the code below, in the function `build_portfolio_characteristics` calculate the sum of long positions, short positions, net positions, gross market value, and amount of dollars traded.  "
   ]
  },
  {
   "cell_type": "code",
   "execution_count": 46,
   "metadata": {},
   "outputs": [],
   "source": [
    "def build_portfolio_characteristics(): \n",
    "    df = pd.DataFrame(index = my_dates)\n",
    "    \n",
    "    for dt in my_dates:\n",
    "        date = dt.strftime('%Y%m%d')\n",
    "  \n",
    "        p = port[date]\n",
    "        tradelist = trades[date]\n",
    "        h = p['opt.portfolio']['h.opt']\n",
    "        \n",
    "        # TODO: Implement\n",
    "        \n",
    "        df.at[dt,\"long\"] = sum(h>0)\n",
    "        df.at[dt,\"short\"] = sum(h<0)\n",
    "        df.at[dt,\"net\"] = sum(h)\n",
    "        df.at[dt,\"gmv\"] =  np.sum(abs(h))\n",
    "        df.at[dt,\"traded\"] = np.sum(abs(tradelist['h.opt'] - tradelist['h.opt.previous']))\n",
    "    return df"
   ]
  },
  {
   "cell_type": "code",
   "execution_count": 49,
   "metadata": {},
   "outputs": [
    {
     "name": "stdout",
     "output_type": "stream",
     "text": [
      "              long   short           net           gmv        traded\n",
      "2004-01-06  1166.0  1099.0   -206.098634  3.928277e+06  3.928277e+06\n",
      "2004-01-07  1171.0  1113.0  14655.832536  4.472044e+06  3.115802e+06\n",
      "2004-01-08  1174.0  1110.0  23587.959054  4.729432e+06  2.669798e+06\n",
      "2004-01-09  1183.0  1106.0  75412.548921  4.673010e+06  2.530626e+06\n",
      "2004-01-12  1166.0  1134.0  49507.079499  4.359753e+06  2.423442e+06\n",
      "2004-01-13  1180.0  1117.0  17920.098152  4.272783e+06  2.312430e+06\n",
      "2004-01-14  1200.0  1109.0  23237.890198  4.287726e+06  2.208588e+06\n",
      "2004-01-15  1190.0  1111.0  24105.735413  4.189009e+06  2.196137e+06\n",
      "2004-01-16  1172.0  1137.0  12785.738185  4.229602e+06  2.145945e+06\n",
      "2004-01-20  1157.0  1147.0  12693.957282  3.979332e+06  2.211365e+06\n",
      "2004-01-21  1201.0  1110.0  46488.522535  3.736810e+06  2.079851e+06\n",
      "2004-01-22  1232.0  1101.0  41471.357837  3.461234e+06  1.887599e+06\n",
      "2004-01-23  1216.0  1109.0  50351.526046  3.426883e+06  1.844883e+06\n",
      "2004-01-26  1194.0  1130.0  26426.822083  3.314349e+06  1.692495e+06\n",
      "2004-01-27  1206.0  1125.0  44106.130347  3.313138e+06  1.783667e+06\n",
      "2004-01-28  1217.0  1119.0  46914.002512  3.370827e+06  1.851054e+06\n",
      "2004-01-29  1211.0  1115.0  21207.256824  3.497011e+06  1.926989e+06\n",
      "2004-01-30  1201.0  1112.0  19385.265816  3.503331e+06  1.907596e+06\n",
      "2004-02-02  1186.0  1115.0  39941.595761  3.430804e+06  1.916913e+06\n",
      "2004-02-03  1174.0  1122.0  10325.127222  3.291742e+06  1.927537e+06\n",
      "2004-02-04  1204.0  1095.0  30638.647180  3.367267e+06  1.948008e+06\n",
      "2004-02-05  1202.0  1092.0  27862.903803  3.436210e+06  1.985519e+06\n",
      "2004-02-06  1173.0  1106.0  28936.932823  3.229599e+06  1.910178e+06\n",
      "2004-02-09  1178.0  1112.0  21727.694298  3.170531e+06  1.792527e+06\n",
      "2004-02-10  1175.0  1132.0  25920.633218  3.310690e+06  1.922617e+06\n",
      "2004-02-11  1187.0  1125.0  13034.584353  3.458517e+06  1.881020e+06\n",
      "2004-02-12  1185.0  1134.0  43786.017275  3.570146e+06  1.960800e+06\n",
      "2004-02-13  1193.0  1131.0  11948.018602  3.590116e+06  2.089812e+06\n",
      "2004-02-17  1219.0  1106.0  47147.743062  3.677742e+06  2.029082e+06\n",
      "2004-02-18  1205.0  1115.0  35694.781051  3.721524e+06  2.044692e+06\n",
      "...            ...     ...           ...           ...           ...\n",
      "2004-11-22  1244.0  1199.0  56742.120485  5.288389e+06  2.530589e+06\n",
      "2004-11-23  1266.0  1164.0  51615.045587  5.208264e+06  2.514916e+06\n",
      "2004-11-24  1274.0  1165.0  50411.489015  5.316582e+06  2.481896e+06\n",
      "2004-11-26  1246.0  1195.0  57329.569994  5.493067e+06  2.640995e+06\n",
      "2004-11-29  1259.0  1193.0  53486.461504  5.868838e+06  2.767478e+06\n",
      "2004-11-30  1248.0  1205.0   7429.703039  6.300980e+06  3.111506e+06\n",
      "2004-12-01  1274.0  1189.0  53947.233528  6.410509e+06  3.232844e+06\n",
      "2004-12-02  1283.0  1170.0  48634.049044  6.372725e+06  3.050757e+06\n",
      "2004-12-03  1272.0  1196.0  52084.968915  6.303208e+06  3.020972e+06\n",
      "2004-12-06  1289.0  1177.0  58433.220037  6.362944e+06  2.956975e+06\n",
      "2004-12-07  1269.0  1197.0  27865.031411  6.124158e+06  3.115355e+06\n",
      "2004-12-08  1263.0  1198.0  28669.511622  6.101631e+06  2.871206e+06\n",
      "2004-12-09  1242.0  1203.0  34049.982518  6.018044e+06  2.826443e+06\n",
      "2004-12-10  1265.0  1183.0  50165.952602  6.254071e+06  2.899409e+06\n",
      "2004-12-13  1286.0  1166.0  54487.479803  6.185552e+06  2.990507e+06\n",
      "2004-12-14  1266.0  1188.0  55343.718794  5.982860e+06  3.032535e+06\n",
      "2004-12-15  1276.0  1179.0  36232.536979  5.826438e+06  2.828176e+06\n",
      "2004-12-16  1261.0  1206.0  44562.630432  5.791793e+06  2.756889e+06\n",
      "2004-12-17  1254.0  1221.0  35221.185346  5.606005e+06  2.905316e+06\n",
      "2004-12-20  1264.0  1205.0  76229.005912  5.505958e+06  2.806343e+06\n",
      "2004-12-21  1275.0  1198.0  18198.858966  5.058940e+06  2.700394e+06\n",
      "2004-12-22  1269.0  1202.0  50171.880950  4.941768e+06  2.656208e+06\n",
      "2004-12-23  1250.0  1228.0  92772.429814  5.028449e+06  2.498540e+06\n",
      "2004-12-27  1272.0  1212.0  80114.979617  5.202613e+06  2.495826e+06\n",
      "2004-12-28  1281.0  1201.0  54054.401186  5.570200e+06  2.742284e+06\n",
      "2004-12-29  1264.0  1215.0  30340.608616  5.821763e+06  2.887193e+06\n",
      "2004-12-30  1286.0  1207.0  41064.748074  6.317928e+06  3.017280e+06\n",
      "2004-12-31  1285.0  1208.0  44115.554540  6.880257e+06  3.266952e+06\n",
      "2005-01-03  1296.0  1201.0  27454.343862  7.526813e+06  3.601950e+06\n",
      "2005-01-04  1284.0  1208.0  45844.671525  8.181635e+06  3.914472e+06\n",
      "\n",
      "[252 rows x 5 columns]\n"
     ]
    },
    {
     "data": {
      "image/png": "[encoded data removed]",
      "text/plain": [
       "<matplotlib.figure.Figure at 0x7f0c11491780>"
      ]
     },
     "metadata": {
      "needs_background": "light"
     },
     "output_type": "display_data"
    }
   ],
   "source": [
    "pchar = build_portfolio_characteristics()\n",
    "print(pchar)\n",
    "for column in pchar.columns:\n",
    "        plt.plot(pchar[column], label=column)\n",
    "plt.legend(loc='upper left')\n",
    "plt.xlabel('Date')\n",
    "plt.ylabel('Portfolio')\n",
    "plt.show()"
   ]
  },
  {
   "cell_type": "markdown",
   "metadata": {},
   "source": [
    "#### Optional\n",
    "Choose additional metrics to evaluate your portfolio."
   ]
  },
  {
   "cell_type": "code",
   "execution_count": 48,
   "metadata": {},
   "outputs": [],
   "source": [
    "# Optional\n"
   ]
  },
  {
   "cell_type": "markdown",
   "metadata": {},
   "source": [
    "## Submission\n",
    "Now that you're done with the project, it's time to submit it. Click the submit button in the bottom right. One of our reviewers will give you feedback on your project with a pass or not passed grade."
   ]
  }
 ],
 "metadata": {
  "kernelspec": {
   "display_name": "Python 3",
   "language": "python",
   "name": "python3"
  },
  "language_info": {
   "codemirror_mode": {
    "name": "ipython",
    "version": 3
   },
   "file_extension": ".py",
   "mimetype": "text/x-python",
   "name": "python",
   "nbconvert_exporter": "python",
   "pygments_lexer": "ipython3",
   "version": "3.6.3"
  }
 },
 "nbformat": 4,
 "nbformat_minor": 2
}
